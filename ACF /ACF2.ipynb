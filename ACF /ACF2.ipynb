{
 "cells": [
  {
   "cell_type": "code",
   "execution_count": 474,
   "id": "3e9d030b-a9da-4020-b287-389693510226",
   "metadata": {},
   "outputs": [],
   "source": [
    "import pandas as pd\n",
    "import numpy as np\n",
    "from IPython.display import display\n",
    "import matplotlib.pyplot as plt\n",
    "import matplotlib.patches as mpatches\n",
    "import statsmodels.api as sm\n",
    "import statsmodels.formula.api as smf\n",
    "plt.style.use('seaborn-whitegrid')\n",
    "from sklearn import datasets\n",
    "from stargazer.stargazer import Stargazer\n",
    "from IPython.core.display import HTML"
   ]
  },
  {
   "cell_type": "code",
   "execution_count": 475,
   "id": "1e00341d-3ec3-4170-a67a-eb594805a6cf",
   "metadata": {},
   "outputs": [
    {
     "name": "stdout",
     "output_type": "stream",
     "text": [
      "The autoreload extension is already loaded. To reload it, use:\n",
      "  %reload_ext autoreload\n"
     ]
    }
   ],
   "source": [
    "# magic to reload modules automatically\n",
    "%load_ext autoreload\n",
    "%autoreload 2"
   ]
  },
  {
   "cell_type": "code",
   "execution_count": 476,
   "id": "634c4d93-325c-40a4-b58f-a7174f75c0a5",
   "metadata": {},
   "outputs": [],
   "source": [
    "#!pip install stargazer\n",
    "#conda install -c conda-forge statsmodels"
   ]
  },
  {
   "cell_type": "code",
   "execution_count": 477,
   "id": "ddf7ee79-e8a6-48b4-aac8-6ae39264d6e3",
   "metadata": {
    "tags": []
   },
   "outputs": [],
   "source": [
    "rt = pd.read_excel('rt.xlsx')\n",
    "msci = pd.read_excel('data/KP.xlsx', skiprows=2)\n",
    "esg_esg = pd.read_excel('esg_esg.xlsx')\n",
    "it = pd.read_excel('it.xlsx')\n",
    "ff = pd.read_excel('ff.xlsx')\n",
    "esg_esg.rename(columns={'Unnamed: 0':'scores'}, inplace=True)\n",
    "rt = rt.replace(0, np.nan)\n",
    "rt.dropna(how='all', axis='index', thresh=4, inplace=True)\n",
    "rt = rt.replace(np.nan, 0)"
   ]
  },
  {
   "cell_type": "code",
   "execution_count": 478,
   "id": "647653f6-b408-4d69-aa41-9d9a533cd490",
   "metadata": {},
   "outputs": [],
   "source": [
    "pd.set_option('display.max_columns',125) # I want to see all the columns\n",
    "pd.set_option('display.max_rows',600) "
   ]
  },
  {
   "cell_type": "code",
   "execution_count": 479,
   "id": "ea2531a3-85e1-4a7f-9e2e-a7e84171779c",
   "metadata": {
    "tags": []
   },
   "outputs": [],
   "source": [
    "it = it.loc[:,['Unnamed: 0.1','DAX Index','OMXS30B Index','OMXC25 Index','OMX Index']]\n",
    "\n",
    "for i in it.columns[1:]:\n",
    "    it.loc[:,i] = it.loc[:,i].pct_change(1)*100\n",
    "it.drop(index=[0], inplace=True)\n",
    "it.rename(columns={'Unnamed: 0.1' : 'date'}, inplace=True)\n",
    "rt.drop(columns='Unnamed: 0', inplace=True)\n",
    "ff.drop(columns='Unnamed: 0', inplace=True)\n",
    "rt = rt.loc[:,['date','port_low','port_mid','port_high']]"
   ]
  },
  {
   "cell_type": "code",
   "execution_count": 480,
   "id": "2ec7b95a-976b-4e23-9c4f-487a14216c09",
   "metadata": {
    "tags": []
   },
   "outputs": [],
   "source": [
    "msci.drop(index=[0,1,2], inplace=True)\n",
    "msci.rename(columns = {'Unnamed: 0' : 'date','Unnamed: 1' : 'MSCI_World', 'Unnamed: 2' : 'SPX', 'Unnamed: 3' : 'MSCI_Eur'}, inplace=True)\n",
    "msci['date'] = pd.to_datetime(msci['date'], format='%Y%m%d')\n",
    "for i in msci.columns[1:]:\n",
    "    msci.loc[:,i] = msci.loc[:,i].pct_change(1)*100\n",
    "msci.reset_index(inplace = True, drop = True)\n",
    "msci.drop(index=[0], inplace=True)"
   ]
  },
  {
   "cell_type": "code",
   "execution_count": 481,
   "id": "f4edf8b8-b600-449d-ac3e-e01054c109bb",
   "metadata": {
    "tags": []
   },
   "outputs": [],
   "source": [
    "rt = rt.merge(ff,on=['date'], how='left')\n",
    "rt = rt.merge(it,on=['date'], how='left')\n",
    "rt = rt.merge(msci,on=['date'], how='left')\n",
    "pd.set_option(\"display.precision\", 3)\n",
    "#rt['RF'] = rt['RF']*100\n",
    "rt.rename(columns = {'DAX Index' : 'DAX','OMXS30B Index' : 'S30','OMXC25 Index' : 'C25',\n",
    "                     'OMX Index' : 'OMX','Mkt-RF' : 'MktRF'}, inplace=True)"
   ]
  },
  {
   "cell_type": "code",
   "execution_count": 482,
   "id": "853cf380-9cc6-4e50-a9b7-bba559cb8013",
   "metadata": {
    "tags": []
   },
   "outputs": [],
   "source": [
    "filt = (rt['date'] >= pd.to_datetime('2013-01-01')) & (rt['date'] <= pd.to_datetime('2022-02-28')) \n",
    "rt = rt[filt]\n",
    "rt.dropna(how='all', axis='index', thresh=5, inplace=True)"
   ]
  },
  {
   "cell_type": "code",
   "execution_count": 483,
   "id": "4d21d1e2-4900-481e-b7a1-a7aaa5baab9a",
   "metadata": {},
   "outputs": [],
   "source": [
    "rt['MSCI_World'] = rt['MSCI_World'] - rt['RF']"
   ]
  },
  {
   "cell_type": "code",
   "execution_count": 484,
   "id": "568b9a16-e0d1-45b0-8c40-e8a4fd2cc53c",
   "metadata": {},
   "outputs": [
    {
     "data": {
      "text/html": [
       "<div>\n",
       "<style scoped>\n",
       "    .dataframe tbody tr th:only-of-type {\n",
       "        vertical-align: middle;\n",
       "    }\n",
       "\n",
       "    .dataframe tbody tr th {\n",
       "        vertical-align: top;\n",
       "    }\n",
       "\n",
       "    .dataframe thead th {\n",
       "        text-align: right;\n",
       "    }\n",
       "</style>\n",
       "<table border=\"1\" class=\"dataframe\">\n",
       "  <thead>\n",
       "    <tr style=\"text-align: right;\">\n",
       "      <th></th>\n",
       "      <th>port_low</th>\n",
       "      <th>port_mid</th>\n",
       "      <th>port_high</th>\n",
       "    </tr>\n",
       "  </thead>\n",
       "  <tbody>\n",
       "    <tr>\n",
       "      <th>count</th>\n",
       "      <td>2273.000</td>\n",
       "      <td>2273.000</td>\n",
       "      <td>2273.000</td>\n",
       "    </tr>\n",
       "    <tr>\n",
       "      <th>mean</th>\n",
       "      <td>0.078</td>\n",
       "      <td>0.041</td>\n",
       "      <td>0.048</td>\n",
       "    </tr>\n",
       "    <tr>\n",
       "      <th>std</th>\n",
       "      <td>1.049</td>\n",
       "      <td>1.023</td>\n",
       "      <td>1.076</td>\n",
       "    </tr>\n",
       "    <tr>\n",
       "      <th>min</th>\n",
       "      <td>-10.321</td>\n",
       "      <td>-10.736</td>\n",
       "      <td>-11.413</td>\n",
       "    </tr>\n",
       "    <tr>\n",
       "      <th>25%</th>\n",
       "      <td>-0.403</td>\n",
       "      <td>-0.429</td>\n",
       "      <td>-0.424</td>\n",
       "    </tr>\n",
       "    <tr>\n",
       "      <th>50%</th>\n",
       "      <td>0.124</td>\n",
       "      <td>0.077</td>\n",
       "      <td>0.084</td>\n",
       "    </tr>\n",
       "    <tr>\n",
       "      <th>75%</th>\n",
       "      <td>0.613</td>\n",
       "      <td>0.576</td>\n",
       "      <td>0.568</td>\n",
       "    </tr>\n",
       "    <tr>\n",
       "      <th>max</th>\n",
       "      <td>7.275</td>\n",
       "      <td>6.682</td>\n",
       "      <td>8.876</td>\n",
       "    </tr>\n",
       "  </tbody>\n",
       "</table>\n",
       "</div>"
      ],
      "text/plain": [
       "       port_low  port_mid  port_high\n",
       "count  2273.000  2273.000   2273.000\n",
       "mean      0.078     0.041      0.048\n",
       "std       1.049     1.023      1.076\n",
       "min     -10.321   -10.736    -11.413\n",
       "25%      -0.403    -0.429     -0.424\n",
       "50%       0.124     0.077      0.084\n",
       "75%       0.613     0.576      0.568\n",
       "max       7.275     6.682      8.876"
      ]
     },
     "execution_count": 484,
     "metadata": {},
     "output_type": "execute_result"
    }
   ],
   "source": [
    "filt = rt[['port_low','port_mid','port_high']].describe()\n",
    "filt\n",
    "#print(filt.to_latex(index = True, multirow = True))"
   ]
  },
  {
   "cell_type": "code",
   "execution_count": 485,
   "id": "9466d085-8512-4864-a915-2ba37188fb9d",
   "metadata": {
    "tags": []
   },
   "outputs": [
    {
     "name": "stdout",
     "output_type": "stream",
     "text": [
      "\\begin{tabular}{lrrrrrrrrrrrrrr}\n",
      "\\toprule\n",
      "{} &  port\\_low &  port\\_mid &  port\\_high &     MktRF &       SMB &       HML &       RMW &       CMA &        RF &       DAX &       S30 &       C25 &       OMX &  MSCI\\_World \\\\\n",
      "\\midrule\n",
      "count &  2273.000 &  2273.000 &   2273.000 &  2273.000 &  2273.000 &  2273.000 &  2273.000 &  2273.000 &  2273.000 &  2273.000 &  2273.000 &  2273.000 &  2273.000 &    2273.000 \\\\\n",
      "mean  &     0.078 &     0.041 &      0.048 &     0.029 &     0.008 &    -0.007 &     0.014 &    -0.009 &     0.002 &     0.034 &     0.031 &     0.054 &     0.031 &       0.032 \\\\\n",
      "std   &     1.049 &     1.023 &      1.076 &     1.015 &     0.420 &     0.537 &     0.303 &     0.296 &     0.004 &     1.218 &     1.113 &     1.053 &     1.113 &       0.893 \\\\\n",
      "min   &   -10.321 &   -10.736 &    -11.413 &   -12.010 &    -3.320 &    -3.030 &    -1.740 &    -1.740 &     0.000 &   -12.239 &   -10.571 &    -8.029 &   -10.571 &      -9.925 \\\\\n",
      "25\\%   &    -0.403 &    -0.429 &     -0.424 &    -0.440 &    -0.230 &    -0.280 &    -0.160 &    -0.190 &     0.000 &    -0.491 &    -0.533 &    -0.514 &    -0.532 &      -0.297 \\\\\n",
      "50\\%   &     0.124 &     0.077 &      0.084 &     0.070 &     0.010 &    -0.030 &     0.030 &    -0.010 &     0.000 &     0.070 &     0.058 &     0.063 &     0.058 &       0.065 \\\\\n",
      "75\\%   &     0.613 &     0.576 &      0.568 &     0.550 &     0.250 &     0.260 &     0.190 &     0.160 &     0.000 &     0.641 &     0.639 &     0.673 &     0.639 &       0.449 \\\\\n",
      "max   &     7.275 &     6.682 &      8.876 &     8.540 &     1.860 &     4.380 &     2.690 &     1.310 &     0.010 &    10.976 &     7.089 &     5.073 &     7.089 &       8.760 \\\\\n",
      "\\bottomrule\n",
      "\\end{tabular}\n",
      "\n"
     ]
    }
   ],
   "source": [
    "ame = ['SPX','MSCI_Eur']\n",
    "rt.drop(columns=ame, inplace = True)\n",
    "filt2 = rt.describe()\n",
    "#print(filt2.to_latex(index = True, multirow = True))"
   ]
  },
  {
   "cell_type": "code",
   "execution_count": 486,
   "id": "2753c623-4662-4c85-8d2a-a4738a363fc4",
   "metadata": {},
   "outputs": [
    {
     "data": {
      "text/html": [
       "<div>\n",
       "<style scoped>\n",
       "    .dataframe tbody tr th:only-of-type {\n",
       "        vertical-align: middle;\n",
       "    }\n",
       "\n",
       "    .dataframe tbody tr th {\n",
       "        vertical-align: top;\n",
       "    }\n",
       "\n",
       "    .dataframe thead th {\n",
       "        text-align: right;\n",
       "    }\n",
       "</style>\n",
       "<table border=\"1\" class=\"dataframe\">\n",
       "  <thead>\n",
       "    <tr style=\"text-align: right;\">\n",
       "      <th></th>\n",
       "      <th>port_low</th>\n",
       "      <th>port_mid</th>\n",
       "      <th>port_high</th>\n",
       "      <th>MktRF</th>\n",
       "      <th>SMB</th>\n",
       "      <th>HML</th>\n",
       "      <th>RMW</th>\n",
       "      <th>CMA</th>\n",
       "      <th>RF</th>\n",
       "      <th>DAX</th>\n",
       "      <th>S30</th>\n",
       "      <th>C25</th>\n",
       "      <th>OMX</th>\n",
       "      <th>MSCI_World</th>\n",
       "    </tr>\n",
       "  </thead>\n",
       "  <tbody>\n",
       "    <tr>\n",
       "      <th>count</th>\n",
       "      <td>2273.000</td>\n",
       "      <td>2273.000</td>\n",
       "      <td>2273.000</td>\n",
       "      <td>2273.000</td>\n",
       "      <td>2273.000</td>\n",
       "      <td>2273.000</td>\n",
       "      <td>2273.000</td>\n",
       "      <td>2273.000</td>\n",
       "      <td>2273.000</td>\n",
       "      <td>2273.000</td>\n",
       "      <td>2273.000</td>\n",
       "      <td>2273.000</td>\n",
       "      <td>2273.000</td>\n",
       "      <td>2273.000</td>\n",
       "    </tr>\n",
       "    <tr>\n",
       "      <th>mean</th>\n",
       "      <td>0.078</td>\n",
       "      <td>0.041</td>\n",
       "      <td>0.048</td>\n",
       "      <td>0.029</td>\n",
       "      <td>0.008</td>\n",
       "      <td>-0.007</td>\n",
       "      <td>0.014</td>\n",
       "      <td>-0.009</td>\n",
       "      <td>0.002</td>\n",
       "      <td>0.034</td>\n",
       "      <td>0.031</td>\n",
       "      <td>0.054</td>\n",
       "      <td>0.031</td>\n",
       "      <td>0.032</td>\n",
       "    </tr>\n",
       "    <tr>\n",
       "      <th>std</th>\n",
       "      <td>1.049</td>\n",
       "      <td>1.023</td>\n",
       "      <td>1.076</td>\n",
       "      <td>1.015</td>\n",
       "      <td>0.420</td>\n",
       "      <td>0.537</td>\n",
       "      <td>0.303</td>\n",
       "      <td>0.296</td>\n",
       "      <td>0.004</td>\n",
       "      <td>1.218</td>\n",
       "      <td>1.113</td>\n",
       "      <td>1.053</td>\n",
       "      <td>1.113</td>\n",
       "      <td>0.893</td>\n",
       "    </tr>\n",
       "    <tr>\n",
       "      <th>min</th>\n",
       "      <td>-10.321</td>\n",
       "      <td>-10.736</td>\n",
       "      <td>-11.413</td>\n",
       "      <td>-12.010</td>\n",
       "      <td>-3.320</td>\n",
       "      <td>-3.030</td>\n",
       "      <td>-1.740</td>\n",
       "      <td>-1.740</td>\n",
       "      <td>0.000</td>\n",
       "      <td>-12.239</td>\n",
       "      <td>-10.571</td>\n",
       "      <td>-8.029</td>\n",
       "      <td>-10.571</td>\n",
       "      <td>-9.925</td>\n",
       "    </tr>\n",
       "    <tr>\n",
       "      <th>25%</th>\n",
       "      <td>-0.403</td>\n",
       "      <td>-0.429</td>\n",
       "      <td>-0.424</td>\n",
       "      <td>-0.440</td>\n",
       "      <td>-0.230</td>\n",
       "      <td>-0.280</td>\n",
       "      <td>-0.160</td>\n",
       "      <td>-0.190</td>\n",
       "      <td>0.000</td>\n",
       "      <td>-0.491</td>\n",
       "      <td>-0.533</td>\n",
       "      <td>-0.514</td>\n",
       "      <td>-0.532</td>\n",
       "      <td>-0.297</td>\n",
       "    </tr>\n",
       "    <tr>\n",
       "      <th>50%</th>\n",
       "      <td>0.124</td>\n",
       "      <td>0.077</td>\n",
       "      <td>0.084</td>\n",
       "      <td>0.070</td>\n",
       "      <td>0.010</td>\n",
       "      <td>-0.030</td>\n",
       "      <td>0.030</td>\n",
       "      <td>-0.010</td>\n",
       "      <td>0.000</td>\n",
       "      <td>0.070</td>\n",
       "      <td>0.058</td>\n",
       "      <td>0.063</td>\n",
       "      <td>0.058</td>\n",
       "      <td>0.065</td>\n",
       "    </tr>\n",
       "    <tr>\n",
       "      <th>75%</th>\n",
       "      <td>0.613</td>\n",
       "      <td>0.576</td>\n",
       "      <td>0.568</td>\n",
       "      <td>0.550</td>\n",
       "      <td>0.250</td>\n",
       "      <td>0.260</td>\n",
       "      <td>0.190</td>\n",
       "      <td>0.160</td>\n",
       "      <td>0.000</td>\n",
       "      <td>0.641</td>\n",
       "      <td>0.639</td>\n",
       "      <td>0.673</td>\n",
       "      <td>0.639</td>\n",
       "      <td>0.449</td>\n",
       "    </tr>\n",
       "    <tr>\n",
       "      <th>max</th>\n",
       "      <td>7.275</td>\n",
       "      <td>6.682</td>\n",
       "      <td>8.876</td>\n",
       "      <td>8.540</td>\n",
       "      <td>1.860</td>\n",
       "      <td>4.380</td>\n",
       "      <td>2.690</td>\n",
       "      <td>1.310</td>\n",
       "      <td>0.010</td>\n",
       "      <td>10.976</td>\n",
       "      <td>7.089</td>\n",
       "      <td>5.073</td>\n",
       "      <td>7.089</td>\n",
       "      <td>8.760</td>\n",
       "    </tr>\n",
       "  </tbody>\n",
       "</table>\n",
       "</div>"
      ],
      "text/plain": [
       "       port_low  port_mid  port_high     MktRF       SMB       HML       RMW  \\\n",
       "count  2273.000  2273.000   2273.000  2273.000  2273.000  2273.000  2273.000   \n",
       "mean      0.078     0.041      0.048     0.029     0.008    -0.007     0.014   \n",
       "std       1.049     1.023      1.076     1.015     0.420     0.537     0.303   \n",
       "min     -10.321   -10.736    -11.413   -12.010    -3.320    -3.030    -1.740   \n",
       "25%      -0.403    -0.429     -0.424    -0.440    -0.230    -0.280    -0.160   \n",
       "50%       0.124     0.077      0.084     0.070     0.010    -0.030     0.030   \n",
       "75%       0.613     0.576      0.568     0.550     0.250     0.260     0.190   \n",
       "max       7.275     6.682      8.876     8.540     1.860     4.380     2.690   \n",
       "\n",
       "            CMA        RF       DAX       S30       C25       OMX  MSCI_World  \n",
       "count  2273.000  2273.000  2273.000  2273.000  2273.000  2273.000    2273.000  \n",
       "mean     -0.009     0.002     0.034     0.031     0.054     0.031       0.032  \n",
       "std       0.296     0.004     1.218     1.113     1.053     1.113       0.893  \n",
       "min      -1.740     0.000   -12.239   -10.571    -8.029   -10.571      -9.925  \n",
       "25%      -0.190     0.000    -0.491    -0.533    -0.514    -0.532      -0.297  \n",
       "50%      -0.010     0.000     0.070     0.058     0.063     0.058       0.065  \n",
       "75%       0.160     0.000     0.641     0.639     0.673     0.639       0.449  \n",
       "max       1.310     0.010    10.976     7.089     5.073     7.089       8.760  "
      ]
     },
     "execution_count": 486,
     "metadata": {},
     "output_type": "execute_result"
    }
   ],
   "source": [
    "filt2"
   ]
  },
  {
   "cell_type": "code",
   "execution_count": 487,
   "id": "0938288b-e205-47f3-a52b-d25262091e42",
   "metadata": {},
   "outputs": [],
   "source": [
    "model1 = smf.ols(formula='port_low ~ MktRF', data=rt).fit() \n",
    "model11 = smf.ols(formula='port_low ~ MktRF + SMB + HML', data=rt).fit() \n",
    "model111 = smf.ols(formula='port_low ~ MktRF + SMB + HML + RMW + CMA', data=rt).fit() "
   ]
  },
  {
   "cell_type": "code",
   "execution_count": 488,
   "id": "7eb95ce8-bda4-4f44-918e-e80bb6be8aad",
   "metadata": {},
   "outputs": [],
   "source": [
    "model2 = smf.ols(formula='port_mid ~ MktRF', data=rt).fit() \n",
    "model22 = smf.ols(formula='port_mid ~ MktRF + SMB + HML', data=rt).fit() \n",
    "model222 = smf.ols(formula='port_mid ~ MktRF + SMB + HML + RMW + CMA', data=rt).fit() "
   ]
  },
  {
   "cell_type": "code",
   "execution_count": 489,
   "id": "c1ff8f34-cb4b-427f-b1f2-ce6a66ecf1b2",
   "metadata": {},
   "outputs": [],
   "source": [
    "model3 = smf.ols(formula='port_high ~ MktRF', data=rt).fit() \n",
    "model33 = smf.ols(formula='port_high ~ MktRF + SMB + HML', data=rt).fit() \n",
    "model333 = smf.ols(formula='port_high ~ MktRF + SMB + HML + RMW + CMA', data=rt).fit() \n",
    "#print(model3.summary())\n",
    "#trend = model3.params[0] + model3.params[1]* rt['port_high']\n",
    "#plt.scatter(rt['port_high'],rt['MktRF'])\n",
    "#plt.plot(trend, rt['port_high'], 'r');"
   ]
  },
  {
   "cell_type": "code",
   "execution_count": 490,
   "id": "90bcf1bb-89dc-4b0d-876c-83f4040268b4",
   "metadata": {
    "tags": []
   },
   "outputs": [
    {
     "data": {
      "text/html": [
       "<table style=\"text-align:center\"><tr><td colspan=\"10\" style=\"border-bottom: 1px solid black\"></td></tr><tr><td style=\"text-align:left\"></td><tr><td></td><td colspan=\"1\">CAMP low</td><td colspan=\"1\">CAMP mid</td><td colspan=\"1\">CAMP high</td><td colspan=\"1\">FF3 low</td><td colspan=\"1\">FF3 mid</td><td colspan=\"1\">FF3 high</td><td colspan=\"1\">FF5 low</td><td colspan=\"1\">FF5 mid</td><td colspan=\"1\">FF5 high</td></tr><tr><td colspan=\"10\" style=\"border-bottom: 1px solid black\"></td></tr><tr><td style=\"text-align:left\">alpha</td><td>0.054<sup>***</sup></td><td>0.016<sup></sup></td><td>0.021<sup>*</sup></td><td>0.051<sup>***</sup></td><td>0.019<sup>*</sup></td><td>0.019<sup>*</sup></td><td>0.050<sup>***</sup></td><td>0.019<sup>*</sup></td><td>0.025<sup>**</sup></td></tr><tr><td style=\"text-align:left\"></td><td>(0.013)</td><td>(0.012)</td><td>(0.012)</td><td>(0.013)</td><td>(0.011)</td><td>(0.011)</td><td>(0.013)</td><td>(0.011)</td><td>(0.011)</td></tr><tr><td style=\"text-align:left\">beta_1</td><td>0.825<sup>***</sup></td><td>0.846<sup>***</sup></td><td>0.908<sup>***</sup></td><td>0.854<sup>***</sup></td><td>0.795<sup>***</sup></td><td>0.795<sup>***</sup></td><td>0.842<sup>***</sup></td><td>0.788<sup>***</sup></td><td>0.798<sup>***</sup></td></tr><tr><td style=\"text-align:left\"></td><td>(0.013)</td><td>(0.012)</td><td>(0.012)</td><td>(0.015)</td><td>(0.013)</td><td>(0.013)</td><td>(0.016)</td><td>(0.014)</td><td>(0.013)</td></tr><tr><td style=\"text-align:left\">beta_2 (SMB)</td><td></td><td></td><td></td><td>0.032<sup></sup></td><td>-0.325<sup>***</sup></td><td>-0.325<sup>***</sup></td><td>0.017<sup></sup></td><td>-0.334<sup>***</sup></td><td>-0.497<sup>***</sup></td></tr><tr><td style=\"text-align:left\"></td><td></td><td></td><td></td><td>(0.036)</td><td>(0.031)</td><td>(0.031)</td><td>(0.036)</td><td>(0.031)</td><td>(0.030)</td></tr><tr><td style=\"text-align:left\">beta_3 (HML)</td><td></td><td></td><td></td><td>-0.179<sup>***</sup></td><td>-0.106<sup>***</sup></td><td>-0.106<sup>***</sup></td><td>-0.091<sup>**</sup></td><td>-0.063<sup></sup></td><td>0.173<sup>***</sup></td></tr><tr><td style=\"text-align:left\"></td><td></td><td></td><td></td><td>(0.025)</td><td>(0.022)</td><td>(0.022)</td><td>(0.046)</td><td>(0.040)</td><td>(0.038)</td></tr><tr><td style=\"text-align:left\">beta_4 (RMW)</td><td></td><td></td><td></td><td></td><td></td><td></td><td>0.065<sup></sup></td><td>0.006<sup></sup></td><td>0.316<sup>***</sup></td></tr><tr><td style=\"text-align:left\"></td><td></td><td></td><td></td><td></td><td></td><td></td><td>(0.065)</td><td>(0.057)</td><td>(0.055)</td></tr><tr><td style=\"text-align:left\">beta_5 (CMA)</td><td></td><td></td><td></td><td></td><td></td><td></td><td>-0.145<sup>**</sup></td><td>-0.096<sup>*</sup></td><td>-0.039<sup></sup></td></tr><tr><td style=\"text-align:left\"></td><td></td><td></td><td></td><td></td><td></td><td></td><td>(0.067)</td><td>(0.058)</td><td>(0.056)</td></tr><td colspan=\"10\" style=\"border-bottom: 1px solid black\"></td></tr><tr><td style=\"text-align: left\">Observations</td><td>2,273</td><td>2,273</td><td>2,273</td><td>2,273</td><td>2,273</td><td>2,273</td><td>2,273</td><td>2,273</td><td>2,273</td></tr><tr><td style=\"text-align: left\">R<sup>2</sup></td><td>0.638</td><td>0.704</td><td>0.733</td><td>0.646</td><td>0.720</td><td>0.720</td><td>0.647</td><td>0.720</td><td>0.765</td></tr><tr><td style=\"text-align: left\">Adjusted R<sup>2</sup></td><td>0.637</td><td>0.704</td><td>0.733</td><td>0.645</td><td>0.719</td><td>0.719</td><td>0.646</td><td>0.720</td><td>0.764</td></tr><tr><td style=\"text-align: left\">Residual Std. Error</td><td>0.631</td><td>0.557</td><td>0.556</td><td>0.625</td><td>0.542</td><td>0.542</td><td>0.624</td><td>0.542</td><td>0.523</td></tr><tr><td style=\"text-align: left\">F Statistic</td><td>3994.408<sup>***</sup></td><td>5397.395<sup>***</sup></td><td>6227.056<sup>***</sup></td><td>1378.347<sup>***</sup></td><td>1942.769<sup>***</sup></td><td>1942.769<sup>***</sup></td><td>829.661<sup>***</sup></td><td>1166.615<sup>***</sup></td><td>1473.413<sup>***</sup></td></tr><tr><td colspan=\"10\" style=\"border-bottom: 1px solid black\"></td></tr><tr><td style=\"text-align: left\">Note:</td>\n",
       " <td colspan=\"9\" style=\"text-align: right\">\n",
       "  <sup>*</sup>p&lt;0.1;\n",
       "  <sup>**</sup>p&lt;0.05;\n",
       "  <sup>***</sup>p&lt;0.01\n",
       " </td></tr></table>"
      ],
      "text/plain": [
       "<IPython.core.display.HTML object>"
      ]
     },
     "execution_count": 490,
     "metadata": {},
     "output_type": "execute_result"
    }
   ],
   "source": [
    "stargazer = Stargazer([model1, model2, model3, model11, model22, model22, model111, model222, model333])\n",
    "stargazer.custom_columns(['CAMP low', 'CAMP mid', 'CAMP high', 'FF3 low', 'FF3 mid', 'FF3 high', 'FF5 low', 'FF5 mid', 'FF5 high'], [1, 1, 1, 1, 1, 1, 1, 1, 1])\n",
    "stargazer.show_model_numbers(False)\n",
    "stargazer.covariate_order(['Intercept', 'MktRF', 'SMB', 'HML', 'RMW', 'CMA'])\n",
    "stargazer.show_degrees_of_freedom(False)\n",
    "stargazer.rename_covariates({'Intercept': 'alpha','MktRF' : 'beta_1','SMB' : 'beta_2 (SMB)', 'HML' : 'beta_3 (HML)',\n",
    "                          'RMW' : 'beta_4 (RMW)', 'CMA' : 'beta_5 (CMA)'}) #if you want to change names\n",
    "HTML(stargazer.render_html())\n",
    "# Use this guide to addit the table\n",
    "#print(stargazer.render_latex()) #compile it in LaTeX instead of HTML"
   ]
  },
  {
   "cell_type": "code",
   "execution_count": 491,
   "id": "596eb1aa-30fd-4288-b095-25008d00de98",
   "metadata": {
    "tags": []
   },
   "outputs": [],
   "source": [
    "def SR(m):\n",
    "    SR = (m.mean()/m.std())*252**.5\n",
    "    return SR\n",
    "sharpe_ratio = []\n",
    "for i in filt.columns[:3]:\n",
    "    sharpe_ratio.append(SR(rt[i]))"
   ]
  },
  {
   "cell_type": "code",
   "execution_count": 492,
   "id": "2b3ad0df-cd14-48d6-aedc-2a15d8fa7222",
   "metadata": {
    "tags": []
   },
   "outputs": [],
   "source": [
    "betas = [model1.params[1], model2.params[1], model3.params[1]]\n",
    "def TR(m):\n",
    "    for j in betas:\n",
    "        TR = (m.mean()/ j )*252**.5\n",
    "    return TR\n",
    "treynor_ratio = []\n",
    "for i in filt.columns[:3]:\n",
    "    treynor_ratio.append(TR(rt[i]))"
   ]
  },
  {
   "cell_type": "code",
   "execution_count": 493,
   "id": "725df621-9d86-4f4d-bf4b-06a605b30da2",
   "metadata": {},
   "outputs": [
    {
     "data": {
      "text/plain": [
       "[0.8249481942682456, 0.8457153222240437, 0.9075540812200436]"
      ]
     },
     "execution_count": 493,
     "metadata": {},
     "output_type": "execute_result"
    }
   ],
   "source": [
    "betas"
   ]
  },
  {
   "cell_type": "code",
   "execution_count": 494,
   "id": "3ebdc203-5fff-4574-9ec8-1307fe0c678b",
   "metadata": {},
   "outputs": [
    {
     "data": {
      "text/plain": [
       "[1.1784773031043825, 0.6308812742106769, 0.7106697872351895]"
      ]
     },
     "execution_count": 494,
     "metadata": {},
     "output_type": "execute_result"
    }
   ],
   "source": [
    "sharpe_ratio"
   ]
  },
  {
   "cell_type": "code",
   "execution_count": 495,
   "id": "223385f3-76d9-4777-a8fb-b509b58b1c5a",
   "metadata": {},
   "outputs": [
    {
     "data": {
      "text/plain": [
       "[1.3616931455181347, 0.711237840381233, 0.8426392098475165]"
      ]
     },
     "execution_count": 495,
     "metadata": {},
     "output_type": "execute_result"
    }
   ],
   "source": [
    "treynor_ratio"
   ]
  },
  {
   "cell_type": "code",
   "execution_count": 496,
   "id": "0696cb2f-44a9-4cd3-9e75-ea23ce4dce0f",
   "metadata": {
    "tags": []
   },
   "outputs": [],
   "source": [
    "model1 = smf.ols(formula='port_low ~ MSCI_World', data=rt).fit() \n",
    "model11 = smf.ols(formula='port_low ~ MSCI_World + SMB + HML', data=rt).fit() \n",
    "model111 = smf.ols(formula='port_low ~ MSCI_World + SMB + HML + RMW + CMA', data=rt).fit() \n",
    "\n",
    "model2 = smf.ols(formula='port_mid ~ MSCI_World', data=rt).fit() \n",
    "model22 = smf.ols(formula='port_mid ~ MSCI_World + SMB + HML', data=rt).fit() \n",
    "model222 = smf.ols(formula='port_mid ~ MSCI_World + SMB + HML + RMW + CMA', data=rt).fit() \n",
    "\n",
    "model3 = smf.ols(formula='port_high ~ MSCI_World', data=rt).fit() \n",
    "model33 = smf.ols(formula='port_high ~ MSCI_World + SMB + HML', data=rt).fit() \n",
    "model333 = smf.ols(formula='port_high ~ MSCI_World + SMB + HML + RMW + CMA', data=rt).fit() \n",
    "#print(model3.summary())\n",
    "#trend = model3.params[0] + model3.params[1]* rt['port_high']\n",
    "#plt.scatter(rt['port_high'],rt['MktRF'])\n",
    "#plt.plot(trend, rt['port_high'], 'r');\n",
    "\n",
    "stargazer = Stargazer([model1, model2, model3, model11, model22, model22, model111, model222, model333])\n",
    "stargazer.custom_columns(['CAMP low', 'CAMP mid', 'CAMP high', 'FF3 low', 'FF3 mid', 'FF3 high', 'FF5 low', 'FF5 mid', 'FF5 high'], [1, 1, 1, 1, 1, 1, 1, 1, 1])\n",
    "stargazer.show_model_numbers(False)\n",
    "stargazer.covariate_order(['Intercept', 'MSCI_World', 'SMB', 'HML', 'RMW', 'CMA'])\n",
    "stargazer.show_degrees_of_freedom(False)\n",
    "stargazer.rename_covariates({'Intercept': 'alpha','MSCI_World' : 'beta_1','SMB' : 'beta_2 (SMB)', 'HML' : 'beta_3 (HML)',\n",
    "                          'RMW' : 'beta_4 (RMW)', 'CMA' : 'beta_5 (CMA)'}) #if you want to change names\n",
    "#HTML(stargazer.render_html())\n",
    "# Use this guide to addit the table\n",
    "#print(stargazer.render_latex()) #compile it in LaTeX instead of HTML"
   ]
  },
  {
   "cell_type": "code",
   "execution_count": 497,
   "id": "171cbff1-5062-46bf-b390-dc7c1e2636fc",
   "metadata": {},
   "outputs": [],
   "source": [
    "filt3 = rt[['port_low','port_mid','port_high']]\n",
    "col = filt3.columns.tolist()\n",
    "mean_list = (rt[['port_low','port_mid','port_high']].mean() * 252).tolist()\n",
    "sd_list = (rt[['port_low','port_mid','port_high']].std() * 252**0.5).tolist()"
   ]
  },
  {
   "cell_type": "code",
   "execution_count": 498,
   "id": "1679ccd5-2629-4ff0-94ca-d464d59037c3",
   "metadata": {},
   "outputs": [],
   "source": [
    "stra = zip(mean_list, sd_list, sharpe_ratio, treynor_ratio)\n",
    "res = dict(zip(col, stra))\n",
    "res = pd.DataFrame(res, index = ['Mean','SD','SR','TR'])\n",
    "pd.set_option(\"display.precision\", 2)"
   ]
  },
  {
   "cell_type": "code",
   "execution_count": 499,
   "id": "91400670-6ce7-4a47-a2cb-2c91cd996eea",
   "metadata": {},
   "outputs": [
    {
     "data": {
      "text/html": [
       "<div>\n",
       "<style scoped>\n",
       "    .dataframe tbody tr th:only-of-type {\n",
       "        vertical-align: middle;\n",
       "    }\n",
       "\n",
       "    .dataframe tbody tr th {\n",
       "        vertical-align: top;\n",
       "    }\n",
       "\n",
       "    .dataframe thead th {\n",
       "        text-align: right;\n",
       "    }\n",
       "</style>\n",
       "<table border=\"1\" class=\"dataframe\">\n",
       "  <thead>\n",
       "    <tr style=\"text-align: right;\">\n",
       "      <th></th>\n",
       "      <th>port_low</th>\n",
       "      <th>port_mid</th>\n",
       "      <th>port_high</th>\n",
       "    </tr>\n",
       "  </thead>\n",
       "  <tbody>\n",
       "    <tr>\n",
       "      <th>Mean</th>\n",
       "      <td>19.62</td>\n",
       "      <td>10.25</td>\n",
       "      <td>12.14</td>\n",
       "    </tr>\n",
       "    <tr>\n",
       "      <th>SD</th>\n",
       "      <td>16.65</td>\n",
       "      <td>16.24</td>\n",
       "      <td>17.08</td>\n",
       "    </tr>\n",
       "    <tr>\n",
       "      <th>SR</th>\n",
       "      <td>1.18</td>\n",
       "      <td>0.63</td>\n",
       "      <td>0.71</td>\n",
       "    </tr>\n",
       "    <tr>\n",
       "      <th>TR</th>\n",
       "      <td>1.36</td>\n",
       "      <td>0.71</td>\n",
       "      <td>0.84</td>\n",
       "    </tr>\n",
       "  </tbody>\n",
       "</table>\n",
       "</div>"
      ],
      "text/plain": [
       "      port_low  port_mid  port_high\n",
       "Mean     19.62     10.25      12.14\n",
       "SD       16.65     16.24      17.08\n",
       "SR        1.18      0.63       0.71\n",
       "TR        1.36      0.71       0.84"
      ]
     },
     "execution_count": 499,
     "metadata": {},
     "output_type": "execute_result"
    }
   ],
   "source": [
    "res"
   ]
  },
  {
   "cell_type": "code",
   "execution_count": 500,
   "id": "e42613ff-e5f6-49f4-a3c1-ec27bfd34002",
   "metadata": {},
   "outputs": [
    {
     "name": "stdout",
     "output_type": "stream",
     "text": [
      "\\begin{tabular}{lrrr}\n",
      "\\toprule\n",
      "{} &  port\\_low &  port\\_mid &  port\\_high \\\\\n",
      "\\midrule\n",
      "Mean &     19.62 &     10.25 &      12.14 \\\\\n",
      "SD   &     16.65 &     16.24 &      17.08 \\\\\n",
      "SR   &      1.18 &      0.63 &       0.71 \\\\\n",
      "TR   &      1.36 &      0.71 &       0.84 \\\\\n",
      "\\bottomrule\n",
      "\\end{tabular}\n",
      "\n"
     ]
    }
   ],
   "source": [
    "#print(res.to_latex(index = True, multirow = True))"
   ]
  }
 ],
 "metadata": {
  "kernelspec": {
   "display_name": "Python 3 (ipykernel)",
   "language": "python",
   "name": "python3"
  },
  "language_info": {
   "codemirror_mode": {
    "name": "ipython",
    "version": 3
   },
   "file_extension": ".py",
   "mimetype": "text/x-python",
   "name": "python",
   "nbconvert_exporter": "python",
   "pygments_lexer": "ipython3",
   "version": "3.9.7"
  }
 },
 "nbformat": 4,
 "nbformat_minor": 5
}
