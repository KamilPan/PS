{
 "cells": [
  {
   "cell_type": "code",
   "execution_count": 86,
   "id": "3e9d030b-a9da-4020-b287-389693510226",
   "metadata": {},
   "outputs": [],
   "source": [
    "import pandas as pd\n",
    "import numpy as np\n",
    "from IPython.display import display\n",
    "import matplotlib.pyplot as plt\n",
    "import matplotlib.patches as mpatches\n",
    "import statsmodels.api as sm\n",
    "import statsmodels.formula.api as smf\n",
    "plt.style.use('seaborn-whitegrid')\n",
    "from sklearn import datasets\n",
    "from stargazer.stargazer import Stargazer\n",
    "from IPython.core.display import HTML"
   ]
  },
  {
   "cell_type": "code",
   "execution_count": 87,
   "id": "1e00341d-3ec3-4170-a67a-eb594805a6cf",
   "metadata": {},
   "outputs": [
    {
     "name": "stdout",
     "output_type": "stream",
     "text": [
      "The autoreload extension is already loaded. To reload it, use:\n",
      "  %reload_ext autoreload\n"
     ]
    }
   ],
   "source": [
    "# magic to reload modules automatically\n",
    "%load_ext autoreload\n",
    "%autoreload 2"
   ]
  },
  {
   "cell_type": "code",
   "execution_count": 88,
   "id": "634c4d93-325c-40a4-b58f-a7174f75c0a5",
   "metadata": {},
   "outputs": [],
   "source": [
    "#!pip install stargazer\n",
    "#!conda install -c conda-forge statsmodels"
   ]
  },
  {
   "cell_type": "code",
   "execution_count": 89,
   "id": "ddf7ee79-e8a6-48b4-aac8-6ae39264d6e3",
   "metadata": {
    "tags": []
   },
   "outputs": [],
   "source": [
    "rt = pd.read_excel('rt.xlsx')\n",
    "msci = pd.read_excel('data/KP.xlsx', skiprows=2)\n",
    "esg_esg = pd.read_excel('esg_esg.xlsx')\n",
    "it = pd.read_excel('it.xlsx')\n",
    "ff = pd.read_excel('ff.xlsx')\n",
    "esg_esg.rename(columns={'Unnamed: 0':'scores'}, inplace=True)\n",
    "rt = rt.replace(0, np.nan)\n",
    "rt.dropna(how='all', axis='index', thresh=4, inplace=True)\n",
    "rt = rt.replace(np.nan, 0)"
   ]
  },
  {
   "cell_type": "code",
   "execution_count": 90,
   "id": "647653f6-b408-4d69-aa41-9d9a533cd490",
   "metadata": {},
   "outputs": [],
   "source": [
    "pd.set_option('display.max_columns',125) # I want to see all the columns\n",
    "pd.set_option('display.max_rows',600) "
   ]
  },
  {
   "cell_type": "code",
   "execution_count": 91,
   "id": "ea2531a3-85e1-4a7f-9e2e-a7e84171779c",
   "metadata": {
    "tags": []
   },
   "outputs": [],
   "source": [
    "it = it.loc[:,['Unnamed: 0.1','DAX Index','OMXS30B Index','OMXC25 Index','OMX Index']]\n",
    "\n",
    "for i in it.columns[1:]:\n",
    "    it.loc[:,i] = it.loc[:,i].pct_change(1)*100\n",
    "it.drop(index=[0], inplace=True)\n",
    "it.rename(columns={'Unnamed: 0.1' : 'date'}, inplace=True)\n",
    "rt.drop(columns='Unnamed: 0', inplace=True)\n",
    "ff.drop(columns='Unnamed: 0', inplace=True)\n",
    "rt = rt.loc[:,['date','port_low','port_mid','port_high']]"
   ]
  },
  {
   "cell_type": "code",
   "execution_count": 92,
   "id": "2ec7b95a-976b-4e23-9c4f-487a14216c09",
   "metadata": {
    "tags": []
   },
   "outputs": [],
   "source": [
    "msci.drop(index=[0,1,2], inplace=True)\n",
    "msci.rename(columns = {'Unnamed: 0' : 'date','Unnamed: 1' : 'MSCI_World', 'Unnamed: 2' : 'SPX', 'Unnamed: 3' : 'MSCI_Eur'}, inplace=True)\n",
    "msci['date'] = pd.to_datetime(msci['date'], format='%Y%m%d')\n",
    "for i in msci.columns[1:]:\n",
    "    msci.loc[:,i] = msci.loc[:,i].pct_change(1)*100\n",
    "msci.reset_index(inplace = True, drop = True)\n",
    "msci.drop(index=[0], inplace=True)"
   ]
  },
  {
   "cell_type": "code",
   "execution_count": 93,
   "id": "f4edf8b8-b600-449d-ac3e-e01054c109bb",
   "metadata": {
    "tags": []
   },
   "outputs": [],
   "source": [
    "rt = rt.merge(ff,on=['date'], how='left')\n",
    "#rt = rt.merge(it,on=['date'], how='left')\n",
    "rt = rt.merge(msci,on=['date'], how='left')\n",
    "pd.set_option(\"display.precision\", 3)\n",
    "#rt['RF'] = rt['RF']*100\n",
    "rt.rename(columns = {'DAX Index' : 'DAX','OMXS30B Index' : 'S30','OMXC25 Index' : 'C25',\n",
    "                     'OMX Index' : 'OMX','Mkt-RF' : 'MktRF'}, inplace=True)"
   ]
  },
  {
   "cell_type": "code",
   "execution_count": 94,
   "id": "853cf380-9cc6-4e50-a9b7-bba559cb8013",
   "metadata": {
    "tags": []
   },
   "outputs": [],
   "source": [
    "filt = (rt['date'] >= pd.to_datetime('2013-01-01')) & (rt['date'] <= pd.to_datetime('2022-02-28')) \n",
    "#filt = (rt['date'] >= pd.to_datetime('2013-01-01')) & (rt['date'] <= pd.to_datetime('2019-12-31')) #new period 1\n",
    "#filt = (rt['date'] >= pd.to_datetime('2020-01-01')) & (rt['date'] <= pd.to_datetime('2022-02-28')) #new period 2\n",
    "rt = rt[filt]\n",
    "rt.dropna(how='all', axis='index', thresh=5, inplace=True)"
   ]
  },
  {
   "cell_type": "code",
   "execution_count": 95,
   "id": "4d21d1e2-4900-481e-b7a1-a7aaa5baab9a",
   "metadata": {},
   "outputs": [],
   "source": [
    "rt['MSCI_World'] = rt['MSCI_World'] - rt['RF']"
   ]
  },
  {
   "cell_type": "code",
   "execution_count": 96,
   "id": "568b9a16-e0d1-45b0-8c40-e8a4fd2cc53c",
   "metadata": {},
   "outputs": [
    {
     "data": {
      "text/html": [
       "<div>\n",
       "<style scoped>\n",
       "    .dataframe tbody tr th:only-of-type {\n",
       "        vertical-align: middle;\n",
       "    }\n",
       "\n",
       "    .dataframe tbody tr th {\n",
       "        vertical-align: top;\n",
       "    }\n",
       "\n",
       "    .dataframe thead th {\n",
       "        text-align: right;\n",
       "    }\n",
       "</style>\n",
       "<table border=\"1\" class=\"dataframe\">\n",
       "  <thead>\n",
       "    <tr style=\"text-align: right;\">\n",
       "      <th></th>\n",
       "      <th>port_low</th>\n",
       "      <th>port_mid</th>\n",
       "      <th>port_high</th>\n",
       "    </tr>\n",
       "  </thead>\n",
       "  <tbody>\n",
       "    <tr>\n",
       "      <th>count</th>\n",
       "      <td>2264.000</td>\n",
       "      <td>2264.000</td>\n",
       "      <td>2264.000</td>\n",
       "    </tr>\n",
       "    <tr>\n",
       "      <th>mean</th>\n",
       "      <td>0.089</td>\n",
       "      <td>0.041</td>\n",
       "      <td>0.055</td>\n",
       "    </tr>\n",
       "    <tr>\n",
       "      <th>std</th>\n",
       "      <td>1.114</td>\n",
       "      <td>1.002</td>\n",
       "      <td>1.036</td>\n",
       "    </tr>\n",
       "    <tr>\n",
       "      <th>min</th>\n",
       "      <td>-10.527</td>\n",
       "      <td>-10.058</td>\n",
       "      <td>-9.423</td>\n",
       "    </tr>\n",
       "    <tr>\n",
       "      <th>25%</th>\n",
       "      <td>-0.441</td>\n",
       "      <td>-0.479</td>\n",
       "      <td>-0.445</td>\n",
       "    </tr>\n",
       "    <tr>\n",
       "      <th>50%</th>\n",
       "      <td>0.132</td>\n",
       "      <td>0.074</td>\n",
       "      <td>0.092</td>\n",
       "    </tr>\n",
       "    <tr>\n",
       "      <th>75%</th>\n",
       "      <td>0.688</td>\n",
       "      <td>0.562</td>\n",
       "      <td>0.576</td>\n",
       "    </tr>\n",
       "    <tr>\n",
       "      <th>max</th>\n",
       "      <td>6.719</td>\n",
       "      <td>4.705</td>\n",
       "      <td>7.988</td>\n",
       "    </tr>\n",
       "  </tbody>\n",
       "</table>\n",
       "</div>"
      ],
      "text/plain": [
       "       port_low  port_mid  port_high\n",
       "count  2264.000  2264.000   2264.000\n",
       "mean      0.089     0.041      0.055\n",
       "std       1.114     1.002      1.036\n",
       "min     -10.527   -10.058     -9.423\n",
       "25%      -0.441    -0.479     -0.445\n",
       "50%       0.132     0.074      0.092\n",
       "75%       0.688     0.562      0.576\n",
       "max       6.719     4.705      7.988"
      ]
     },
     "execution_count": 96,
     "metadata": {},
     "output_type": "execute_result"
    }
   ],
   "source": [
    "filt = rt[['port_low','port_mid','port_high']].describe()\n",
    "filt\n",
    "#print(filt.to_latex(index = True, multirow = True))"
   ]
  },
  {
   "cell_type": "code",
   "execution_count": 97,
   "id": "9466d085-8512-4864-a915-2ba37188fb9d",
   "metadata": {
    "tags": []
   },
   "outputs": [],
   "source": [
    "ame = ['SPX','MSCI_Eur']\n",
    "rt.drop(columns=ame, inplace = True)\n",
    "filt2 = rt.describe()\n",
    "#print(filt2.to_latex(index = True, multirow = True))"
   ]
  },
  {
   "cell_type": "code",
   "execution_count": 98,
   "id": "0938288b-e205-47f3-a52b-d25262091e42",
   "metadata": {},
   "outputs": [],
   "source": [
    "model1 = smf.ols(formula='port_low ~ MktRF', data=rt).fit() \n",
    "model11 = smf.ols(formula='port_low ~ MktRF + SMB + HML', data=rt).fit() \n",
    "model111 = smf.ols(formula='port_low ~ MktRF + SMB + HML + RMW + CMA', data=rt).fit() "
   ]
  },
  {
   "cell_type": "code",
   "execution_count": 99,
   "id": "7eb95ce8-bda4-4f44-918e-e80bb6be8aad",
   "metadata": {},
   "outputs": [],
   "source": [
    "model2 = smf.ols(formula='port_mid ~ MktRF', data=rt).fit() \n",
    "model22 = smf.ols(formula='port_mid ~ MktRF + SMB + HML', data=rt).fit() \n",
    "model222 = smf.ols(formula='port_mid ~ MktRF + SMB + HML + RMW + CMA', data=rt).fit() "
   ]
  },
  {
   "cell_type": "code",
   "execution_count": 100,
   "id": "c1ff8f34-cb4b-427f-b1f2-ce6a66ecf1b2",
   "metadata": {},
   "outputs": [],
   "source": [
    "model3 = smf.ols(formula='port_high ~ MktRF', data=rt).fit() \n",
    "model33 = smf.ols(formula='port_high ~ MktRF + SMB + HML', data=rt).fit() \n",
    "model333 = smf.ols(formula='port_high ~ MktRF + SMB + HML + RMW + CMA', data=rt).fit() \n",
    "#print(model3.summary())\n",
    "#trend = model3.params[0] + model3.params[1]* rt['port_high']\n",
    "#plt.scatter(rt['port_high'],rt['MktRF'])\n",
    "#plt.plot(trend, rt['port_high'], 'r');"
   ]
  },
  {
   "cell_type": "code",
   "execution_count": 101,
   "id": "90bcf1bb-89dc-4b0d-876c-83f4040268b4",
   "metadata": {
    "tags": []
   },
   "outputs": [],
   "source": [
    "stargazer = Stargazer([model1, model2, model3, model11, model22, model22, model111, model222, model333])\n",
    "stargazer.custom_columns(['CAMP low', 'CAMP mid', 'CAMP high', 'FF3 low', 'FF3 mid', 'FF3 high', 'FF5 low', 'FF5 mid', 'FF5 high'], [1, 1, 1, 1, 1, 1, 1, 1, 1])\n",
    "stargazer.show_model_numbers(False)\n",
    "stargazer.covariate_order(['Intercept', 'MktRF', 'SMB', 'HML', 'RMW', 'CMA'])\n",
    "stargazer.show_degrees_of_freedom(False)\n",
    "stargazer.rename_covariates({'Intercept': 'alpha','MktRF' : 'beta_1','SMB' : 'beta_2 (SMB)', 'HML' : 'beta_3 (HML)',\n",
    "                          'RMW' : 'beta_4 (RMW)', 'CMA' : 'beta_5 (CMA)'}) #if you want to change names\n",
    "#HTML(stargazer.render_html())\n",
    "# Use this guide to addit the table\n",
    "#print(stargazer.render_latex()) #compile it in LaTeX instead of HTML"
   ]
  },
  {
   "cell_type": "code",
   "execution_count": 102,
   "id": "596eb1aa-30fd-4288-b095-25008d00de98",
   "metadata": {
    "tags": []
   },
   "outputs": [],
   "source": [
    "def SR(m):\n",
    "    SR = (m.mean()/m.std())*252**.5\n",
    "    return SR\n",
    "sharpe_ratio = []\n",
    "for i in filt.columns[:3]:\n",
    "    sharpe_ratio.append(SR(rt[i]))"
   ]
  },
  {
   "cell_type": "code",
   "execution_count": 103,
   "id": "2b3ad0df-cd14-48d6-aedc-2a15d8fa7222",
   "metadata": {
    "tags": []
   },
   "outputs": [],
   "source": [
    "betas = [model1.params[1], model2.params[1], model3.params[1]]\n",
    "def TR(m):\n",
    "    for j in betas:\n",
    "        TR = (m.mean()/ j )*252**.5\n",
    "    return TR\n",
    "treynor_ratio = []\n",
    "for i in filt.columns[:3]:\n",
    "    treynor_ratio.append(TR(rt[i]))"
   ]
  },
  {
   "cell_type": "code",
   "execution_count": 104,
   "id": "725df621-9d86-4f4d-bf4b-06a605b30da2",
   "metadata": {},
   "outputs": [
    {
     "data": {
      "text/plain": [
       "[0.8213959165226682, 0.7771367485550311, 0.829474187187047]"
      ]
     },
     "execution_count": 104,
     "metadata": {},
     "output_type": "execute_result"
    }
   ],
   "source": [
    "betas"
   ]
  },
  {
   "cell_type": "code",
   "execution_count": 105,
   "id": "3ebdc203-5fff-4574-9ec8-1307fe0c678b",
   "metadata": {},
   "outputs": [
    {
     "data": {
      "text/plain": [
       "[1.2673849923918703, 0.6477829037065402, 0.8400817701132028]"
      ]
     },
     "execution_count": 105,
     "metadata": {},
     "output_type": "execute_result"
    }
   ],
   "source": [
    "sharpe_ratio"
   ]
  },
  {
   "cell_type": "code",
   "execution_count": 106,
   "id": "223385f3-76d9-4777-a8fb-b509b58b1c5a",
   "metadata": {},
   "outputs": [
    {
     "data": {
      "text/plain": [
       "[1.7023315911086643, 0.7827941204651807, 1.049435235001069]"
      ]
     },
     "execution_count": 106,
     "metadata": {},
     "output_type": "execute_result"
    }
   ],
   "source": [
    "treynor_ratio"
   ]
  },
  {
   "cell_type": "code",
   "execution_count": 107,
   "id": "0696cb2f-44a9-4cd3-9e75-ea23ce4dce0f",
   "metadata": {
    "tags": []
   },
   "outputs": [
    {
     "name": "stdout",
     "output_type": "stream",
     "text": [
      "\\begin{table}[!htbp] \\centering\n",
      "\\begin{tabular}{@{\\extracolsep{5pt}}lccccccccc}\n",
      "\\\\[-1.8ex]\\hline\n",
      "\\hline \\\\[-1.8ex]\n",
      "\\\\[-1.8ex] & \\multicolumn{1}{c}{CAMP low} & \\multicolumn{1}{c}{CAMP mid} & \\multicolumn{1}{c}{CAMP high} & \\multicolumn{1}{c}{FF3 low} & \\multicolumn{1}{c}{FF3 mid} & \\multicolumn{1}{c}{FF3 high} & \\multicolumn{1}{c}{FF5 low} & \\multicolumn{1}{c}{FF5 mid} & \\multicolumn{1}{c}{FF5 high}  \\\\\n",
      "\\hline \\\\[-1.8ex]\n",
      " alpha & 0.064$^{***}$ & 0.017$^{}$ & 0.029$^{*}$ & 0.064$^{***}$ & 0.023$^{}$ & 0.023$^{}$ & 0.062$^{***}$ & 0.021$^{}$ & 0.034$^{**}$ \\\\\n",
      "  & (0.018) & (0.016) & (0.016) & (0.018) & (0.015) & (0.015) & (0.018) & (0.015) & (0.015) \\\\\n",
      " beta_1 & 0.801$^{***}$ & 0.749$^{***}$ & 0.813$^{***}$ & 0.797$^{***}$ & 0.667$^{***}$ & 0.667$^{***}$ & 0.769$^{***}$ & 0.648$^{***}$ & 0.672$^{***}$ \\\\\n",
      "  & (0.020) & (0.018) & (0.017) & (0.022) & (0.019) & (0.019) & (0.023) & (0.020) & (0.019) \\\\\n",
      " beta_2 (SMB) & & & & -0.079$^{*}$ & -0.421$^{***}$ & -0.421$^{***}$ & -0.110$^{**}$ & -0.439$^{***}$ & -0.601$^{***}$ \\\\\n",
      "  & & & & (0.047) & (0.041) & (0.041) & (0.048) & (0.041) & (0.039) \\\\\n",
      " beta_3 (HML) & & & & -0.099$^{***}$ & -0.020$^{}$ & -0.020$^{}$ & 0.082$^{}$ & 0.140$^{***}$ & 0.233$^{***}$ \\\\\n",
      "  & & & & (0.034) & (0.029) & (0.029) & (0.062) & (0.053) & (0.051) \\\\\n",
      " beta_4 (RMW) & & & & & & & 0.066$^{}$ & 0.174$^{**}$ & 0.307$^{***}$ \\\\\n",
      "  & & & & & & & (0.089) & (0.076) & (0.073) \\\\\n",
      " beta_5 (CMA) & & & & & & & -0.374$^{***}$ & -0.208$^{***}$ & -0.175$^{**}$ \\\\\n",
      "  & & & & & & & (0.091) & (0.078) & (0.075) \\\\\n",
      "\\hline \\\\[-1.8ex]\n",
      " Observations & 2,264 & 2,264 & 2,264 & 2,264 & 2,264 & 2,264 & 2,264 & 2,264 & 2,264 \\\\\n",
      " $R^2$ & 0.413 & 0.447 & 0.492 & 0.416 & 0.472 & 0.472 & 0.420 & 0.475 & 0.543 \\\\\n",
      " Adjusted $R^2$ & 0.413 & 0.446 & 0.491 & 0.415 & 0.471 & 0.471 & 0.419 & 0.474 & 0.542 \\\\\n",
      " Residual Std. Error & 0.854 & 0.746 & 0.739 & 0.852 & 0.729 & 0.729 & 0.849 & 0.727 & 0.701  \\\\\n",
      " F Statistic & 1590.689$^{***}$  & 1824.976$^{***}$  & 2187.516$^{***}$  & 535.746$^{***}$  & 672.710$^{***}$  & 672.710$^{***}$  & 327.326$^{***}$  & 408.284$^{***}$  & 536.939$^{***}$  \\\\\n",
      "\\hline\n",
      "\\hline \\\\[-1.8ex]\n",
      "\\textit{Note:} & \\multicolumn{9}{r}{$^{*}$p$<$0.1; $^{**}$p$<$0.05; $^{***}$p$<$0.01} \\\\\n",
      "\\end{tabular}\n",
      "\\end{table}\n"
     ]
    }
   ],
   "source": [
    "model1 = smf.ols(formula='port_low ~ MSCI_World', data=rt).fit() \n",
    "model11 = smf.ols(formula='port_low ~ MSCI_World + SMB + HML', data=rt).fit() \n",
    "model111 = smf.ols(formula='port_low ~ MSCI_World + SMB + HML + RMW + CMA', data=rt).fit() \n",
    "\n",
    "model2 = smf.ols(formula='port_mid ~ MSCI_World', data=rt).fit() \n",
    "model22 = smf.ols(formula='port_mid ~ MSCI_World + SMB + HML', data=rt).fit() \n",
    "model222 = smf.ols(formula='port_mid ~ MSCI_World + SMB + HML + RMW + CMA', data=rt).fit() \n",
    "\n",
    "model3 = smf.ols(formula='port_high ~ MSCI_World', data=rt).fit() \n",
    "model33 = smf.ols(formula='port_high ~ MSCI_World + SMB + HML', data=rt).fit() \n",
    "model333 = smf.ols(formula='port_high ~ MSCI_World + SMB + HML + RMW + CMA', data=rt).fit() \n",
    "#print(model3.summary())\n",
    "#trend = model3.params[0] + model3.params[1]* rt['port_high']\n",
    "#plt.scatter(rt['port_high'],rt['MktRF'])\n",
    "#plt.plot(trend, rt['port_high'], 'r');\n",
    "\n",
    "stargazer = Stargazer([model1, model2, model3, model11, model22, model22, model111, model222, model333])\n",
    "stargazer.custom_columns(['CAMP low', 'CAMP mid', 'CAMP high', 'FF3 low', 'FF3 mid', 'FF3 high', 'FF5 low', 'FF5 mid', 'FF5 high'], [1, 1, 1, 1, 1, 1, 1, 1, 1])\n",
    "stargazer.show_model_numbers(False)\n",
    "stargazer.covariate_order(['Intercept', 'MSCI_World', 'SMB', 'HML', 'RMW', 'CMA'])\n",
    "stargazer.show_degrees_of_freedom(False)\n",
    "stargazer.rename_covariates({'Intercept': 'alpha','MSCI_World' : 'beta_1','SMB' : 'beta_2 (SMB)', 'HML' : 'beta_3 (HML)',\n",
    "                          'RMW' : 'beta_4 (RMW)', 'CMA' : 'beta_5 (CMA)'}) #if you want to change names\n",
    "HTML(stargazer.render_html())\n",
    "# Use this guide to addit the table\n",
    "print(stargazer.render_latex()) #compile it in LaTeX instead of HTML"
   ]
  },
  {
   "cell_type": "code",
   "execution_count": 108,
   "id": "171cbff1-5062-46bf-b390-dc7c1e2636fc",
   "metadata": {},
   "outputs": [],
   "source": [
    "filt3 = rt[['port_low','port_mid','port_high']]\n",
    "col = filt3.columns.tolist()\n",
    "mean_list = (rt[['port_low','port_mid','port_high']].mean() * 252).tolist()\n",
    "sd_list = (rt[['port_low','port_mid','port_high']].std() * 252**0.5).tolist()"
   ]
  },
  {
   "cell_type": "code",
   "execution_count": 109,
   "id": "1679ccd5-2629-4ff0-94ca-d464d59037c3",
   "metadata": {},
   "outputs": [],
   "source": [
    "stra = zip(mean_list, sd_list, sharpe_ratio, treynor_ratio)\n",
    "res = dict(zip(col, stra))\n",
    "res = pd.DataFrame(res, index = ['Mean','SD','SR','TR'])\n",
    "pd.set_option(\"display.precision\", 2)"
   ]
  },
  {
   "cell_type": "code",
   "execution_count": 110,
   "id": "91400670-6ce7-4a47-a2cb-2c91cd996eea",
   "metadata": {},
   "outputs": [
    {
     "data": {
      "text/html": [
       "<div>\n",
       "<style scoped>\n",
       "    .dataframe tbody tr th:only-of-type {\n",
       "        vertical-align: middle;\n",
       "    }\n",
       "\n",
       "    .dataframe tbody tr th {\n",
       "        vertical-align: top;\n",
       "    }\n",
       "\n",
       "    .dataframe thead th {\n",
       "        text-align: right;\n",
       "    }\n",
       "</style>\n",
       "<table border=\"1\" class=\"dataframe\">\n",
       "  <thead>\n",
       "    <tr style=\"text-align: right;\">\n",
       "      <th></th>\n",
       "      <th>port_low</th>\n",
       "      <th>port_mid</th>\n",
       "      <th>port_high</th>\n",
       "    </tr>\n",
       "  </thead>\n",
       "  <tbody>\n",
       "    <tr>\n",
       "      <th>Mean</th>\n",
       "      <td>22.42</td>\n",
       "      <td>10.31</td>\n",
       "      <td>13.82</td>\n",
       "    </tr>\n",
       "    <tr>\n",
       "      <th>SD</th>\n",
       "      <td>17.69</td>\n",
       "      <td>15.91</td>\n",
       "      <td>16.45</td>\n",
       "    </tr>\n",
       "    <tr>\n",
       "      <th>SR</th>\n",
       "      <td>1.27</td>\n",
       "      <td>0.65</td>\n",
       "      <td>0.84</td>\n",
       "    </tr>\n",
       "    <tr>\n",
       "      <th>TR</th>\n",
       "      <td>1.70</td>\n",
       "      <td>0.78</td>\n",
       "      <td>1.05</td>\n",
       "    </tr>\n",
       "  </tbody>\n",
       "</table>\n",
       "</div>"
      ],
      "text/plain": [
       "      port_low  port_mid  port_high\n",
       "Mean     22.42     10.31      13.82\n",
       "SD       17.69     15.91      16.45\n",
       "SR        1.27      0.65       0.84\n",
       "TR        1.70      0.78       1.05"
      ]
     },
     "execution_count": 110,
     "metadata": {},
     "output_type": "execute_result"
    }
   ],
   "source": [
    "res"
   ]
  },
  {
   "cell_type": "code",
   "execution_count": 111,
   "id": "e42613ff-e5f6-49f4-a3c1-ec27bfd34002",
   "metadata": {},
   "outputs": [
    {
     "name": "stdout",
     "output_type": "stream",
     "text": [
      "\\begin{tabular}{lrrr}\n",
      "\\toprule\n",
      "{} &  port\\_low &  port\\_mid &  port\\_high \\\\\n",
      "\\midrule\n",
      "Mean &     22.42 &     10.31 &      13.82 \\\\\n",
      "SD   &     17.69 &     15.91 &      16.45 \\\\\n",
      "SR   &      1.27 &      0.65 &       0.84 \\\\\n",
      "TR   &      1.70 &      0.78 &       1.05 \\\\\n",
      "\\bottomrule\n",
      "\\end{tabular}\n",
      "\n"
     ]
    }
   ],
   "source": [
    "print(res.to_latex(index = True, multirow = True))"
   ]
  },
  {
   "cell_type": "code",
   "execution_count": 112,
   "id": "56c1392c-fe37-4ea4-aeae-dc2a119a6b2c",
   "metadata": {},
   "outputs": [
    {
     "data": {
      "text/html": [
       "<div>\n",
       "<style scoped>\n",
       "    .dataframe tbody tr th:only-of-type {\n",
       "        vertical-align: middle;\n",
       "    }\n",
       "\n",
       "    .dataframe tbody tr th {\n",
       "        vertical-align: top;\n",
       "    }\n",
       "\n",
       "    .dataframe thead th {\n",
       "        text-align: right;\n",
       "    }\n",
       "</style>\n",
       "<table border=\"1\" class=\"dataframe\">\n",
       "  <thead>\n",
       "    <tr style=\"text-align: right;\">\n",
       "      <th></th>\n",
       "      <th>date</th>\n",
       "      <th>port_low</th>\n",
       "      <th>port_mid</th>\n",
       "      <th>port_high</th>\n",
       "      <th>MktRF</th>\n",
       "      <th>SMB</th>\n",
       "      <th>HML</th>\n",
       "      <th>RMW</th>\n",
       "      <th>CMA</th>\n",
       "      <th>RF</th>\n",
       "      <th>MSCI_World</th>\n",
       "    </tr>\n",
       "  </thead>\n",
       "  <tbody>\n",
       "    <tr>\n",
       "      <th>0</th>\n",
       "      <td>2013-04-03</td>\n",
       "      <td>0.19</td>\n",
       "      <td>0.09</td>\n",
       "      <td>-0.34</td>\n",
       "      <td>-0.60</td>\n",
       "      <td>0.38</td>\n",
       "      <td>-0.54</td>\n",
       "      <td>0.37</td>\n",
       "      <td>-0.20</td>\n",
       "      <td>0.0</td>\n",
       "      <td>-0.68</td>\n",
       "    </tr>\n",
       "    <tr>\n",
       "      <th>1</th>\n",
       "      <td>2013-04-04</td>\n",
       "      <td>-0.70</td>\n",
       "      <td>-1.46</td>\n",
       "      <td>-1.26</td>\n",
       "      <td>-0.32</td>\n",
       "      <td>0.30</td>\n",
       "      <td>0.61</td>\n",
       "      <td>-0.28</td>\n",
       "      <td>0.39</td>\n",
       "      <td>0.0</td>\n",
       "      <td>-0.24</td>\n",
       "    </tr>\n",
       "    <tr>\n",
       "      <th>2</th>\n",
       "      <td>2013-04-05</td>\n",
       "      <td>-1.60</td>\n",
       "      <td>-1.68</td>\n",
       "      <td>-1.47</td>\n",
       "      <td>-0.84</td>\n",
       "      <td>0.15</td>\n",
       "      <td>0.33</td>\n",
       "      <td>-0.14</td>\n",
       "      <td>0.19</td>\n",
       "      <td>0.0</td>\n",
       "      <td>-0.22</td>\n",
       "    </tr>\n",
       "    <tr>\n",
       "      <th>3</th>\n",
       "      <td>2013-04-08</td>\n",
       "      <td>0.84</td>\n",
       "      <td>0.26</td>\n",
       "      <td>0.37</td>\n",
       "      <td>0.15</td>\n",
       "      <td>-0.31</td>\n",
       "      <td>-0.56</td>\n",
       "      <td>0.43</td>\n",
       "      <td>-0.23</td>\n",
       "      <td>0.0</td>\n",
       "      <td>0.52</td>\n",
       "    </tr>\n",
       "    <tr>\n",
       "      <th>4</th>\n",
       "      <td>2013-04-09</td>\n",
       "      <td>0.73</td>\n",
       "      <td>-0.15</td>\n",
       "      <td>0.85</td>\n",
       "      <td>0.78</td>\n",
       "      <td>0.19</td>\n",
       "      <td>0.94</td>\n",
       "      <td>-0.47</td>\n",
       "      <td>0.34</td>\n",
       "      <td>0.0</td>\n",
       "      <td>0.46</td>\n",
       "    </tr>\n",
       "    <tr>\n",
       "      <th>...</th>\n",
       "      <td>...</td>\n",
       "      <td>...</td>\n",
       "      <td>...</td>\n",
       "      <td>...</td>\n",
       "      <td>...</td>\n",
       "      <td>...</td>\n",
       "      <td>...</td>\n",
       "      <td>...</td>\n",
       "      <td>...</td>\n",
       "      <td>...</td>\n",
       "      <td>...</td>\n",
       "    </tr>\n",
       "    <tr>\n",
       "      <th>2259</th>\n",
       "      <td>2022-02-22</td>\n",
       "      <td>0.49</td>\n",
       "      <td>-0.23</td>\n",
       "      <td>-0.09</td>\n",
       "      <td>0.54</td>\n",
       "      <td>-0.11</td>\n",
       "      <td>-0.31</td>\n",
       "      <td>0.32</td>\n",
       "      <td>-0.27</td>\n",
       "      <td>0.0</td>\n",
       "      <td>-0.88</td>\n",
       "    </tr>\n",
       "    <tr>\n",
       "      <th>2260</th>\n",
       "      <td>2022-02-23</td>\n",
       "      <td>-0.21</td>\n",
       "      <td>-0.18</td>\n",
       "      <td>-0.26</td>\n",
       "      <td>-0.58</td>\n",
       "      <td>0.09</td>\n",
       "      <td>-0.02</td>\n",
       "      <td>0.31</td>\n",
       "      <td>0.16</td>\n",
       "      <td>0.0</td>\n",
       "      <td>-1.37</td>\n",
       "    </tr>\n",
       "    <tr>\n",
       "      <th>2261</th>\n",
       "      <td>2022-02-24</td>\n",
       "      <td>-1.48</td>\n",
       "      <td>-3.34</td>\n",
       "      <td>-0.79</td>\n",
       "      <td>-3.57</td>\n",
       "      <td>0.45</td>\n",
       "      <td>-1.82</td>\n",
       "      <td>1.00</td>\n",
       "      <td>-0.40</td>\n",
       "      <td>0.0</td>\n",
       "      <td>-0.12</td>\n",
       "    </tr>\n",
       "    <tr>\n",
       "      <th>2262</th>\n",
       "      <td>2022-02-25</td>\n",
       "      <td>2.53</td>\n",
       "      <td>3.03</td>\n",
       "      <td>2.08</td>\n",
       "      <td>3.66</td>\n",
       "      <td>-0.63</td>\n",
       "      <td>-0.19</td>\n",
       "      <td>-0.14</td>\n",
       "      <td>-0.17</td>\n",
       "      <td>0.0</td>\n",
       "      <td>2.56</td>\n",
       "    </tr>\n",
       "    <tr>\n",
       "      <th>2263</th>\n",
       "      <td>2022-02-28</td>\n",
       "      <td>2.17</td>\n",
       "      <td>0.49</td>\n",
       "      <td>0.23</td>\n",
       "      <td>-0.51</td>\n",
       "      <td>1.19</td>\n",
       "      <td>-2.78</td>\n",
       "      <td>1.25</td>\n",
       "      <td>-1.02</td>\n",
       "      <td>0.0</td>\n",
       "      <td>-0.08</td>\n",
       "    </tr>\n",
       "  </tbody>\n",
       "</table>\n",
       "<p>2264 rows × 11 columns</p>\n",
       "</div>"
      ],
      "text/plain": [
       "           date  port_low  port_mid  port_high  MktRF   SMB   HML   RMW   CMA  \\\n",
       "0    2013-04-03      0.19      0.09      -0.34  -0.60  0.38 -0.54  0.37 -0.20   \n",
       "1    2013-04-04     -0.70     -1.46      -1.26  -0.32  0.30  0.61 -0.28  0.39   \n",
       "2    2013-04-05     -1.60     -1.68      -1.47  -0.84  0.15  0.33 -0.14  0.19   \n",
       "3    2013-04-08      0.84      0.26       0.37   0.15 -0.31 -0.56  0.43 -0.23   \n",
       "4    2013-04-09      0.73     -0.15       0.85   0.78  0.19  0.94 -0.47  0.34   \n",
       "...         ...       ...       ...        ...    ...   ...   ...   ...   ...   \n",
       "2259 2022-02-22      0.49     -0.23      -0.09   0.54 -0.11 -0.31  0.32 -0.27   \n",
       "2260 2022-02-23     -0.21     -0.18      -0.26  -0.58  0.09 -0.02  0.31  0.16   \n",
       "2261 2022-02-24     -1.48     -3.34      -0.79  -3.57  0.45 -1.82  1.00 -0.40   \n",
       "2262 2022-02-25      2.53      3.03       2.08   3.66 -0.63 -0.19 -0.14 -0.17   \n",
       "2263 2022-02-28      2.17      0.49       0.23  -0.51  1.19 -2.78  1.25 -1.02   \n",
       "\n",
       "       RF  MSCI_World  \n",
       "0     0.0       -0.68  \n",
       "1     0.0       -0.24  \n",
       "2     0.0       -0.22  \n",
       "3     0.0        0.52  \n",
       "4     0.0        0.46  \n",
       "...   ...         ...  \n",
       "2259  0.0       -0.88  \n",
       "2260  0.0       -1.37  \n",
       "2261  0.0       -0.12  \n",
       "2262  0.0        2.56  \n",
       "2263  0.0       -0.08  \n",
       "\n",
       "[2264 rows x 11 columns]"
      ]
     },
     "execution_count": 112,
     "metadata": {},
     "output_type": "execute_result"
    }
   ],
   "source": [
    "rt"
   ]
  },
  {
   "cell_type": "code",
   "execution_count": 113,
   "id": "2bc03773-f247-4f72-ab49-7bcb73d4404c",
   "metadata": {},
   "outputs": [
    {
     "data": {
      "image/png": "[encoded data removed]",
      "text/plain": [
       "<Figure size 1152x576 with 3 Axes>"
      ]
     },
     "metadata": {},
     "output_type": "display_data"
    }
   ],
   "source": [
    "filt1 = (rt['date'] >= pd.to_datetime('2013-01-01')) & (rt['date'] <= pd.to_datetime('2019-12-31')) #new period 1\n",
    "filt2 = (rt['date'] >= pd.to_datetime('2020-01-01')) & (rt['date'] <= pd.to_datetime('2022-02-28')) #new period 2\n",
    "\n",
    "fig = plt.figure(figsize=(16, 8))\n",
    "ax1 = fig.add_subplot(3,1,1)\n",
    "ax1.plot(rt[filt1].date, rt[filt1].port_low, color='r', alpha=0.45)\n",
    "ax1.plot(rt[filt2].date, rt[filt2].port_low, color='r', label='low')\n",
    "ax1.legend()\n",
    "ax2 = fig.add_subplot(3,1,2)\n",
    "ax2.plot(rt[filt1].date, rt[filt1].port_mid, color='orange', alpha=0.45)\n",
    "ax2.plot(rt[filt2].date, rt[filt2].port_mid, color='orange', label='mid')\n",
    "ax2.legend()\n",
    "ax3 = fig.add_subplot(3,1,3)\n",
    "ax3.plot(rt[filt1].date, rt[filt1].port_high, color='g', alpha=0.45)\n",
    "ax3.plot(rt[filt2].date, rt[filt2].port_high, color='g', label='high')\n",
    "ax3.legend()\n",
    "plt.savefig('vol.png');"
   ]
  },
  {
   "cell_type": "code",
   "execution_count": null,
   "id": "4b9a6535-0df9-479b-b7cc-5bddf2bcf374",
   "metadata": {},
   "outputs": [],
   "source": []
  }
 ],
 "metadata": {
  "kernelspec": {
   "display_name": "Python 3 (ipykernel)",
   "language": "python",
   "name": "python3"
  },
  "language_info": {
   "codemirror_mode": {
    "name": "ipython",
    "version": 3
   },
   "file_extension": ".py",
   "mimetype": "text/x-python",
   "name": "python",
   "nbconvert_exporter": "python",
   "pygments_lexer": "ipython3",
   "version": "3.9.7"
  }
 },
 "nbformat": 4,
 "nbformat_minor": 5
}
