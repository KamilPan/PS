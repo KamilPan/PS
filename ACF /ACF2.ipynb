{
 "cells": [
  {
   "cell_type": "code",
   "execution_count": 49,
   "id": "3e9d030b-a9da-4020-b287-389693510226",
   "metadata": {},
   "outputs": [],
   "source": [
    "import pandas as pd\n",
    "import numpy as np\n",
    "from IPython.display import display\n",
    "import matplotlib.pyplot as plt\n",
    "import matplotlib.patches as mpatches\n",
    "import statsmodels.api as sm\n",
    "import statsmodels.formula.api as smf\n",
    "plt.style.use('seaborn-whitegrid')"
   ]
  },
  {
   "cell_type": "code",
   "execution_count": 50,
   "id": "1e00341d-3ec3-4170-a67a-eb594805a6cf",
   "metadata": {},
   "outputs": [
    {
     "name": "stdout",
     "output_type": "stream",
     "text": [
      "The autoreload extension is already loaded. To reload it, use:\n",
      "  %reload_ext autoreload\n"
     ]
    }
   ],
   "source": [
    "# magic to reload modules automatically\n",
    "%load_ext autoreload\n",
    "%autoreload 2"
   ]
  },
  {
   "cell_type": "code",
   "execution_count": 51,
   "id": "634c4d93-325c-40a4-b58f-a7174f75c0a5",
   "metadata": {},
   "outputs": [],
   "source": [
    "#conda install -c conda-forge statsmodels"
   ]
  },
  {
   "cell_type": "code",
   "execution_count": 52,
   "id": "ddf7ee79-e8a6-48b4-aac8-6ae39264d6e3",
   "metadata": {},
   "outputs": [
    {
     "name": "stdout",
     "output_type": "stream",
     "text": [
      "(2297, 115)\n",
      "(2349, 125)\n",
      "(2324, 8)\n"
     ]
    }
   ],
   "source": [
    "rt = pd.read_excel('rt.xlsx')\n",
    "esg_esg = pd.read_excel('esg_esg.xlsx')\n",
    "it = pd.read_excel('it.xlsx')\n",
    "ff = pd.read_excel('ff.xlsx')\n",
    "esg_esg.rename(columns={'Unnamed: 0':'scores'}, inplace=True)\n",
    "rt = rt.replace(0, np.nan)\n",
    "rt.dropna(how='all', axis='index', thresh=4, inplace=True)\n",
    "rt = rt.replace(np.nan, 0)\n",
    "print(rt.shape)\n",
    "print(it.shape)\n",
    "print(ff.shape)"
   ]
  },
  {
   "cell_type": "code",
   "execution_count": 53,
   "id": "647653f6-b408-4d69-aa41-9d9a533cd490",
   "metadata": {},
   "outputs": [],
   "source": [
    "pd.set_option('display.max_columns',125) # I want to see all the columns\n",
    "pd.set_option('display.max_rows',600) "
   ]
  },
  {
   "cell_type": "code",
   "execution_count": 54,
   "id": "a573428c-946e-44b8-864b-ef20d6df2a81",
   "metadata": {},
   "outputs": [],
   "source": [
    "it = it.loc[:,['Unnamed: 0.1','DAX Index','OMXS30B Index','OMXC25 Index','OMX Index']]"
   ]
  },
  {
   "cell_type": "code",
   "execution_count": 55,
   "id": "ea2531a3-85e1-4a7f-9e2e-a7e84171779c",
   "metadata": {},
   "outputs": [],
   "source": [
    "for i in it.columns[1:]:\n",
    "    it.loc[:,i] = it.loc[:,i].pct_change(1)*100\n",
    "it.drop(index=[0], inplace=True)"
   ]
  },
  {
   "cell_type": "code",
   "execution_count": 56,
   "id": "5a542e9e-6c56-45c6-912e-2c53de8b2676",
   "metadata": {},
   "outputs": [],
   "source": [
    "it.rename(columns={'Unnamed: 0.1' : 'date'}, inplace=True)\n",
    "rt.drop(columns='Unnamed: 0', inplace=True)\n",
    "ff.drop(columns='Unnamed: 0', inplace=True)\n",
    "rt = rt.loc[:,['date','port_low','port_mid','port_high']]"
   ]
  },
  {
   "cell_type": "code",
   "execution_count": 57,
   "id": "f4edf8b8-b600-449d-ac3e-e01054c109bb",
   "metadata": {},
   "outputs": [],
   "source": [
    "rt = rt.merge(ff,on=['date'], how='left')\n",
    "rt = rt.merge(it,on=['date'], how='left')"
   ]
  },
  {
   "cell_type": "code",
   "execution_count": 58,
   "id": "959457ae-ecd8-4472-b1ed-154d23848fc2",
   "metadata": {
    "tags": []
   },
   "outputs": [],
   "source": [
    "pd.set_option(\"display.precision\", 5)\n",
    "rt['RF'] = rt['RF']*100"
   ]
  },
  {
   "cell_type": "code",
   "execution_count": 59,
   "id": "2c4caae6-7aea-4608-a6a7-054b1011ba46",
   "metadata": {},
   "outputs": [],
   "source": [
    "rt.rename(columns={'Mkt-RF' : 'MktRF'}, inplace=True)"
   ]
  },
  {
   "cell_type": "code",
   "execution_count": 60,
   "id": "2a46112b-8daf-40db-bcef-c6e6ecd19b65",
   "metadata": {},
   "outputs": [
    {
     "data": {
      "image/png": "[encoded data removed]",
      "text/plain": [
       "<Figure size 432x288 with 1 Axes>"
      ]
     },
     "metadata": {},
     "output_type": "display_data"
    }
   ],
   "source": [
    "plt.plot(rt['date'], rt['MktRF']);"
   ]
  },
  {
   "cell_type": "raw",
   "id": "78d7bb6b-4998-4544-af5a-6df1a1dd365f",
   "metadata": {},
   "source": [
    "rt"
   ]
  },
  {
   "cell_type": "code",
   "execution_count": 61,
   "id": "853cf380-9cc6-4e50-a9b7-bba559cb8013",
   "metadata": {},
   "outputs": [],
   "source": [
    "filt = (rt['date'] >= pd.to_datetime('2013-01-01')) & (rt['date'] <= pd.to_datetime('2022-02-28')) \n",
    "rt = rt[filt]\n",
    "rt.dropna(how='all', axis='index', thresh=5, inplace=True)"
   ]
  },
  {
   "cell_type": "code",
   "execution_count": 62,
   "id": "2ec5ca13-4fa3-49f9-9f06-11f3475eb73a",
   "metadata": {},
   "outputs": [
    {
     "data": {
      "text/html": [
       "<div>\n",
       "<style scoped>\n",
       "    .dataframe tbody tr th:only-of-type {\n",
       "        vertical-align: middle;\n",
       "    }\n",
       "\n",
       "    .dataframe tbody tr th {\n",
       "        vertical-align: top;\n",
       "    }\n",
       "\n",
       "    .dataframe thead th {\n",
       "        text-align: right;\n",
       "    }\n",
       "</style>\n",
       "<table border=\"1\" class=\"dataframe\">\n",
       "  <thead>\n",
       "    <tr style=\"text-align: right;\">\n",
       "      <th></th>\n",
       "      <th>port_low</th>\n",
       "      <th>port_mid</th>\n",
       "      <th>port_high</th>\n",
       "      <th>MktRF</th>\n",
       "      <th>SMB</th>\n",
       "      <th>HML</th>\n",
       "      <th>RMW</th>\n",
       "      <th>CMA</th>\n",
       "      <th>RF</th>\n",
       "      <th>DAX Index</th>\n",
       "      <th>OMXS30B Index</th>\n",
       "      <th>OMXC25 Index</th>\n",
       "      <th>OMX Index</th>\n",
       "    </tr>\n",
       "  </thead>\n",
       "  <tbody>\n",
       "    <tr>\n",
       "      <th>count</th>\n",
       "      <td>2273.00000</td>\n",
       "      <td>2273.00000</td>\n",
       "      <td>2273.00000</td>\n",
       "      <td>2273.00000</td>\n",
       "      <td>2273.00000</td>\n",
       "      <td>2273.00000</td>\n",
       "      <td>2273.00000</td>\n",
       "      <td>2273.00000</td>\n",
       "      <td>2273.00000</td>\n",
       "      <td>2273.00000</td>\n",
       "      <td>2273.00000</td>\n",
       "      <td>2273.00000</td>\n",
       "      <td>2273.00000</td>\n",
       "    </tr>\n",
       "    <tr>\n",
       "      <th>mean</th>\n",
       "      <td>0.07785</td>\n",
       "      <td>0.04066</td>\n",
       "      <td>0.04817</td>\n",
       "      <td>0.02948</td>\n",
       "      <td>0.00846</td>\n",
       "      <td>-0.00698</td>\n",
       "      <td>0.01433</td>\n",
       "      <td>-0.00879</td>\n",
       "      <td>0.24197</td>\n",
       "      <td>0.03381</td>\n",
       "      <td>0.03118</td>\n",
       "      <td>0.05408</td>\n",
       "      <td>0.03118</td>\n",
       "    </tr>\n",
       "    <tr>\n",
       "      <th>std</th>\n",
       "      <td>1.04865</td>\n",
       "      <td>1.02315</td>\n",
       "      <td>1.07608</td>\n",
       "      <td>1.01498</td>\n",
       "      <td>0.41976</td>\n",
       "      <td>0.53665</td>\n",
       "      <td>0.30293</td>\n",
       "      <td>0.29614</td>\n",
       "      <td>0.42837</td>\n",
       "      <td>1.21824</td>\n",
       "      <td>1.11251</td>\n",
       "      <td>1.05332</td>\n",
       "      <td>1.11251</td>\n",
       "    </tr>\n",
       "    <tr>\n",
       "      <th>min</th>\n",
       "      <td>-10.32080</td>\n",
       "      <td>-10.73624</td>\n",
       "      <td>-11.41330</td>\n",
       "      <td>-12.01000</td>\n",
       "      <td>-3.32000</td>\n",
       "      <td>-3.03000</td>\n",
       "      <td>-1.74000</td>\n",
       "      <td>-1.74000</td>\n",
       "      <td>0.00000</td>\n",
       "      <td>-12.23862</td>\n",
       "      <td>-10.57105</td>\n",
       "      <td>-8.02912</td>\n",
       "      <td>-10.57117</td>\n",
       "    </tr>\n",
       "    <tr>\n",
       "      <th>25%</th>\n",
       "      <td>-0.40332</td>\n",
       "      <td>-0.42903</td>\n",
       "      <td>-0.42355</td>\n",
       "      <td>-0.44000</td>\n",
       "      <td>-0.23000</td>\n",
       "      <td>-0.28000</td>\n",
       "      <td>-0.16000</td>\n",
       "      <td>-0.19000</td>\n",
       "      <td>0.00000</td>\n",
       "      <td>-0.49149</td>\n",
       "      <td>-0.53259</td>\n",
       "      <td>-0.51362</td>\n",
       "      <td>-0.53247</td>\n",
       "    </tr>\n",
       "    <tr>\n",
       "      <th>50%</th>\n",
       "      <td>0.12352</td>\n",
       "      <td>0.07708</td>\n",
       "      <td>0.08441</td>\n",
       "      <td>0.07000</td>\n",
       "      <td>0.01000</td>\n",
       "      <td>-0.03000</td>\n",
       "      <td>0.03000</td>\n",
       "      <td>-0.01000</td>\n",
       "      <td>0.00000</td>\n",
       "      <td>0.06986</td>\n",
       "      <td>0.05814</td>\n",
       "      <td>0.06263</td>\n",
       "      <td>0.05814</td>\n",
       "    </tr>\n",
       "    <tr>\n",
       "      <th>75%</th>\n",
       "      <td>0.61330</td>\n",
       "      <td>0.57564</td>\n",
       "      <td>0.56844</td>\n",
       "      <td>0.55000</td>\n",
       "      <td>0.25000</td>\n",
       "      <td>0.26000</td>\n",
       "      <td>0.19000</td>\n",
       "      <td>0.16000</td>\n",
       "      <td>0.00000</td>\n",
       "      <td>0.64083</td>\n",
       "      <td>0.63850</td>\n",
       "      <td>0.67273</td>\n",
       "      <td>0.63868</td>\n",
       "    </tr>\n",
       "    <tr>\n",
       "      <th>max</th>\n",
       "      <td>7.27510</td>\n",
       "      <td>6.68160</td>\n",
       "      <td>8.87625</td>\n",
       "      <td>8.54000</td>\n",
       "      <td>1.86000</td>\n",
       "      <td>4.38000</td>\n",
       "      <td>2.69000</td>\n",
       "      <td>1.31000</td>\n",
       "      <td>1.00000</td>\n",
       "      <td>10.97590</td>\n",
       "      <td>7.08908</td>\n",
       "      <td>5.07265</td>\n",
       "      <td>7.08859</td>\n",
       "    </tr>\n",
       "  </tbody>\n",
       "</table>\n",
       "</div>"
      ],
      "text/plain": [
       "         port_low    port_mid   port_high       MktRF         SMB         HML  \\\n",
       "count  2273.00000  2273.00000  2273.00000  2273.00000  2273.00000  2273.00000   \n",
       "mean      0.07785     0.04066     0.04817     0.02948     0.00846    -0.00698   \n",
       "std       1.04865     1.02315     1.07608     1.01498     0.41976     0.53665   \n",
       "min     -10.32080   -10.73624   -11.41330   -12.01000    -3.32000    -3.03000   \n",
       "25%      -0.40332    -0.42903    -0.42355    -0.44000    -0.23000    -0.28000   \n",
       "50%       0.12352     0.07708     0.08441     0.07000     0.01000    -0.03000   \n",
       "75%       0.61330     0.57564     0.56844     0.55000     0.25000     0.26000   \n",
       "max       7.27510     6.68160     8.87625     8.54000     1.86000     4.38000   \n",
       "\n",
       "              RMW         CMA          RF   DAX Index  OMXS30B Index  \\\n",
       "count  2273.00000  2273.00000  2273.00000  2273.00000     2273.00000   \n",
       "mean      0.01433    -0.00879     0.24197     0.03381        0.03118   \n",
       "std       0.30293     0.29614     0.42837     1.21824        1.11251   \n",
       "min      -1.74000    -1.74000     0.00000   -12.23862      -10.57105   \n",
       "25%      -0.16000    -0.19000     0.00000    -0.49149       -0.53259   \n",
       "50%       0.03000    -0.01000     0.00000     0.06986        0.05814   \n",
       "75%       0.19000     0.16000     0.00000     0.64083        0.63850   \n",
       "max       2.69000     1.31000     1.00000    10.97590        7.08908   \n",
       "\n",
       "       OMXC25 Index   OMX Index  \n",
       "count    2273.00000  2273.00000  \n",
       "mean        0.05408     0.03118  \n",
       "std         1.05332     1.11251  \n",
       "min        -8.02912   -10.57117  \n",
       "25%        -0.51362    -0.53247  \n",
       "50%         0.06263     0.05814  \n",
       "75%         0.67273     0.63868  \n",
       "max         5.07265     7.08859  "
      ]
     },
     "execution_count": 62,
     "metadata": {},
     "output_type": "execute_result"
    }
   ],
   "source": [
    "rt.describe()"
   ]
  },
  {
   "cell_type": "code",
   "execution_count": 63,
   "id": "2a143b7f-fc78-4e8b-93f3-336a06c5872e",
   "metadata": {},
   "outputs": [
    {
     "data": {
      "text/html": [
       "<div>\n",
       "<style scoped>\n",
       "    .dataframe tbody tr th:only-of-type {\n",
       "        vertical-align: middle;\n",
       "    }\n",
       "\n",
       "    .dataframe tbody tr th {\n",
       "        vertical-align: top;\n",
       "    }\n",
       "\n",
       "    .dataframe thead th {\n",
       "        text-align: right;\n",
       "    }\n",
       "</style>\n",
       "<table border=\"1\" class=\"dataframe\">\n",
       "  <thead>\n",
       "    <tr style=\"text-align: right;\">\n",
       "      <th></th>\n",
       "      <th>port_low</th>\n",
       "      <th>port_mid</th>\n",
       "      <th>port_high</th>\n",
       "      <th>MktRF</th>\n",
       "    </tr>\n",
       "  </thead>\n",
       "  <tbody>\n",
       "    <tr>\n",
       "      <th>port_low</th>\n",
       "      <td>1.00000</td>\n",
       "      <td>0.90316</td>\n",
       "      <td>0.87876</td>\n",
       "      <td>0.79846</td>\n",
       "    </tr>\n",
       "    <tr>\n",
       "      <th>port_mid</th>\n",
       "      <td>0.90316</td>\n",
       "      <td>1.00000</td>\n",
       "      <td>0.93236</td>\n",
       "      <td>0.83896</td>\n",
       "    </tr>\n",
       "    <tr>\n",
       "      <th>port_high</th>\n",
       "      <td>0.87876</td>\n",
       "      <td>0.93236</td>\n",
       "      <td>1.00000</td>\n",
       "      <td>0.85602</td>\n",
       "    </tr>\n",
       "    <tr>\n",
       "      <th>MktRF</th>\n",
       "      <td>0.79846</td>\n",
       "      <td>0.83896</td>\n",
       "      <td>0.85602</td>\n",
       "      <td>1.00000</td>\n",
       "    </tr>\n",
       "  </tbody>\n",
       "</table>\n",
       "</div>"
      ],
      "text/plain": [
       "           port_low  port_mid  port_high    MktRF\n",
       "port_low    1.00000   0.90316    0.87876  0.79846\n",
       "port_mid    0.90316   1.00000    0.93236  0.83896\n",
       "port_high   0.87876   0.93236    1.00000  0.85602\n",
       "MktRF       0.79846   0.83896    0.85602  1.00000"
      ]
     },
     "execution_count": 63,
     "metadata": {},
     "output_type": "execute_result"
    }
   ],
   "source": [
    "rt.loc[:,['port_low','port_mid','port_high','MktRF']].corr()"
   ]
  },
  {
   "cell_type": "code",
   "execution_count": 64,
   "id": "0938288b-e205-47f3-a52b-d25262091e42",
   "metadata": {},
   "outputs": [
    {
     "name": "stdout",
     "output_type": "stream",
     "text": [
      "                            OLS Regression Results                            \n",
      "==============================================================================\n",
      "Dep. Variable:               port_low   R-squared:                       0.638\n",
      "Model:                            OLS   Adj. R-squared:                  0.637\n",
      "Method:                 Least Squares   F-statistic:                     3994.\n",
      "Date:                Sun, 24 Apr 2022   Prob (F-statistic):               0.00\n",
      "Time:                        18:10:01   Log-Likelihood:                -2179.4\n",
      "No. Observations:                2273   AIC:                             4363.\n",
      "Df Residuals:                    2271   BIC:                             4374.\n",
      "Df Model:                           1                                         \n",
      "Covariance Type:            nonrobust                                         \n",
      "==============================================================================\n",
      "                 coef    std err          t      P>|t|      [0.025      0.975]\n",
      "------------------------------------------------------------------------------\n",
      "Intercept      0.0535      0.013      4.040      0.000       0.028       0.080\n",
      "MktRF          0.8249      0.013     63.201      0.000       0.799       0.851\n",
      "==============================================================================\n",
      "Omnibus:                      107.253   Durbin-Watson:                   2.068\n",
      "Prob(Omnibus):                  0.000   Jarque-Bera (JB):              368.234\n",
      "Skew:                           0.037   Prob(JB):                     1.09e-80\n",
      "Kurtosis:                       4.970   Cond. No.                         1.03\n",
      "==============================================================================\n",
      "\n",
      "Notes:\n",
      "[1] Standard Errors assume that the covariance matrix of the errors is correctly specified.\n"
     ]
    }
   ],
   "source": [
    "model1 = smf.ols(formula='port_low ~ MktRF', data=rt).fit() \n",
    "print(model1.summary())\n",
    "#trend = model1.params[0] + model1.params[1]* rt['port_low']\n",
    "#plt.scatter(rt['port_low'],rt['MktRF'])\n",
    "#plt.plot(trend, rt['port_low'], 'r');"
   ]
  },
  {
   "cell_type": "code",
   "execution_count": 65,
   "id": "a858c53d-b14a-487a-8ef1-facf69193731",
   "metadata": {},
   "outputs": [
    {
     "name": "stdout",
     "output_type": "stream",
     "text": [
      "                            OLS Regression Results                            \n",
      "==============================================================================\n",
      "Dep. Variable:               port_low   R-squared:                       0.646\n",
      "Model:                            OLS   Adj. R-squared:                  0.645\n",
      "Method:                 Least Squares   F-statistic:                     1378.\n",
      "Date:                Sun, 24 Apr 2022   Prob (F-statistic):               0.00\n",
      "Time:                        18:10:01   Log-Likelihood:                -2153.5\n",
      "No. Observations:                2273   AIC:                             4315.\n",
      "Df Residuals:                    2269   BIC:                             4338.\n",
      "Df Model:                           3                                         \n",
      "Covariance Type:            nonrobust                                         \n",
      "==============================================================================\n",
      "                 coef    std err          t      P>|t|      [0.025      0.975]\n",
      "------------------------------------------------------------------------------\n",
      "Intercept      0.0512      0.013      3.900      0.000       0.025       0.077\n",
      "MktRF          0.8536      0.015     57.090      0.000       0.824       0.883\n",
      "SMB            0.0318      0.036      0.894      0.372      -0.038       0.102\n",
      "HML           -0.1791      0.025     -7.116      0.000      -0.228      -0.130\n",
      "==============================================================================\n",
      "Omnibus:                       98.470   Durbin-Watson:                   2.072\n",
      "Prob(Omnibus):                  0.000   Jarque-Bera (JB):              318.885\n",
      "Skew:                           0.011   Prob(JB):                     5.69e-70\n",
      "Kurtosis:                       4.835   Cond. No.                         2.92\n",
      "==============================================================================\n",
      "\n",
      "Notes:\n",
      "[1] Standard Errors assume that the covariance matrix of the errors is correctly specified.\n"
     ]
    }
   ],
   "source": [
    "model11 = smf.ols(formula='port_low ~ MktRF + SMB + HML', data=rt).fit() \n",
    "print(model11.summary())"
   ]
  },
  {
   "cell_type": "code",
   "execution_count": 66,
   "id": "5a573a48-ecc2-4b5d-aa7a-9ae8aa18608e",
   "metadata": {},
   "outputs": [
    {
     "name": "stdout",
     "output_type": "stream",
     "text": [
      "                            OLS Regression Results                            \n",
      "==============================================================================\n",
      "Dep. Variable:               port_low   R-squared:                       0.647\n",
      "Model:                            OLS   Adj. R-squared:                  0.646\n",
      "Method:                 Least Squares   F-statistic:                     829.7\n",
      "Date:                Sun, 24 Apr 2022   Prob (F-statistic):               0.00\n",
      "Time:                        18:10:01   Log-Likelihood:                -2150.5\n",
      "No. Observations:                2273   AIC:                             4313.\n",
      "Df Residuals:                    2267   BIC:                             4347.\n",
      "Df Model:                           5                                         \n",
      "Covariance Type:            nonrobust                                         \n",
      "==============================================================================\n",
      "                 coef    std err          t      P>|t|      [0.025      0.975]\n",
      "------------------------------------------------------------------------------\n",
      "Intercept      0.0500      0.013      3.813      0.000       0.024       0.076\n",
      "MktRF          0.8421      0.016     53.727      0.000       0.811       0.873\n",
      "SMB            0.0168      0.036      0.465      0.642      -0.054       0.088\n",
      "HML           -0.0905      0.046     -1.974      0.049      -0.181      -0.001\n",
      "RMW            0.0649      0.065      0.992      0.321      -0.063       0.193\n",
      "CMA           -0.1454      0.067     -2.170      0.030      -0.277      -0.014\n",
      "==============================================================================\n",
      "Omnibus:                      100.065   Durbin-Watson:                   2.070\n",
      "Prob(Omnibus):                  0.000   Jarque-Bera (JB):              328.032\n",
      "Skew:                           0.008   Prob(JB):                     5.87e-72\n",
      "Kurtosis:                       4.861   Cond. No.                         6.14\n",
      "==============================================================================\n",
      "\n",
      "Notes:\n",
      "[1] Standard Errors assume that the covariance matrix of the errors is correctly specified.\n"
     ]
    }
   ],
   "source": [
    "model111 = smf.ols(formula='port_low ~ MktRF + SMB + HML + RMW + CMA', data=rt).fit() \n",
    "print(model111.summary())"
   ]
  },
  {
   "cell_type": "code",
   "execution_count": 67,
   "id": "7eb95ce8-bda4-4f44-918e-e80bb6be8aad",
   "metadata": {},
   "outputs": [
    {
     "name": "stdout",
     "output_type": "stream",
     "text": [
      "                            OLS Regression Results                            \n",
      "==============================================================================\n",
      "Dep. Variable:               port_mid   R-squared:                       0.704\n",
      "Model:                            OLS   Adj. R-squared:                  0.704\n",
      "Method:                 Least Squares   F-statistic:                     5397.\n",
      "Date:                Sun, 24 Apr 2022   Prob (F-statistic):               0.00\n",
      "Time:                        18:10:01   Log-Likelihood:                -1893.8\n",
      "No. Observations:                2273   AIC:                             3792.\n",
      "Df Residuals:                    2271   BIC:                             3803.\n",
      "Df Model:                           1                                         \n",
      "Covariance Type:            nonrobust                                         \n",
      "==============================================================================\n",
      "                 coef    std err          t      P>|t|      [0.025      0.975]\n",
      "------------------------------------------------------------------------------\n",
      "Intercept      0.0157      0.012      1.346      0.178      -0.007       0.039\n",
      "MktRF          0.8457      0.012     73.467      0.000       0.823       0.868\n",
      "==============================================================================\n",
      "Omnibus:                      169.426   Durbin-Watson:                   2.095\n",
      "Prob(Omnibus):                  0.000   Jarque-Bera (JB):              759.697\n",
      "Skew:                           0.198   Prob(JB):                    1.08e-165\n",
      "Kurtosis:                       5.804   Cond. No.                         1.03\n",
      "==============================================================================\n",
      "\n",
      "Notes:\n",
      "[1] Standard Errors assume that the covariance matrix of the errors is correctly specified.\n"
     ]
    }
   ],
   "source": [
    "model2 = smf.ols(formula='port_mid ~ MktRF', data=rt).fit() \n",
    "print(model2.summary())\n",
    "#trend = model2.params[0] + model2.params[1]* rt['port_mid']\n",
    "#plt.scatter(rt['port_mid'],rt['MktRF'])\n",
    "#plt.plot(trend, rt['port_mid'], 'r');"
   ]
  },
  {
   "cell_type": "code",
   "execution_count": 68,
   "id": "079d22b0-10a1-4d37-853a-ecbb31a0d9a9",
   "metadata": {
    "tags": []
   },
   "outputs": [
    {
     "name": "stdout",
     "output_type": "stream",
     "text": [
      "                            OLS Regression Results                            \n",
      "==============================================================================\n",
      "Dep. Variable:               port_mid   R-squared:                       0.720\n",
      "Model:                            OLS   Adj. R-squared:                  0.719\n",
      "Method:                 Least Squares   F-statistic:                     1943.\n",
      "Date:                Sun, 24 Apr 2022   Prob (F-statistic):               0.00\n",
      "Time:                        18:10:01   Log-Likelihood:                -1830.9\n",
      "No. Observations:                2273   AIC:                             3670.\n",
      "Df Residuals:                    2269   BIC:                             3693.\n",
      "Df Model:                           3                                         \n",
      "Covariance Type:            nonrobust                                         \n",
      "==============================================================================\n",
      "                 coef    std err          t      P>|t|      [0.025      0.975]\n",
      "------------------------------------------------------------------------------\n",
      "Intercept      0.0192      0.011      1.690      0.091      -0.003       0.042\n",
      "MktRF          0.7949      0.013     61.268      0.000       0.769       0.820\n",
      "SMB           -0.3246      0.031    -10.515      0.000      -0.385      -0.264\n",
      "HML           -0.1057      0.022     -4.842      0.000      -0.149      -0.063\n",
      "==============================================================================\n",
      "Omnibus:                      164.718   Durbin-Watson:                   2.126\n",
      "Prob(Omnibus):                  0.000   Jarque-Bera (JB):              734.225\n",
      "Skew:                           0.182   Prob(JB):                    3.67e-160\n",
      "Kurtosis:                       5.761   Cond. No.                         2.92\n",
      "==============================================================================\n",
      "\n",
      "Notes:\n",
      "[1] Standard Errors assume that the covariance matrix of the errors is correctly specified.\n"
     ]
    }
   ],
   "source": [
    "model22 = smf.ols(formula='port_mid ~ MktRF + SMB + HML', data=rt).fit() \n",
    "print(model22.summary())"
   ]
  },
  {
   "cell_type": "code",
   "execution_count": 69,
   "id": "02698c9a-229f-4d63-b751-fd89470c46b6",
   "metadata": {},
   "outputs": [
    {
     "name": "stdout",
     "output_type": "stream",
     "text": [
      "                            OLS Regression Results                            \n",
      "==============================================================================\n",
      "Dep. Variable:               port_mid   R-squared:                       0.720\n",
      "Model:                            OLS   Adj. R-squared:                  0.720\n",
      "Method:                 Least Squares   F-statistic:                     1167.\n",
      "Date:                Sun, 24 Apr 2022   Prob (F-statistic):               0.00\n",
      "Time:                        18:10:01   Log-Likelihood:                -1829.5\n",
      "No. Observations:                2273   AIC:                             3671.\n",
      "Df Residuals:                    2267   BIC:                             3705.\n",
      "Df Model:                           5                                         \n",
      "Covariance Type:            nonrobust                                         \n",
      "==============================================================================\n",
      "                 coef    std err          t      P>|t|      [0.025      0.975]\n",
      "------------------------------------------------------------------------------\n",
      "Intercept      0.0189      0.011      1.657      0.098      -0.003       0.041\n",
      "MktRF          0.7882      0.014     57.912      0.000       0.761       0.815\n",
      "SMB           -0.3339      0.031    -10.645      0.000      -0.395      -0.272\n",
      "HML           -0.0631      0.040     -1.584      0.113      -0.141       0.015\n",
      "RMW            0.0059      0.057      0.103      0.918      -0.106       0.117\n",
      "CMA           -0.0962      0.058     -1.653      0.098      -0.210       0.018\n",
      "==============================================================================\n",
      "Omnibus:                      172.806   Durbin-Watson:                   2.125\n",
      "Prob(Omnibus):                  0.000   Jarque-Bera (JB):              800.800\n",
      "Skew:                           0.192   Prob(JB):                    1.28e-174\n",
      "Kurtosis:                       5.882   Cond. No.                         6.14\n",
      "==============================================================================\n",
      "\n",
      "Notes:\n",
      "[1] Standard Errors assume that the covariance matrix of the errors is correctly specified.\n"
     ]
    }
   ],
   "source": [
    "model222 = smf.ols(formula='port_mid ~ MktRF + SMB + HML + RMW + CMA', data=rt).fit() \n",
    "print(model222.summary())"
   ]
  },
  {
   "cell_type": "code",
   "execution_count": 70,
   "id": "c1ff8f34-cb4b-427f-b1f2-ce6a66ecf1b2",
   "metadata": {},
   "outputs": [
    {
     "name": "stdout",
     "output_type": "stream",
     "text": [
      "                            OLS Regression Results                            \n",
      "==============================================================================\n",
      "Dep. Variable:              port_high   R-squared:                       0.733\n",
      "Model:                            OLS   Adj. R-squared:                  0.733\n",
      "Method:                 Least Squares   F-statistic:                     6227.\n",
      "Date:                Sun, 24 Apr 2022   Prob (F-statistic):               0.00\n",
      "Time:                        18:10:01   Log-Likelihood:                -1891.7\n",
      "No. Observations:                2273   AIC:                             3787.\n",
      "Df Residuals:                    2271   BIC:                             3799.\n",
      "Df Model:                           1                                         \n",
      "Covariance Type:            nonrobust                                         \n",
      "==============================================================================\n",
      "                 coef    std err          t      P>|t|      [0.025      0.975]\n",
      "------------------------------------------------------------------------------\n",
      "Intercept      0.0214      0.012      1.835      0.067      -0.001       0.044\n",
      "MktRF          0.9076      0.012     78.912      0.000       0.885       0.930\n",
      "==============================================================================\n",
      "Omnibus:                      121.904   Durbin-Watson:                   2.055\n",
      "Prob(Omnibus):                  0.000   Jarque-Bera (JB):              421.294\n",
      "Skew:                           0.146   Prob(JB):                     3.29e-92\n",
      "Kurtosis:                       5.089   Cond. No.                         1.03\n",
      "==============================================================================\n",
      "\n",
      "Notes:\n",
      "[1] Standard Errors assume that the covariance matrix of the errors is correctly specified.\n"
     ]
    }
   ],
   "source": [
    "model3 = smf.ols(formula='port_high ~ MktRF', data=rt).fit() \n",
    "print(model3.summary())\n",
    "#trend = model3.params[0] + model3.params[1]* rt['port_high']\n",
    "#plt.scatter(rt['port_high'],rt['MktRF'])\n",
    "#plt.plot(trend, rt['port_high'], 'r');"
   ]
  },
  {
   "cell_type": "code",
   "execution_count": 71,
   "id": "f2f061a5-4d5b-4faa-9e75-aaaa7089b1dc",
   "metadata": {},
   "outputs": [
    {
     "name": "stdout",
     "output_type": "stream",
     "text": [
      "                            OLS Regression Results                            \n",
      "==============================================================================\n",
      "Dep. Variable:              port_high   R-squared:                       0.761\n",
      "Model:                            OLS   Adj. R-squared:                  0.761\n",
      "Method:                 Least Squares   F-statistic:                     2410.\n",
      "Date:                Sun, 24 Apr 2022   Prob (F-statistic):               0.00\n",
      "Time:                        18:10:01   Log-Likelihood:                -1764.3\n",
      "No. Observations:                2273   AIC:                             3537.\n",
      "Df Residuals:                    2269   BIC:                             3559.\n",
      "Df Model:                           3                                         \n",
      "Covariance Type:            nonrobust                                         \n",
      "==============================================================================\n",
      "                 coef    std err          t      P>|t|      [0.025      0.975]\n",
      "------------------------------------------------------------------------------\n",
      "Intercept      0.0286      0.011      2.589      0.010       0.007       0.050\n",
      "MktRF          0.8086      0.013     64.178      0.000       0.784       0.833\n",
      "SMB           -0.4888      0.030    -16.308      0.000      -0.548      -0.430\n",
      "HML            0.0202      0.021      0.951      0.342      -0.021       0.062\n",
      "==============================================================================\n",
      "Omnibus:                      133.526   Durbin-Watson:                   2.080\n",
      "Prob(Omnibus):                  0.000   Jarque-Bera (JB):              501.299\n",
      "Skew:                           0.148   Prob(JB):                    1.39e-109\n",
      "Kurtosis:                       5.282   Cond. No.                         2.92\n",
      "==============================================================================\n",
      "\n",
      "Notes:\n",
      "[1] Standard Errors assume that the covariance matrix of the errors is correctly specified.\n"
     ]
    }
   ],
   "source": [
    "model33 = smf.ols(formula='port_high ~ MktRF + SMB + HML', data=rt).fit() \n",
    "print(model33.summary())"
   ]
  },
  {
   "cell_type": "code",
   "execution_count": 72,
   "id": "80137c09-558e-499c-ba7b-da67f0666e70",
   "metadata": {},
   "outputs": [
    {
     "name": "stdout",
     "output_type": "stream",
     "text": [
      "                            OLS Regression Results                            \n",
      "==============================================================================\n",
      "Dep. Variable:              port_high   R-squared:                       0.765\n",
      "Model:                            OLS   Adj. R-squared:                  0.764\n",
      "Method:                 Least Squares   F-statistic:                     1473.\n",
      "Date:                Sun, 24 Apr 2022   Prob (F-statistic):               0.00\n",
      "Time:                        18:10:01   Log-Likelihood:                -1747.1\n",
      "No. Observations:                2273   AIC:                             3506.\n",
      "Df Residuals:                    2267   BIC:                             3541.\n",
      "Df Model:                           5                                         \n",
      "Covariance Type:            nonrobust                                         \n",
      "==============================================================================\n",
      "                 coef    std err          t      P>|t|      [0.025      0.975]\n",
      "------------------------------------------------------------------------------\n",
      "Intercept      0.0252      0.011      2.291      0.022       0.004       0.047\n",
      "MktRF          0.7982      0.013     60.820      0.000       0.773       0.824\n",
      "SMB           -0.4974      0.030    -16.442      0.000      -0.557      -0.438\n",
      "HML            0.1727      0.038      4.496      0.000       0.097       0.248\n",
      "RMW            0.3165      0.055      5.776      0.000       0.209       0.424\n",
      "CMA           -0.0393      0.056     -0.701      0.484      -0.149       0.071\n",
      "==============================================================================\n",
      "Omnibus:                      105.779   Durbin-Watson:                   2.093\n",
      "Prob(Omnibus):                  0.000   Jarque-Bera (JB):              342.550\n",
      "Skew:                           0.101   Prob(JB):                     4.13e-75\n",
      "Kurtosis:                       4.891   Cond. No.                         6.14\n",
      "==============================================================================\n",
      "\n",
      "Notes:\n",
      "[1] Standard Errors assume that the covariance matrix of the errors is correctly specified.\n"
     ]
    }
   ],
   "source": [
    "model333 = smf.ols(formula='port_high ~ MktRF + SMB + HML + RMW + CMA', data=rt).fit() \n",
    "print(model333.summary())"
   ]
  },
  {
   "cell_type": "code",
   "execution_count": null,
   "id": "90bcf1bb-89dc-4b0d-876c-83f4040268b4",
   "metadata": {},
   "outputs": [],
   "source": []
  }
 ],
 "metadata": {
  "kernelspec": {
   "display_name": "Python 3 (ipykernel)",
   "language": "python",
   "name": "python3"
  },
  "language_info": {
   "codemirror_mode": {
    "name": "ipython",
    "version": 3
   },
   "file_extension": ".py",
   "mimetype": "text/x-python",
   "name": "python",
   "nbconvert_exporter": "python",
   "pygments_lexer": "ipython3",
   "version": "3.9.7"
  }
 },
 "nbformat": 4,
 "nbformat_minor": 5
}
