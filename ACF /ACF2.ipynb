{
 "cells": [
  {
   "cell_type": "code",
   "execution_count": 652,
   "id": "3e9d030b-a9da-4020-b287-389693510226",
   "metadata": {},
   "outputs": [],
   "source": [
    "import pandas as pd\n",
    "import numpy as np\n",
    "from IPython.display import display\n",
    "import matplotlib.pyplot as plt\n",
    "import matplotlib.patches as mpatches\n",
    "import statsmodels.api as sm\n",
    "import statsmodels.formula.api as smf\n",
    "plt.style.use('seaborn-whitegrid')"
   ]
  },
  {
   "cell_type": "code",
   "execution_count": 653,
   "id": "1e00341d-3ec3-4170-a67a-eb594805a6cf",
   "metadata": {},
   "outputs": [
    {
     "name": "stdout",
     "output_type": "stream",
     "text": [
      "The autoreload extension is already loaded. To reload it, use:\n",
      "  %reload_ext autoreload\n"
     ]
    }
   ],
   "source": [
    "# magic to reload modules automatically\n",
    "%load_ext autoreload\n",
    "%autoreload 2"
   ]
  },
  {
   "cell_type": "code",
   "execution_count": 654,
   "id": "634c4d93-325c-40a4-b58f-a7174f75c0a5",
   "metadata": {},
   "outputs": [],
   "source": [
    "#conda install -c conda-forge statsmodels"
   ]
  },
  {
   "cell_type": "code",
   "execution_count": 655,
   "id": "ddf7ee79-e8a6-48b4-aac8-6ae39264d6e3",
   "metadata": {},
   "outputs": [
    {
     "name": "stdout",
     "output_type": "stream",
     "text": [
      "(2348, 115)\n",
      "(2349, 125)\n",
      "(2324, 8)\n"
     ]
    }
   ],
   "source": [
    "rt = pd.read_excel('rt.xlsx')\n",
    "esg_esg = pd.read_excel('esg_esg.xlsx')\n",
    "it = pd.read_excel('it.xlsx')\n",
    "ff = pd.read_excel('ff.xlsx')\n",
    "esg_esg.rename(columns={'Unnamed: 0':'scores'}, inplace=True)\n",
    "rt = rt.replace(0, np.nan)\n",
    "rt.dropna(how='all', axis='index', thresh=4, inplace=True)\n",
    "rt = rt.replace(np.nan, 0)\n",
    "print(rt.shape)\n",
    "print(it.shape)\n",
    "print(ff.shape)"
   ]
  },
  {
   "cell_type": "code",
   "execution_count": 656,
   "id": "647653f6-b408-4d69-aa41-9d9a533cd490",
   "metadata": {},
   "outputs": [],
   "source": [
    "pd.set_option('display.max_columns',125) # I want to see all the columns\n",
    "pd.set_option('display.max_rows',600) "
   ]
  },
  {
   "cell_type": "code",
   "execution_count": 658,
   "id": "a573428c-946e-44b8-864b-ef20d6df2a81",
   "metadata": {},
   "outputs": [],
   "source": [
    "it = it.loc[:,['Unnamed: 0.1','DAX Index','OMXS30B Index','OMXC25 Index','OMX Index']]"
   ]
  },
  {
   "cell_type": "code",
   "execution_count": 659,
   "id": "ea2531a3-85e1-4a7f-9e2e-a7e84171779c",
   "metadata": {},
   "outputs": [],
   "source": [
    "for i in it.columns[1:]:\n",
    "    it.loc[:,i] = it.loc[:,i].pct_change(1)*100\n",
    "it.drop(index=[0], inplace=True)"
   ]
  },
  {
   "cell_type": "code",
   "execution_count": 660,
   "id": "5a542e9e-6c56-45c6-912e-2c53de8b2676",
   "metadata": {},
   "outputs": [],
   "source": [
    "it.rename(columns={'Unnamed: 0.1' : 'date'}, inplace=True)\n",
    "rt.drop(columns='Unnamed: 0', inplace=True)\n",
    "ff.drop(columns='Unnamed: 0', inplace=True)\n",
    "rt = rt.loc[:,['date','port_low','port_mid','port_high']]"
   ]
  },
  {
   "cell_type": "code",
   "execution_count": 661,
   "id": "f4edf8b8-b600-449d-ac3e-e01054c109bb",
   "metadata": {},
   "outputs": [],
   "source": [
    "rt = rt.merge(ff,on=['date'], how='left')\n",
    "rt = rt.merge(it,on=['date'], how='left')"
   ]
  },
  {
   "cell_type": "code",
   "execution_count": 662,
   "id": "959457ae-ecd8-4472-b1ed-154d23848fc2",
   "metadata": {
    "tags": []
   },
   "outputs": [],
   "source": [
    "pd.set_option(\"display.precision\", 5)\n",
    "rt['RF'] = rt['RF']*100"
   ]
  },
  {
   "cell_type": "code",
   "execution_count": 663,
   "id": "2c4caae6-7aea-4608-a6a7-054b1011ba46",
   "metadata": {},
   "outputs": [],
   "source": [
    "rt.rename(columns={'Mkt-RF' : 'MktRF'}, inplace=True)"
   ]
  },
  {
   "cell_type": "code",
   "execution_count": 664,
   "id": "2a46112b-8daf-40db-bcef-c6e6ecd19b65",
   "metadata": {},
   "outputs": [
    {
     "data": {
      "image/png": "[encoded data removed]",
      "text/plain": [
       "<Figure size 432x288 with 1 Axes>"
      ]
     },
     "metadata": {},
     "output_type": "display_data"
    }
   ],
   "source": [
    "plt.plot(rt['date'], rt['MktRF']);"
   ]
  },
  {
   "cell_type": "code",
   "execution_count": 665,
   "id": "853cf380-9cc6-4e50-a9b7-bba559cb8013",
   "metadata": {},
   "outputs": [],
   "source": [
    "filt = (rt['date'] >= pd.to_datetime('2013-01-01')) & (rt['date'] <= pd.to_datetime('2022-02-28')) \n",
    "rt = rt[filt]\n",
    "rt.dropna(how='all', axis='index', thresh=5, inplace=True)"
   ]
  },
  {
   "cell_type": "code",
   "execution_count": 666,
   "id": "2ec5ca13-4fa3-49f9-9f06-11f3475eb73a",
   "metadata": {},
   "outputs": [
    {
     "data": {
      "text/html": [
       "<div>\n",
       "<style scoped>\n",
       "    .dataframe tbody tr th:only-of-type {\n",
       "        vertical-align: middle;\n",
       "    }\n",
       "\n",
       "    .dataframe tbody tr th {\n",
       "        vertical-align: top;\n",
       "    }\n",
       "\n",
       "    .dataframe thead th {\n",
       "        text-align: right;\n",
       "    }\n",
       "</style>\n",
       "<table border=\"1\" class=\"dataframe\">\n",
       "  <thead>\n",
       "    <tr style=\"text-align: right;\">\n",
       "      <th></th>\n",
       "      <th>port_low</th>\n",
       "      <th>port_mid</th>\n",
       "      <th>port_high</th>\n",
       "      <th>MktRF</th>\n",
       "      <th>SMB</th>\n",
       "      <th>HML</th>\n",
       "      <th>RMW</th>\n",
       "      <th>CMA</th>\n",
       "      <th>RF</th>\n",
       "      <th>DAX Index</th>\n",
       "      <th>OMXS30B Index</th>\n",
       "      <th>OMXC25 Index</th>\n",
       "      <th>OMX Index</th>\n",
       "    </tr>\n",
       "  </thead>\n",
       "  <tbody>\n",
       "    <tr>\n",
       "      <th>count</th>\n",
       "      <td>2273.00000</td>\n",
       "      <td>2273.00000</td>\n",
       "      <td>2273.00000</td>\n",
       "      <td>2273.00000</td>\n",
       "      <td>2273.00000</td>\n",
       "      <td>2273.00000</td>\n",
       "      <td>2273.00000</td>\n",
       "      <td>2273.00000</td>\n",
       "      <td>2273.00000</td>\n",
       "      <td>2273.00000</td>\n",
       "      <td>2273.00000</td>\n",
       "      <td>2273.00000</td>\n",
       "      <td>2273.00000</td>\n",
       "    </tr>\n",
       "    <tr>\n",
       "      <th>mean</th>\n",
       "      <td>0.07519</td>\n",
       "      <td>0.04189</td>\n",
       "      <td>0.04812</td>\n",
       "      <td>0.02948</td>\n",
       "      <td>0.00846</td>\n",
       "      <td>-0.00698</td>\n",
       "      <td>0.01433</td>\n",
       "      <td>-0.00879</td>\n",
       "      <td>0.24197</td>\n",
       "      <td>0.03381</td>\n",
       "      <td>0.03118</td>\n",
       "      <td>0.05408</td>\n",
       "      <td>0.03118</td>\n",
       "    </tr>\n",
       "    <tr>\n",
       "      <th>std</th>\n",
       "      <td>1.03699</td>\n",
       "      <td>1.03955</td>\n",
       "      <td>1.07563</td>\n",
       "      <td>1.01498</td>\n",
       "      <td>0.41976</td>\n",
       "      <td>0.53665</td>\n",
       "      <td>0.30293</td>\n",
       "      <td>0.29614</td>\n",
       "      <td>0.42837</td>\n",
       "      <td>1.21824</td>\n",
       "      <td>1.11251</td>\n",
       "      <td>1.05332</td>\n",
       "      <td>1.11251</td>\n",
       "    </tr>\n",
       "    <tr>\n",
       "      <th>min</th>\n",
       "      <td>-10.38933</td>\n",
       "      <td>-10.68079</td>\n",
       "      <td>-11.41330</td>\n",
       "      <td>-12.01000</td>\n",
       "      <td>-3.32000</td>\n",
       "      <td>-3.03000</td>\n",
       "      <td>-1.74000</td>\n",
       "      <td>-1.74000</td>\n",
       "      <td>0.00000</td>\n",
       "      <td>-12.23862</td>\n",
       "      <td>-10.57105</td>\n",
       "      <td>-8.02912</td>\n",
       "      <td>-10.57117</td>\n",
       "    </tr>\n",
       "    <tr>\n",
       "      <th>25%</th>\n",
       "      <td>-0.39909</td>\n",
       "      <td>-0.44474</td>\n",
       "      <td>-0.43365</td>\n",
       "      <td>-0.44000</td>\n",
       "      <td>-0.23000</td>\n",
       "      <td>-0.28000</td>\n",
       "      <td>-0.16000</td>\n",
       "      <td>-0.19000</td>\n",
       "      <td>0.00000</td>\n",
       "      <td>-0.49149</td>\n",
       "      <td>-0.53259</td>\n",
       "      <td>-0.51362</td>\n",
       "      <td>-0.53247</td>\n",
       "    </tr>\n",
       "    <tr>\n",
       "      <th>50%</th>\n",
       "      <td>0.12348</td>\n",
       "      <td>0.07449</td>\n",
       "      <td>0.08961</td>\n",
       "      <td>0.07000</td>\n",
       "      <td>0.01000</td>\n",
       "      <td>-0.03000</td>\n",
       "      <td>0.03000</td>\n",
       "      <td>-0.01000</td>\n",
       "      <td>0.00000</td>\n",
       "      <td>0.06986</td>\n",
       "      <td>0.05814</td>\n",
       "      <td>0.06263</td>\n",
       "      <td>0.05814</td>\n",
       "    </tr>\n",
       "    <tr>\n",
       "      <th>75%</th>\n",
       "      <td>0.59561</td>\n",
       "      <td>0.59226</td>\n",
       "      <td>0.55983</td>\n",
       "      <td>0.55000</td>\n",
       "      <td>0.25000</td>\n",
       "      <td>0.26000</td>\n",
       "      <td>0.19000</td>\n",
       "      <td>0.16000</td>\n",
       "      <td>0.00000</td>\n",
       "      <td>0.64083</td>\n",
       "      <td>0.63850</td>\n",
       "      <td>0.67273</td>\n",
       "      <td>0.63868</td>\n",
       "    </tr>\n",
       "    <tr>\n",
       "      <th>max</th>\n",
       "      <td>7.12380</td>\n",
       "      <td>6.81276</td>\n",
       "      <td>8.87625</td>\n",
       "      <td>8.54000</td>\n",
       "      <td>1.86000</td>\n",
       "      <td>4.38000</td>\n",
       "      <td>2.69000</td>\n",
       "      <td>1.31000</td>\n",
       "      <td>1.00000</td>\n",
       "      <td>10.97590</td>\n",
       "      <td>7.08908</td>\n",
       "      <td>5.07265</td>\n",
       "      <td>7.08859</td>\n",
       "    </tr>\n",
       "  </tbody>\n",
       "</table>\n",
       "</div>"
      ],
      "text/plain": [
       "         port_low    port_mid   port_high       MktRF         SMB         HML  \\\n",
       "count  2273.00000  2273.00000  2273.00000  2273.00000  2273.00000  2273.00000   \n",
       "mean      0.07519     0.04189     0.04812     0.02948     0.00846    -0.00698   \n",
       "std       1.03699     1.03955     1.07563     1.01498     0.41976     0.53665   \n",
       "min     -10.38933   -10.68079   -11.41330   -12.01000    -3.32000    -3.03000   \n",
       "25%      -0.39909    -0.44474    -0.43365    -0.44000    -0.23000    -0.28000   \n",
       "50%       0.12348     0.07449     0.08961     0.07000     0.01000    -0.03000   \n",
       "75%       0.59561     0.59226     0.55983     0.55000     0.25000     0.26000   \n",
       "max       7.12380     6.81276     8.87625     8.54000     1.86000     4.38000   \n",
       "\n",
       "              RMW         CMA          RF   DAX Index  OMXS30B Index  \\\n",
       "count  2273.00000  2273.00000  2273.00000  2273.00000     2273.00000   \n",
       "mean      0.01433    -0.00879     0.24197     0.03381        0.03118   \n",
       "std       0.30293     0.29614     0.42837     1.21824        1.11251   \n",
       "min      -1.74000    -1.74000     0.00000   -12.23862      -10.57105   \n",
       "25%      -0.16000    -0.19000     0.00000    -0.49149       -0.53259   \n",
       "50%       0.03000    -0.01000     0.00000     0.06986        0.05814   \n",
       "75%       0.19000     0.16000     0.00000     0.64083        0.63850   \n",
       "max       2.69000     1.31000     1.00000    10.97590        7.08908   \n",
       "\n",
       "       OMXC25 Index   OMX Index  \n",
       "count    2273.00000  2273.00000  \n",
       "mean        0.05408     0.03118  \n",
       "std         1.05332     1.11251  \n",
       "min        -8.02912   -10.57117  \n",
       "25%        -0.51362    -0.53247  \n",
       "50%         0.06263     0.05814  \n",
       "75%         0.67273     0.63868  \n",
       "max         5.07265     7.08859  "
      ]
     },
     "execution_count": 666,
     "metadata": {},
     "output_type": "execute_result"
    }
   ],
   "source": [
    "rt.describe()"
   ]
  },
  {
   "cell_type": "code",
   "execution_count": 668,
   "id": "2a143b7f-fc78-4e8b-93f3-336a06c5872e",
   "metadata": {},
   "outputs": [
    {
     "data": {
      "text/html": [
       "<div>\n",
       "<style scoped>\n",
       "    .dataframe tbody tr th:only-of-type {\n",
       "        vertical-align: middle;\n",
       "    }\n",
       "\n",
       "    .dataframe tbody tr th {\n",
       "        vertical-align: top;\n",
       "    }\n",
       "\n",
       "    .dataframe thead th {\n",
       "        text-align: right;\n",
       "    }\n",
       "</style>\n",
       "<table border=\"1\" class=\"dataframe\">\n",
       "  <thead>\n",
       "    <tr style=\"text-align: right;\">\n",
       "      <th></th>\n",
       "      <th>port_low</th>\n",
       "      <th>port_mid</th>\n",
       "      <th>port_high</th>\n",
       "      <th>MktRF</th>\n",
       "    </tr>\n",
       "  </thead>\n",
       "  <tbody>\n",
       "    <tr>\n",
       "      <th>port_low</th>\n",
       "      <td>1.00000</td>\n",
       "      <td>0.89813</td>\n",
       "      <td>0.88040</td>\n",
       "      <td>0.80062</td>\n",
       "    </tr>\n",
       "    <tr>\n",
       "      <th>port_mid</th>\n",
       "      <td>0.89813</td>\n",
       "      <td>1.00000</td>\n",
       "      <td>0.92794</td>\n",
       "      <td>0.83757</td>\n",
       "    </tr>\n",
       "    <tr>\n",
       "      <th>port_high</th>\n",
       "      <td>0.88040</td>\n",
       "      <td>0.92794</td>\n",
       "      <td>1.00000</td>\n",
       "      <td>0.85624</td>\n",
       "    </tr>\n",
       "    <tr>\n",
       "      <th>MktRF</th>\n",
       "      <td>0.80062</td>\n",
       "      <td>0.83757</td>\n",
       "      <td>0.85624</td>\n",
       "      <td>1.00000</td>\n",
       "    </tr>\n",
       "  </tbody>\n",
       "</table>\n",
       "</div>"
      ],
      "text/plain": [
       "           port_low  port_mid  port_high    MktRF\n",
       "port_low    1.00000   0.89813    0.88040  0.80062\n",
       "port_mid    0.89813   1.00000    0.92794  0.83757\n",
       "port_high   0.88040   0.92794    1.00000  0.85624\n",
       "MktRF       0.80062   0.83757    0.85624  1.00000"
      ]
     },
     "execution_count": 668,
     "metadata": {},
     "output_type": "execute_result"
    }
   ],
   "source": [
    "rt.loc[:,['port_low','port_mid','port_high','MktRF']].corr()"
   ]
  },
  {
   "cell_type": "code",
   "execution_count": 669,
   "id": "0938288b-e205-47f3-a52b-d25262091e42",
   "metadata": {},
   "outputs": [
    {
     "name": "stdout",
     "output_type": "stream",
     "text": [
      "                            OLS Regression Results                            \n",
      "==============================================================================\n",
      "Dep. Variable:               port_low   R-squared:                       0.641\n",
      "Model:                            OLS   Adj. R-squared:                  0.641\n",
      "Method:                 Least Squares   F-statistic:                     4055.\n",
      "Date:                Tue, 19 Apr 2022   Prob (F-statistic):               0.00\n",
      "Time:                        22:29:04   Log-Likelihood:                -2143.1\n",
      "No. Observations:                2273   AIC:                             4290.\n",
      "Df Residuals:                    2271   BIC:                             4302.\n",
      "Df Model:                           1                                         \n",
      "Covariance Type:            nonrobust                                         \n",
      "==============================================================================\n",
      "                 coef    std err          t      P>|t|      [0.025      0.975]\n",
      "------------------------------------------------------------------------------\n",
      "Intercept      0.0511      0.013      3.917      0.000       0.026       0.077\n",
      "MktRF          0.8180      0.013     63.677      0.000       0.793       0.843\n",
      "==============================================================================\n",
      "Omnibus:                      111.477   Durbin-Watson:                   2.059\n",
      "Prob(Omnibus):                  0.000   Jarque-Bera (JB):              390.131\n",
      "Skew:                           0.060   Prob(JB):                     1.92e-85\n",
      "Kurtosis:                       5.026   Cond. No.                         1.03\n",
      "==============================================================================\n",
      "\n",
      "Notes:\n",
      "[1] Standard Errors assume that the covariance matrix of the errors is correctly specified.\n"
     ]
    }
   ],
   "source": [
    "model1 = smf.ols(formula='port_low ~ MktRF', data=rt).fit() \n",
    "print(model1.summary())\n",
    "#trend = model1.params[0] + model1.params[1]* rt['port_low']\n",
    "#plt.scatter(rt['port_low'],rt['MktRF'])\n",
    "#plt.plot(trend, rt['port_low'], 'r');"
   ]
  },
  {
   "cell_type": "code",
   "execution_count": 670,
   "id": "a858c53d-b14a-487a-8ef1-facf69193731",
   "metadata": {},
   "outputs": [
    {
     "name": "stdout",
     "output_type": "stream",
     "text": [
      "                            OLS Regression Results                            \n",
      "==============================================================================\n",
      "Dep. Variable:               port_low   R-squared:                       0.649\n",
      "Model:                            OLS   Adj. R-squared:                  0.649\n",
      "Method:                 Least Squares   F-statistic:                     1399.\n",
      "Date:                Tue, 19 Apr 2022   Prob (F-statistic):               0.00\n",
      "Time:                        22:29:11   Log-Likelihood:                -2117.1\n",
      "No. Observations:                2273   AIC:                             4242.\n",
      "Df Residuals:                    2269   BIC:                             4265.\n",
      "Df Model:                           3                                         \n",
      "Covariance Type:            nonrobust                                         \n",
      "==============================================================================\n",
      "                 coef    std err          t      P>|t|      [0.025      0.975]\n",
      "------------------------------------------------------------------------------\n",
      "Intercept      0.0490      0.013      3.792      0.000       0.024       0.074\n",
      "MktRF          0.8433      0.015     57.313      0.000       0.814       0.872\n",
      "SMB            0.0156      0.035      0.446      0.656      -0.053       0.084\n",
      "HML           -0.1781      0.025     -7.193      0.000      -0.227      -0.130\n",
      "==============================================================================\n",
      "Omnibus:                      102.534   Durbin-Watson:                   2.065\n",
      "Prob(Omnibus):                  0.000   Jarque-Bera (JB):              340.653\n",
      "Skew:                           0.031   Prob(JB):                     1.07e-74\n",
      "Kurtosis:                       4.896   Cond. No.                         2.92\n",
      "==============================================================================\n",
      "\n",
      "Notes:\n",
      "[1] Standard Errors assume that the covariance matrix of the errors is correctly specified.\n"
     ]
    }
   ],
   "source": [
    "model11 = smf.ols(formula='port_low ~ MktRF + SMB + HML', data=rt).fit() \n",
    "print(model11.summary())"
   ]
  },
  {
   "cell_type": "code",
   "execution_count": 671,
   "id": "5a573a48-ecc2-4b5d-aa7a-9ae8aa18608e",
   "metadata": {},
   "outputs": [
    {
     "name": "stdout",
     "output_type": "stream",
     "text": [
      "                            OLS Regression Results                            \n",
      "==============================================================================\n",
      "Dep. Variable:               port_low   R-squared:                       0.650\n",
      "Model:                            OLS   Adj. R-squared:                  0.649\n",
      "Method:                 Least Squares   F-statistic:                     842.9\n",
      "Date:                Tue, 19 Apr 2022   Prob (F-statistic):               0.00\n",
      "Time:                        22:29:13   Log-Likelihood:                -2113.4\n",
      "No. Observations:                2273   AIC:                             4239.\n",
      "Df Residuals:                    2267   BIC:                             4273.\n",
      "Df Model:                           5                                         \n",
      "Covariance Type:            nonrobust                                         \n",
      "==============================================================================\n",
      "                 coef    std err          t      P>|t|      [0.025      0.975]\n",
      "------------------------------------------------------------------------------\n",
      "Intercept      0.0476      0.013      3.686      0.000       0.022       0.073\n",
      "MktRF          0.8310      0.015     53.893      0.000       0.801       0.861\n",
      "SMB           -0.0001      0.036     -0.004      0.997      -0.070       0.070\n",
      "HML           -0.0790      0.045     -1.750      0.080      -0.167       0.010\n",
      "RMW            0.0853      0.064      1.325      0.185      -0.041       0.212\n",
      "CMA           -0.1498      0.066     -2.272      0.023      -0.279      -0.021\n",
      "==============================================================================\n",
      "Omnibus:                      103.686   Durbin-Watson:                   2.063\n",
      "Prob(Omnibus):                  0.000   Jarque-Bera (JB):              347.945\n",
      "Skew:                           0.027   Prob(JB):                     2.78e-76\n",
      "Kurtosis:                       4.916   Cond. No.                         6.14\n",
      "==============================================================================\n",
      "\n",
      "Notes:\n",
      "[1] Standard Errors assume that the covariance matrix of the errors is correctly specified.\n"
     ]
    }
   ],
   "source": [
    "model111 = smf.ols(formula='port_low ~ MktRF + SMB + HML + RMW + CMA', data=rt).fit() \n",
    "print(model111.summary())"
   ]
  },
  {
   "cell_type": "code",
   "execution_count": 672,
   "id": "7eb95ce8-bda4-4f44-918e-e80bb6be8aad",
   "metadata": {},
   "outputs": [
    {
     "name": "stdout",
     "output_type": "stream",
     "text": [
      "                            OLS Regression Results                            \n",
      "==============================================================================\n",
      "Dep. Variable:               port_mid   R-squared:                       0.702\n",
      "Model:                            OLS   Adj. R-squared:                  0.701\n",
      "Method:                 Least Squares   F-statistic:                     5337.\n",
      "Date:                Tue, 19 Apr 2022   Prob (F-statistic):               0.00\n",
      "Time:                        22:29:26   Log-Likelihood:                -1938.8\n",
      "No. Observations:                2273   AIC:                             3882.\n",
      "Df Residuals:                    2271   BIC:                             3893.\n",
      "Df Model:                           1                                         \n",
      "Covariance Type:            nonrobust                                         \n",
      "==============================================================================\n",
      "                 coef    std err          t      P>|t|      [0.025      0.975]\n",
      "------------------------------------------------------------------------------\n",
      "Intercept      0.0166      0.012      1.393      0.164      -0.007       0.040\n",
      "MktRF          0.8578      0.012     73.058      0.000       0.835       0.881\n",
      "==============================================================================\n",
      "Omnibus:                      163.319   Durbin-Watson:                   2.097\n",
      "Prob(Omnibus):                  0.000   Jarque-Bera (JB):              718.022\n",
      "Skew:                           0.184   Prob(JB):                    1.21e-156\n",
      "Kurtosis:                       5.729   Cond. No.                         1.03\n",
      "==============================================================================\n",
      "\n",
      "Notes:\n",
      "[1] Standard Errors assume that the covariance matrix of the errors is correctly specified.\n"
     ]
    }
   ],
   "source": [
    "model2 = smf.ols(formula='port_mid ~ MktRF', data=rt).fit() \n",
    "print(model2.summary())\n",
    "#trend = model2.params[0] + model2.params[1]* rt['port_mid']\n",
    "#plt.scatter(rt['port_mid'],rt['MktRF'])\n",
    "#plt.plot(trend, rt['port_mid'], 'r');"
   ]
  },
  {
   "cell_type": "code",
   "execution_count": 673,
   "id": "079d22b0-10a1-4d37-853a-ecbb31a0d9a9",
   "metadata": {
    "tags": []
   },
   "outputs": [
    {
     "name": "stdout",
     "output_type": "stream",
     "text": [
      "                            OLS Regression Results                            \n",
      "==============================================================================\n",
      "Dep. Variable:               port_mid   R-squared:                       0.717\n",
      "Model:                            OLS   Adj. R-squared:                  0.717\n",
      "Method:                 Least Squares   F-statistic:                     1919.\n",
      "Date:                Tue, 19 Apr 2022   Prob (F-statistic):               0.00\n",
      "Time:                        22:29:30   Log-Likelihood:                -1877.1\n",
      "No. Observations:                2273   AIC:                             3762.\n",
      "Df Residuals:                    2269   BIC:                             3785.\n",
      "Df Model:                           3                                         \n",
      "Covariance Type:            nonrobust                                         \n",
      "==============================================================================\n",
      "                 coef    std err          t      P>|t|      [0.025      0.975]\n",
      "------------------------------------------------------------------------------\n",
      "Intercept      0.0205      0.012      1.764      0.078      -0.002       0.043\n",
      "MktRF          0.8022      0.013     60.589      0.000       0.776       0.828\n",
      "SMB           -0.3380      0.031    -10.731      0.000      -0.400      -0.276\n",
      "HML           -0.0884      0.022     -3.967      0.000      -0.132      -0.045\n",
      "==============================================================================\n",
      "Omnibus:                      158.934   Durbin-Watson:                   2.130\n",
      "Prob(Omnibus):                  0.000   Jarque-Bera (JB):              701.455\n",
      "Skew:                           0.161   Prob(JB):                    4.80e-153\n",
      "Kurtosis:                       5.702   Cond. No.                         2.92\n",
      "==============================================================================\n",
      "\n",
      "Notes:\n",
      "[1] Standard Errors assume that the covariance matrix of the errors is correctly specified.\n"
     ]
    }
   ],
   "source": [
    "model22 = smf.ols(formula='port_mid ~ MktRF + SMB + HML', data=rt).fit() \n",
    "print(model22.summary())"
   ]
  },
  {
   "cell_type": "code",
   "execution_count": 674,
   "id": "02698c9a-229f-4d63-b751-fd89470c46b6",
   "metadata": {},
   "outputs": [
    {
     "name": "stdout",
     "output_type": "stream",
     "text": [
      "                            OLS Regression Results                            \n",
      "==============================================================================\n",
      "Dep. Variable:               port_mid   R-squared:                       0.718\n",
      "Model:                            OLS   Adj. R-squared:                  0.717\n",
      "Method:                 Least Squares   F-statistic:                     1152.\n",
      "Date:                Tue, 19 Apr 2022   Prob (F-statistic):               0.00\n",
      "Time:                        22:29:33   Log-Likelihood:                -1876.0\n",
      "No. Observations:                2273   AIC:                             3764.\n",
      "Df Residuals:                    2267   BIC:                             3798.\n",
      "Df Model:                           5                                         \n",
      "Covariance Type:            nonrobust                                         \n",
      "==============================================================================\n",
      "                 coef    std err          t      P>|t|      [0.025      0.975]\n",
      "------------------------------------------------------------------------------\n",
      "Intercept      0.0206      0.012      1.774      0.076      -0.002       0.043\n",
      "MktRF          0.7978      0.014     57.430      0.000       0.771       0.825\n",
      "SMB           -0.3449      0.032    -10.774      0.000      -0.408      -0.282\n",
      "HML           -0.0719      0.041     -1.768      0.077      -0.152       0.008\n",
      "RMW           -0.0370      0.058     -0.638      0.524      -0.151       0.077\n",
      "CMA           -0.0777      0.059     -1.309      0.191      -0.194       0.039\n",
      "==============================================================================\n",
      "Omnibus:                      170.042   Durbin-Watson:                   2.129\n",
      "Prob(Omnibus):                  0.000   Jarque-Bera (JB):              790.720\n",
      "Skew:                           0.178   Prob(JB):                    1.98e-172\n",
      "Kurtosis:                       5.867   Cond. No.                         6.14\n",
      "==============================================================================\n",
      "\n",
      "Notes:\n",
      "[1] Standard Errors assume that the covariance matrix of the errors is correctly specified.\n"
     ]
    }
   ],
   "source": [
    "model222 = smf.ols(formula='port_mid ~ MktRF + SMB + HML + RMW + CMA', data=rt).fit() \n",
    "print(model222.summary())"
   ]
  },
  {
   "cell_type": "code",
   "execution_count": 675,
   "id": "c1ff8f34-cb4b-427f-b1f2-ce6a66ecf1b2",
   "metadata": {},
   "outputs": [
    {
     "name": "stdout",
     "output_type": "stream",
     "text": [
      "                            OLS Regression Results                            \n",
      "==============================================================================\n",
      "Dep. Variable:              port_high   R-squared:                       0.733\n",
      "Model:                            OLS   Adj. R-squared:                  0.733\n",
      "Method:                 Least Squares   F-statistic:                     6239.\n",
      "Date:                Tue, 19 Apr 2022   Prob (F-statistic):               0.00\n",
      "Time:                        22:29:35   Log-Likelihood:                -1889.1\n",
      "No. Observations:                2273   AIC:                             3782.\n",
      "Df Residuals:                    2271   BIC:                             3794.\n",
      "Df Model:                           1                                         \n",
      "Covariance Type:            nonrobust                                         \n",
      "==============================================================================\n",
      "                 coef    std err          t      P>|t|      [0.025      0.975]\n",
      "------------------------------------------------------------------------------\n",
      "Intercept      0.0214      0.012      1.833      0.067      -0.001       0.044\n",
      "MktRF          0.9074      0.011     78.990      0.000       0.885       0.930\n",
      "==============================================================================\n",
      "Omnibus:                      120.937   Durbin-Watson:                   2.054\n",
      "Prob(Omnibus):                  0.000   Jarque-Bera (JB):              415.366\n",
      "Skew:                           0.145   Prob(JB):                     6.38e-91\n",
      "Kurtosis:                       5.074   Cond. No.                         1.03\n",
      "==============================================================================\n",
      "\n",
      "Notes:\n",
      "[1] Standard Errors assume that the covariance matrix of the errors is correctly specified.\n"
     ]
    }
   ],
   "source": [
    "model3 = smf.ols(formula='port_high ~ MktRF', data=rt).fit() \n",
    "print(model3.summary())\n",
    "#trend = model3.params[0] + model3.params[1]* rt['port_high']\n",
    "#plt.scatter(rt['port_high'],rt['MktRF'])\n",
    "#plt.plot(trend, rt['port_high'], 'r');"
   ]
  },
  {
   "cell_type": "code",
   "execution_count": 676,
   "id": "f2f061a5-4d5b-4faa-9e75-aaaa7089b1dc",
   "metadata": {},
   "outputs": [
    {
     "name": "stdout",
     "output_type": "stream",
     "text": [
      "                            OLS Regression Results                            \n",
      "==============================================================================\n",
      "Dep. Variable:              port_high   R-squared:                       0.763\n",
      "Model:                            OLS   Adj. R-squared:                  0.762\n",
      "Method:                 Least Squares   F-statistic:                     2431.\n",
      "Date:                Tue, 19 Apr 2022   Prob (F-statistic):               0.00\n",
      "Time:                        22:29:42   Log-Likelihood:                -1755.6\n",
      "No. Observations:                2273   AIC:                             3519.\n",
      "Df Residuals:                    2269   BIC:                             3542.\n",
      "Df Model:                           3                                         \n",
      "Covariance Type:            nonrobust                                         \n",
      "==============================================================================\n",
      "                 coef    std err          t      P>|t|      [0.025      0.975]\n",
      "------------------------------------------------------------------------------\n",
      "Intercept      0.0287      0.011      2.608      0.009       0.007       0.050\n",
      "MktRF          0.8063      0.013     64.247      0.000       0.782       0.831\n",
      "SMB           -0.4990      0.030    -16.712      0.000      -0.558      -0.440\n",
      "HML            0.0206      0.021      0.973      0.331      -0.021       0.062\n",
      "==============================================================================\n",
      "Omnibus:                      135.019   Durbin-Watson:                   2.078\n",
      "Prob(Omnibus):                  0.000   Jarque-Bera (JB):              507.610\n",
      "Skew:                           0.154   Prob(JB):                    5.94e-111\n",
      "Kurtosis:                       5.294   Cond. No.                         2.92\n",
      "==============================================================================\n",
      "\n",
      "Notes:\n",
      "[1] Standard Errors assume that the covariance matrix of the errors is correctly specified.\n"
     ]
    }
   ],
   "source": [
    "model33 = smf.ols(formula='port_high ~ MktRF + SMB + HML', data=rt).fit() \n",
    "print(model33.summary())"
   ]
  },
  {
   "cell_type": "code",
   "execution_count": 677,
   "id": "80137c09-558e-499c-ba7b-da67f0666e70",
   "metadata": {},
   "outputs": [
    {
     "name": "stdout",
     "output_type": "stream",
     "text": [
      "                            OLS Regression Results                            \n",
      "==============================================================================\n",
      "Dep. Variable:              port_high   R-squared:                       0.766\n",
      "Model:                            OLS   Adj. R-squared:                  0.765\n",
      "Method:                 Least Squares   F-statistic:                     1484.\n",
      "Date:                Tue, 19 Apr 2022   Prob (F-statistic):               0.00\n",
      "Time:                        22:29:49   Log-Likelihood:                -1740.0\n",
      "No. Observations:                2273   AIC:                             3492.\n",
      "Df Residuals:                    2267   BIC:                             3526.\n",
      "Df Model:                           5                                         \n",
      "Covariance Type:            nonrobust                                         \n",
      "==============================================================================\n",
      "                 coef    std err          t      P>|t|      [0.025      0.975]\n",
      "------------------------------------------------------------------------------\n",
      "Intercept      0.0254      0.011      2.321      0.020       0.004       0.047\n",
      "MktRF          0.7957      0.013     60.815      0.000       0.770       0.821\n",
      "SMB           -0.5084      0.030    -16.859      0.000      -0.568      -0.449\n",
      "HML            0.1698      0.038      4.435      0.000       0.095       0.245\n",
      "RMW            0.2979      0.055      5.453      0.000       0.191       0.405\n",
      "CMA           -0.0507      0.056     -0.907      0.365      -0.160       0.059\n",
      "==============================================================================\n",
      "Omnibus:                      108.386   Durbin-Watson:                   2.090\n",
      "Prob(Omnibus):                  0.000   Jarque-Bera (JB):              354.192\n",
      "Skew:                           0.111   Prob(JB):                     1.23e-77\n",
      "Kurtosis:                       4.921   Cond. No.                         6.14\n",
      "==============================================================================\n",
      "\n",
      "Notes:\n",
      "[1] Standard Errors assume that the covariance matrix of the errors is correctly specified.\n"
     ]
    }
   ],
   "source": [
    "model333 = smf.ols(formula='port_high ~ MktRF + SMB + HML + RMW + CMA', data=rt).fit() \n",
    "print(model333.summary())"
   ]
  },
  {
   "cell_type": "code",
   "execution_count": null,
   "id": "90bcf1bb-89dc-4b0d-876c-83f4040268b4",
   "metadata": {},
   "outputs": [],
   "source": []
  }
 ],
 "metadata": {
  "kernelspec": {
   "display_name": "Python 3 (ipykernel)",
   "language": "python",
   "name": "python3"
  },
  "language_info": {
   "codemirror_mode": {
    "name": "ipython",
    "version": 3
   },
   "file_extension": ".py",
   "mimetype": "text/x-python",
   "name": "python",
   "nbconvert_exporter": "python",
   "pygments_lexer": "ipython3",
   "version": "3.9.7"
  }
 },
 "nbformat": 4,
 "nbformat_minor": 5
}
