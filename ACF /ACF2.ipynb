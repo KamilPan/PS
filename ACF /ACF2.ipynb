{
 "cells": [
  {
   "cell_type": "code",
   "execution_count": 386,
   "id": "3e9d030b-a9da-4020-b287-389693510226",
   "metadata": {},
   "outputs": [],
   "source": [
    "import pandas as pd\n",
    "import numpy as np\n",
    "from IPython.display import display\n",
    "import matplotlib.pyplot as plt\n",
    "import matplotlib.patches as mpatches\n",
    "import statsmodels.api as sm\n",
    "import statsmodels.formula.api as smf\n",
    "plt.style.use('seaborn-whitegrid')"
   ]
  },
  {
   "cell_type": "code",
   "execution_count": 387,
   "id": "1e00341d-3ec3-4170-a67a-eb594805a6cf",
   "metadata": {},
   "outputs": [
    {
     "name": "stdout",
     "output_type": "stream",
     "text": [
      "The autoreload extension is already loaded. To reload it, use:\n",
      "  %reload_ext autoreload\n"
     ]
    }
   ],
   "source": [
    "# magic to reload modules automatically\n",
    "%load_ext autoreload\n",
    "%autoreload 2"
   ]
  },
  {
   "cell_type": "code",
   "execution_count": 388,
   "id": "634c4d93-325c-40a4-b58f-a7174f75c0a5",
   "metadata": {},
   "outputs": [],
   "source": [
    "#conda install -c conda-forge statsmodels"
   ]
  },
  {
   "cell_type": "code",
   "execution_count": 389,
   "id": "ddf7ee79-e8a6-48b4-aac8-6ae39264d6e3",
   "metadata": {},
   "outputs": [
    {
     "name": "stdout",
     "output_type": "stream",
     "text": [
      "(2348, 115)\n",
      "(2349, 125)\n",
      "(2324, 8)\n"
     ]
    }
   ],
   "source": [
    "rt = pd.read_excel('rt.xlsx')\n",
    "it = pd.read_excel('it.xlsx')\n",
    "ff = pd.read_excel('ff.xlsx')\n",
    "print(rt.shape)\n",
    "print(it.shape)\n",
    "print(ff.shape)"
   ]
  },
  {
   "cell_type": "code",
   "execution_count": 390,
   "id": "647653f6-b408-4d69-aa41-9d9a533cd490",
   "metadata": {},
   "outputs": [],
   "source": [
    "pd.set_option('display.max_columns',125) # I want to see all the columns\n",
    "pd.set_option('display.max_rows',600) "
   ]
  },
  {
   "cell_type": "code",
   "execution_count": 391,
   "id": "a573428c-946e-44b8-864b-ef20d6df2a81",
   "metadata": {},
   "outputs": [],
   "source": [
    "it = it.loc[:,['Unnamed: 0.1','DAX Index','OMXS30B Index','OMXC25 Index','OMX Index']]"
   ]
  },
  {
   "cell_type": "code",
   "execution_count": 392,
   "id": "ea2531a3-85e1-4a7f-9e2e-a7e84171779c",
   "metadata": {},
   "outputs": [],
   "source": [
    "for i in it.columns[1:]:\n",
    "    it.loc[:,i] = it.loc[:,i].pct_change(1)*100\n",
    "it.drop(index=[0], inplace=True)"
   ]
  },
  {
   "cell_type": "code",
   "execution_count": 393,
   "id": "5a542e9e-6c56-45c6-912e-2c53de8b2676",
   "metadata": {},
   "outputs": [],
   "source": [
    "it.rename(columns={'Unnamed: 0.1' : 'date'}, inplace=True)\n",
    "rt.drop(columns='Unnamed: 0', inplace=True)\n",
    "ff.drop(columns='Unnamed: 0', inplace=True)\n",
    "rt = rt.loc[:,['date','port_low','port_mid','port_high']]"
   ]
  },
  {
   "cell_type": "code",
   "execution_count": 394,
   "id": "f4edf8b8-b600-449d-ac3e-e01054c109bb",
   "metadata": {},
   "outputs": [],
   "source": [
    "rt = rt.merge(ff,on=['date'], how='left')\n",
    "rt = rt.merge(it,on=['date'], how='left')"
   ]
  },
  {
   "cell_type": "code",
   "execution_count": 395,
   "id": "959457ae-ecd8-4472-b1ed-154d23848fc2",
   "metadata": {
    "tags": []
   },
   "outputs": [],
   "source": [
    "pd.set_option(\"display.precision\", 5)\n",
    "rt['RF'] = rt['RF']*100"
   ]
  },
  {
   "cell_type": "code",
   "execution_count": 396,
   "id": "2c4caae6-7aea-4608-a6a7-054b1011ba46",
   "metadata": {},
   "outputs": [],
   "source": [
    "rt.rename(columns={'Mkt-RF' : 'MktRF'}, inplace=True)"
   ]
  },
  {
   "cell_type": "code",
   "execution_count": 397,
   "id": "2a46112b-8daf-40db-bcef-c6e6ecd19b65",
   "metadata": {},
   "outputs": [
    {
     "data": {
      "image/png": "[encoded data removed]",
      "text/plain": [
       "<Figure size 432x288 with 1 Axes>"
      ]
     },
     "metadata": {},
     "output_type": "display_data"
    }
   ],
   "source": [
    "plt.plot(rt['date'], rt['MktRF']);"
   ]
  },
  {
   "cell_type": "code",
   "execution_count": 398,
   "id": "853cf380-9cc6-4e50-a9b7-bba559cb8013",
   "metadata": {},
   "outputs": [],
   "source": [
    "filt = (rt['date'] >= pd.to_datetime('2013-01-01')) & (rt['date'] <= pd.to_datetime('2022-02-28')) \n",
    "rt = rt[filt]\n",
    "rt.dropna(how='all', axis='index', thresh=5, inplace=True)"
   ]
  },
  {
   "cell_type": "code",
   "execution_count": 399,
   "id": "2ec5ca13-4fa3-49f9-9f06-11f3475eb73a",
   "metadata": {},
   "outputs": [
    {
     "data": {
      "text/html": [
       "<div>\n",
       "<style scoped>\n",
       "    .dataframe tbody tr th:only-of-type {\n",
       "        vertical-align: middle;\n",
       "    }\n",
       "\n",
       "    .dataframe tbody tr th {\n",
       "        vertical-align: top;\n",
       "    }\n",
       "\n",
       "    .dataframe thead th {\n",
       "        text-align: right;\n",
       "    }\n",
       "</style>\n",
       "<table border=\"1\" class=\"dataframe\">\n",
       "  <thead>\n",
       "    <tr style=\"text-align: right;\">\n",
       "      <th></th>\n",
       "      <th>port_low</th>\n",
       "      <th>port_mid</th>\n",
       "      <th>port_high</th>\n",
       "      <th>MktRF</th>\n",
       "      <th>SMB</th>\n",
       "      <th>HML</th>\n",
       "      <th>RMW</th>\n",
       "      <th>CMA</th>\n",
       "      <th>RF</th>\n",
       "      <th>DAX Index</th>\n",
       "      <th>OMXS30B Index</th>\n",
       "      <th>OMXC25 Index</th>\n",
       "      <th>OMX Index</th>\n",
       "    </tr>\n",
       "  </thead>\n",
       "  <tbody>\n",
       "    <tr>\n",
       "      <th>count</th>\n",
       "      <td>2324.00000</td>\n",
       "      <td>2324.00000</td>\n",
       "      <td>2324.00000</td>\n",
       "      <td>2324.00000</td>\n",
       "      <td>2324.00000</td>\n",
       "      <td>2324.00000</td>\n",
       "      <td>2324.00000</td>\n",
       "      <td>2324.00000</td>\n",
       "      <td>2324.00000</td>\n",
       "      <td>2324.00000</td>\n",
       "      <td>2324.00000</td>\n",
       "      <td>2324.00000</td>\n",
       "      <td>2324.00000</td>\n",
       "    </tr>\n",
       "    <tr>\n",
       "      <th>mean</th>\n",
       "      <td>0.07354</td>\n",
       "      <td>0.04097</td>\n",
       "      <td>0.04706</td>\n",
       "      <td>0.02896</td>\n",
       "      <td>0.00933</td>\n",
       "      <td>-0.00662</td>\n",
       "      <td>0.01384</td>\n",
       "      <td>-0.00840</td>\n",
       "      <td>0.24269</td>\n",
       "      <td>0.03307</td>\n",
       "      <td>0.03050</td>\n",
       "      <td>0.05289</td>\n",
       "      <td>0.03050</td>\n",
       "    </tr>\n",
       "    <tr>\n",
       "      <th>std</th>\n",
       "      <td>1.02560</td>\n",
       "      <td>1.02809</td>\n",
       "      <td>1.06378</td>\n",
       "      <td>1.00478</td>\n",
       "      <td>0.41555</td>\n",
       "      <td>0.53081</td>\n",
       "      <td>0.29968</td>\n",
       "      <td>0.29304</td>\n",
       "      <td>0.42880</td>\n",
       "      <td>1.20481</td>\n",
       "      <td>1.10024</td>\n",
       "      <td>1.04172</td>\n",
       "      <td>1.10024</td>\n",
       "    </tr>\n",
       "    <tr>\n",
       "      <th>min</th>\n",
       "      <td>-10.38933</td>\n",
       "      <td>-10.68079</td>\n",
       "      <td>-11.41330</td>\n",
       "      <td>-12.01000</td>\n",
       "      <td>-3.32000</td>\n",
       "      <td>-3.03000</td>\n",
       "      <td>-1.74000</td>\n",
       "      <td>-1.74000</td>\n",
       "      <td>0.00000</td>\n",
       "      <td>-12.23862</td>\n",
       "      <td>-10.57105</td>\n",
       "      <td>-8.02912</td>\n",
       "      <td>-10.57117</td>\n",
       "    </tr>\n",
       "    <tr>\n",
       "      <th>25%</th>\n",
       "      <td>-0.38565</td>\n",
       "      <td>-0.43167</td>\n",
       "      <td>-0.42369</td>\n",
       "      <td>-0.43000</td>\n",
       "      <td>-0.22000</td>\n",
       "      <td>-0.28000</td>\n",
       "      <td>-0.15000</td>\n",
       "      <td>-0.18000</td>\n",
       "      <td>0.00000</td>\n",
       "      <td>-0.47308</td>\n",
       "      <td>-0.51934</td>\n",
       "      <td>-0.49635</td>\n",
       "      <td>-0.51907</td>\n",
       "    </tr>\n",
       "    <tr>\n",
       "      <th>50%</th>\n",
       "      <td>0.09856</td>\n",
       "      <td>0.04939</td>\n",
       "      <td>0.06716</td>\n",
       "      <td>0.06000</td>\n",
       "      <td>0.01000</td>\n",
       "      <td>-0.03000</td>\n",
       "      <td>0.02000</td>\n",
       "      <td>-0.01000</td>\n",
       "      <td>0.00000</td>\n",
       "      <td>0.05404</td>\n",
       "      <td>0.02466</td>\n",
       "      <td>0.03232</td>\n",
       "      <td>0.02470</td>\n",
       "    </tr>\n",
       "    <tr>\n",
       "      <th>75%</th>\n",
       "      <td>0.58261</td>\n",
       "      <td>0.58351</td>\n",
       "      <td>0.55103</td>\n",
       "      <td>0.54000</td>\n",
       "      <td>0.25000</td>\n",
       "      <td>0.25000</td>\n",
       "      <td>0.18000</td>\n",
       "      <td>0.15000</td>\n",
       "      <td>0.00000</td>\n",
       "      <td>0.61673</td>\n",
       "      <td>0.62048</td>\n",
       "      <td>0.65593</td>\n",
       "      <td>0.62056</td>\n",
       "    </tr>\n",
       "    <tr>\n",
       "      <th>max</th>\n",
       "      <td>7.12380</td>\n",
       "      <td>6.81276</td>\n",
       "      <td>8.87625</td>\n",
       "      <td>8.54000</td>\n",
       "      <td>1.86000</td>\n",
       "      <td>4.38000</td>\n",
       "      <td>2.69000</td>\n",
       "      <td>1.31000</td>\n",
       "      <td>1.00000</td>\n",
       "      <td>10.97590</td>\n",
       "      <td>7.08908</td>\n",
       "      <td>5.07265</td>\n",
       "      <td>7.08859</td>\n",
       "    </tr>\n",
       "  </tbody>\n",
       "</table>\n",
       "</div>"
      ],
      "text/plain": [
       "         port_low    port_mid   port_high       MktRF         SMB         HML  \\\n",
       "count  2324.00000  2324.00000  2324.00000  2324.00000  2324.00000  2324.00000   \n",
       "mean      0.07354     0.04097     0.04706     0.02896     0.00933    -0.00662   \n",
       "std       1.02560     1.02809     1.06378     1.00478     0.41555     0.53081   \n",
       "min     -10.38933   -10.68079   -11.41330   -12.01000    -3.32000    -3.03000   \n",
       "25%      -0.38565    -0.43167    -0.42369    -0.43000    -0.22000    -0.28000   \n",
       "50%       0.09856     0.04939     0.06716     0.06000     0.01000    -0.03000   \n",
       "75%       0.58261     0.58351     0.55103     0.54000     0.25000     0.25000   \n",
       "max       7.12380     6.81276     8.87625     8.54000     1.86000     4.38000   \n",
       "\n",
       "              RMW         CMA          RF   DAX Index  OMXS30B Index  \\\n",
       "count  2324.00000  2324.00000  2324.00000  2324.00000     2324.00000   \n",
       "mean      0.01384    -0.00840     0.24269     0.03307        0.03050   \n",
       "std       0.29968     0.29304     0.42880     1.20481        1.10024   \n",
       "min      -1.74000    -1.74000     0.00000   -12.23862      -10.57105   \n",
       "25%      -0.15000    -0.18000     0.00000    -0.47308       -0.51934   \n",
       "50%       0.02000    -0.01000     0.00000     0.05404        0.02466   \n",
       "75%       0.18000     0.15000     0.00000     0.61673        0.62048   \n",
       "max       2.69000     1.31000     1.00000    10.97590        7.08908   \n",
       "\n",
       "       OMXC25 Index   OMX Index  \n",
       "count    2324.00000  2324.00000  \n",
       "mean        0.05289     0.03050  \n",
       "std         1.04172     1.10024  \n",
       "min        -8.02912   -10.57117  \n",
       "25%        -0.49635    -0.51907  \n",
       "50%         0.03232     0.02470  \n",
       "75%         0.65593     0.62056  \n",
       "max         5.07265     7.08859  "
      ]
     },
     "execution_count": 399,
     "metadata": {},
     "output_type": "execute_result"
    }
   ],
   "source": [
    "rt.describe()"
   ]
  },
  {
   "cell_type": "code",
   "execution_count": 400,
   "id": "2a143b7f-fc78-4e8b-93f3-336a06c5872e",
   "metadata": {},
   "outputs": [
    {
     "data": {
      "text/html": [
       "<div>\n",
       "<style scoped>\n",
       "    .dataframe tbody tr th:only-of-type {\n",
       "        vertical-align: middle;\n",
       "    }\n",
       "\n",
       "    .dataframe tbody tr th {\n",
       "        vertical-align: top;\n",
       "    }\n",
       "\n",
       "    .dataframe thead th {\n",
       "        text-align: right;\n",
       "    }\n",
       "</style>\n",
       "<table border=\"1\" class=\"dataframe\">\n",
       "  <thead>\n",
       "    <tr style=\"text-align: right;\">\n",
       "      <th></th>\n",
       "      <th>port_low</th>\n",
       "      <th>port_mid</th>\n",
       "      <th>port_high</th>\n",
       "      <th>MktRF</th>\n",
       "    </tr>\n",
       "  </thead>\n",
       "  <tbody>\n",
       "    <tr>\n",
       "      <th>port_low</th>\n",
       "      <td>1.00000</td>\n",
       "      <td>0.89813</td>\n",
       "      <td>0.88040</td>\n",
       "      <td>0.79981</td>\n",
       "    </tr>\n",
       "    <tr>\n",
       "      <th>port_mid</th>\n",
       "      <td>0.89813</td>\n",
       "      <td>1.00000</td>\n",
       "      <td>0.92794</td>\n",
       "      <td>0.83673</td>\n",
       "    </tr>\n",
       "    <tr>\n",
       "      <th>port_high</th>\n",
       "      <td>0.88040</td>\n",
       "      <td>0.92794</td>\n",
       "      <td>1.00000</td>\n",
       "      <td>0.85539</td>\n",
       "    </tr>\n",
       "    <tr>\n",
       "      <th>MktRF</th>\n",
       "      <td>0.79981</td>\n",
       "      <td>0.83673</td>\n",
       "      <td>0.85539</td>\n",
       "      <td>1.00000</td>\n",
       "    </tr>\n",
       "  </tbody>\n",
       "</table>\n",
       "</div>"
      ],
      "text/plain": [
       "           port_low  port_mid  port_high    MktRF\n",
       "port_low    1.00000   0.89813    0.88040  0.79981\n",
       "port_mid    0.89813   1.00000    0.92794  0.83673\n",
       "port_high   0.88040   0.92794    1.00000  0.85539\n",
       "MktRF       0.79981   0.83673    0.85539  1.00000"
      ]
     },
     "execution_count": 400,
     "metadata": {},
     "output_type": "execute_result"
    }
   ],
   "source": [
    "rt.loc[:,['port_low','port_mid','port_high','MktRF']].corr()"
   ]
  },
  {
   "cell_type": "code",
   "execution_count": null,
   "id": "6796072c-ba62-483f-a4d7-a3ccae845c55",
   "metadata": {},
   "outputs": [],
   "source": [
    "res1 = sm.OLS("
   ]
  },
  {
   "cell_type": "code",
   "execution_count": 401,
   "id": "0938288b-e205-47f3-a52b-d25262091e42",
   "metadata": {},
   "outputs": [
    {
     "name": "stdout",
     "output_type": "stream",
     "text": [
      "                            OLS Regression Results                            \n",
      "==============================================================================\n",
      "Dep. Variable:               port_low   R-squared:                       0.640\n",
      "Model:                            OLS   Adj. R-squared:                  0.640\n",
      "Method:                 Least Squares   F-statistic:                     4122.\n",
      "Date:                Mon, 18 Apr 2022   Prob (F-statistic):               0.00\n",
      "Time:                        13:50:37   Log-Likelihood:                -2169.7\n",
      "No. Observations:                2324   AIC:                             4343.\n",
      "Df Residuals:                    2322   BIC:                             4355.\n",
      "Df Model:                           1                                         \n",
      "Covariance Type:            nonrobust                                         \n",
      "==============================================================================\n",
      "                 coef    std err          t      P>|t|      [0.025      0.975]\n",
      "------------------------------------------------------------------------------\n",
      "Intercept      0.0499      0.013      3.905      0.000       0.025       0.075\n",
      "MktRF          0.8164      0.013     64.207      0.000       0.791       0.841\n",
      "==============================================================================\n",
      "Omnibus:                      118.701   Durbin-Watson:                   2.044\n",
      "Prob(Omnibus):                  0.000   Jarque-Bera (JB):              428.947\n",
      "Skew:                           0.065   Prob(JB):                     7.17e-94\n",
      "Kurtosis:                       5.101   Cond. No.                         1.03\n",
      "==============================================================================\n",
      "\n",
      "Notes:\n",
      "[1] Standard Errors assume that the covariance matrix of the errors is correctly specified.\n"
     ]
    },
    {
     "data": {
      "image/png": "[encoded data removed]",
      "text/plain": [
       "<Figure size 432x288 with 1 Axes>"
      ]
     },
     "metadata": {},
     "output_type": "display_data"
    }
   ],
   "source": [
    "model1 = smf.ols(formula='port_low ~ MktRF', data=rt).fit() \n",
    "print(model1.summary())\n",
    "trend = model1.params[0] + model1.params[1]* rt['port_low']\n",
    "plt.scatter(rt['port_low'],rt['MktRF'])\n",
    "plt.plot(trend, rt['port_low'], 'r');"
   ]
  },
  {
   "cell_type": "code",
   "execution_count": 402,
   "id": "7eb95ce8-bda4-4f44-918e-e80bb6be8aad",
   "metadata": {},
   "outputs": [
    {
     "name": "stdout",
     "output_type": "stream",
     "text": [
      "                            OLS Regression Results                            \n",
      "==============================================================================\n",
      "Dep. Variable:               port_mid   R-squared:                       0.700\n",
      "Model:                            OLS   Adj. R-squared:                  0.700\n",
      "Method:                 Least Squares   F-statistic:                     5421.\n",
      "Date:                Mon, 18 Apr 2022   Prob (F-statistic):               0.00\n",
      "Time:                        13:50:37   Log-Likelihood:                -1962.0\n",
      "No. Observations:                2324   AIC:                             3928.\n",
      "Df Residuals:                    2322   BIC:                             3940.\n",
      "Df Model:                           1                                         \n",
      "Covariance Type:            nonrobust                                         \n",
      "==============================================================================\n",
      "                 coef    std err          t      P>|t|      [0.025      0.975]\n",
      "------------------------------------------------------------------------------\n",
      "Intercept      0.0162      0.012      1.384      0.167      -0.007       0.039\n",
      "MktRF          0.8561      0.012     73.628      0.000       0.833       0.879\n",
      "==============================================================================\n",
      "Omnibus:                      170.237   Durbin-Watson:                   2.086\n",
      "Prob(Omnibus):                  0.000   Jarque-Bera (JB):              764.508\n",
      "Skew:                           0.186   Prob(JB):                    9.76e-167\n",
      "Kurtosis:                       5.785   Cond. No.                         1.03\n",
      "==============================================================================\n",
      "\n",
      "Notes:\n",
      "[1] Standard Errors assume that the covariance matrix of the errors is correctly specified.\n"
     ]
    },
    {
     "data": {
      "image/png": "[encoded data removed]",
      "text/plain": [
       "<Figure size 432x288 with 1 Axes>"
      ]
     },
     "metadata": {},
     "output_type": "display_data"
    }
   ],
   "source": [
    "model2 = smf.ols(formula='port_mid ~ MktRF', data=rt).fit() \n",
    "print(model2.summary())\n",
    "trend = model2.params[0] + model2.params[1]* rt['port_low']\n",
    "plt.scatter(rt['port_low'],rt['MktRF'])\n",
    "plt.plot(trend, rt['port_low'], 'r');"
   ]
  },
  {
   "cell_type": "code",
   "execution_count": 403,
   "id": "c1ff8f34-cb4b-427f-b1f2-ce6a66ecf1b2",
   "metadata": {},
   "outputs": [
    {
     "name": "stdout",
     "output_type": "stream",
     "text": [
      "                            OLS Regression Results                            \n",
      "==============================================================================\n",
      "Dep. Variable:              port_high   R-squared:                       0.732\n",
      "Model:                            OLS   Adj. R-squared:                  0.732\n",
      "Method:                 Least Squares   F-statistic:                     6332.\n",
      "Date:                Mon, 18 Apr 2022   Prob (F-statistic):               0.00\n",
      "Time:                        13:50:38   Log-Likelihood:                -1912.1\n",
      "No. Observations:                2324   AIC:                             3828.\n",
      "Df Residuals:                    2322   BIC:                             3840.\n",
      "Df Model:                           1                                         \n",
      "Covariance Type:            nonrobust                                         \n",
      "==============================================================================\n",
      "                 coef    std err          t      P>|t|      [0.025      0.975]\n",
      "------------------------------------------------------------------------------\n",
      "Intercept      0.0208      0.011      1.821      0.069      -0.002       0.043\n",
      "MktRF          0.9056      0.011     79.574      0.000       0.883       0.928\n",
      "==============================================================================\n",
      "Omnibus:                      126.922   Durbin-Watson:                   2.044\n",
      "Prob(Omnibus):                  0.000   Jarque-Bera (JB):              445.090\n",
      "Skew:                           0.148   Prob(JB):                     2.24e-97\n",
      "Kurtosis:                       5.123   Cond. No.                         1.03\n",
      "==============================================================================\n",
      "\n",
      "Notes:\n",
      "[1] Standard Errors assume that the covariance matrix of the errors is correctly specified.\n"
     ]
    },
    {
     "data": {
      "image/png": "[encoded data removed]",
      "text/plain": [
       "<Figure size 432x288 with 1 Axes>"
      ]
     },
     "metadata": {},
     "output_type": "display_data"
    }
   ],
   "source": [
    "model3 = smf.ols(formula='port_high ~ MktRF', data=rt).fit() \n",
    "print(model3.summary())\n",
    "trend = model3.params[0] + model3.params[1]* rt['port_high']\n",
    "plt.scatter(rt['port_high'],rt['MktRF'])\n",
    "plt.plot(trend, rt['port_high'], 'r');"
   ]
  },
  {
   "cell_type": "code",
   "execution_count": null,
   "id": "4b8e350a-348b-427e-afbf-ef991bc04149",
   "metadata": {},
   "outputs": [],
   "source": []
  }
 ],
 "metadata": {
  "kernelspec": {
   "display_name": "Python 3 (ipykernel)",
   "language": "python",
   "name": "python3"
  },
  "language_info": {
   "codemirror_mode": {
    "name": "ipython",
    "version": 3
   },
   "file_extension": ".py",
   "mimetype": "text/x-python",
   "name": "python",
   "nbconvert_exporter": "python",
   "pygments_lexer": "ipython3",
   "version": "3.9.7"
  }
 },
 "nbformat": 4,
 "nbformat_minor": 5
}
