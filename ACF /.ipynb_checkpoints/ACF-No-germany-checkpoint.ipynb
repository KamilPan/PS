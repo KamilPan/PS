{
 "cells": [
  {
   "cell_type": "code",
   "execution_count": 44,
   "id": "d6211b65-44aa-43b5-a4ca-8d8982f88d70",
   "metadata": {},
   "outputs": [],
   "source": [
    "import pandas as pd\n",
    "import numpy as np\n",
    "from IPython.display import display\n",
    "import matplotlib.pyplot as plt\n",
    "import matplotlib.patches as mpatches\n",
    "plt.style.use('seaborn-whitegrid')\n",
    "pd.set_option(\"display.precision\", 5)"
   ]
  },
  {
   "cell_type": "code",
   "execution_count": 45,
   "id": "b845f547-511b-43a2-8695-97e545aa51ab",
   "metadata": {},
   "outputs": [
    {
     "name": "stdout",
     "output_type": "stream",
     "text": [
      "The autoreload extension is already loaded. To reload it, use:\n",
      "  %reload_ext autoreload\n"
     ]
    }
   ],
   "source": [
    "# magic to reload modules automatically\n",
    "%load_ext autoreload\n",
    "%autoreload 2"
   ]
  },
  {
   "cell_type": "code",
   "execution_count": 46,
   "id": "c5cba90f-ad2a-4a91-80e1-9dc3bed9df8e",
   "metadata": {},
   "outputs": [
    {
     "name": "stdout",
     "output_type": "stream",
     "text": [
      "(2352, 124)\n",
      "(12, 739)\n",
      "(8261, 7)\n"
     ]
    }
   ],
   "source": [
    "ff = pd.read_excel('data/5factors.xlsx')\n",
    "rt = pd.read_excel('data/north.xlsx' , skiprows=3)\n",
    "esg = pd.read_excel('data/north31.xlsx', skiprows=3)\n",
    "print(rt.shape)\n",
    "print(esg.shape)\n",
    "print(ff.shape)"
   ]
  },
  {
   "cell_type": "code",
   "execution_count": 47,
   "id": "089bfb7e-1133-40be-a43c-bd4cc5493b26",
   "metadata": {},
   "outputs": [],
   "source": [
    "pd.set_option('display.max_columns',735) # I want to see all the columns\n",
    "pd.set_option('display.max_rows',735) "
   ]
  },
  {
   "cell_type": "code",
   "execution_count": 48,
   "id": "4a317633-52f7-4648-aca7-114a7a7cfab7",
   "metadata": {},
   "outputs": [],
   "source": [
    "ff.rename(columns = {'Unnamed: 0' : 'date'}, inplace=True)\n",
    "ff['date'] = pd.to_datetime(ff['date'], format='%Y%m%d')\n",
    "filt = (ff['date'] >= pd.to_datetime('2013-04-03')) & (ff['date'] <= pd.to_datetime('2022-02-28'))\n",
    "ff = ff[filt]\n",
    "ff.reset_index(inplace = True, drop = True)"
   ]
  },
  {
   "cell_type": "code",
   "execution_count": 49,
   "id": "ae92cd22-63d3-41c9-9961-495fd7c0830e",
   "metadata": {},
   "outputs": [],
   "source": [
    "rt.drop(index=[0,1,2], inplace=True)\n",
    "rt.reset_index(inplace = True, drop = True) # Drop old index too"
   ]
  },
  {
   "cell_type": "code",
   "execution_count": 50,
   "id": "9db529d7-d553-4cf2-a14f-ba5dbf6612f9",
   "metadata": {},
   "outputs": [],
   "source": [
    "it = rt.copy()\n",
    "it.to_excel('it.xlsx')"
   ]
  },
  {
   "cell_type": "code",
   "execution_count": 51,
   "id": "5c96a395-a5b0-4795-9f2b-3023faed1762",
   "metadata": {},
   "outputs": [],
   "source": [
    "rt.rename(columns={'Unnamed: 0':'date'},inplace = True) \n",
    "xx = ['1COV GY Equity','DTG GY Equity','SINCH SS Equity',\n",
    "                 'SHL GY Equity','NEL NO Equity','DHER GY Equity',\n",
    "                 'HFG GY Equity','LIN GY Equity','NETS DC Equity',\n",
    "                 'DAX Index','OMXS30B Index','OMXC25 Index','OMX Index']\n",
    "drop_these = []\n",
    "for i in xx:\n",
    "    for j in range(1,6):\n",
    "        drop_these.append(i + '.' + str(j))\n",
    "drop_these = xx + drop_these\n",
    "rt.drop(columns=xx, inplace = True)"
   ]
  },
  {
   "cell_type": "code",
   "execution_count": 52,
   "id": "91d7d4bf-daea-497a-8474-082d3f186c99",
   "metadata": {},
   "outputs": [],
   "source": [
    "rt.columns = rt.columns.str.replace(' GY', ' G')\n",
    "rt.columns = rt.columns.str.replace(' SS', ' S')\n",
    "rt.columns = rt.columns.str.replace(' NO', ' N')\n",
    "rt.columns = rt.columns.str.replace(' DC', ' D')\n",
    "rt.columns = rt.columns.str.replace(' Equity', '')\n",
    "rt.columns = rt.columns.str.replace(' ', '_')"
   ]
  },
  {
   "cell_type": "code",
   "execution_count": 53,
   "id": "f9132fcc-4d81-4b8a-ba72-8c73121eb046",
   "metadata": {},
   "outputs": [],
   "source": [
    "rt['date'] = pd.to_datetime(rt['date'])\n",
    "#rt.set_index('date',inplace = True) "
   ]
  },
  {
   "cell_type": "code",
   "execution_count": 54,
   "id": "26727a31-ef6c-4d3d-844e-28a14c4f587f",
   "metadata": {},
   "outputs": [],
   "source": [
    "esg.drop(columns=drop_these,inplace = True) \n",
    "esg.drop(index=[0,2], inplace=True)\n",
    "esg.rename(columns={'Unnamed: 0':'Date'},inplace = True) \n",
    "esg.reset_index(inplace = True, drop = True) "
   ]
  },
  {
   "cell_type": "code",
   "execution_count": 55,
   "id": "771d76cc-211b-46f7-a627-179aabd80490",
   "metadata": {},
   "outputs": [],
   "source": [
    "esg.replace({'ESG_DISCLOSURE_SCORE': 'ESG', 'ENVIRON_DISCLOSURE_SCORE': 'E',\n",
    "             'SOCIAL_DISCLOSURE_SCORE': 'S','GOVNCE_DISCLOSURE_SCORE': 'G',\n",
    "             'HISTORICAL_MARKET_CAP' : 'HMCAP', 'CUR_MKT_CAP': 'MCAP'}, inplace=True)"
   ]
  },
  {
   "cell_type": "code",
   "execution_count": 56,
   "id": "3129ed4f-3a56-4b8a-aaa9-2620c7b0cfac",
   "metadata": {},
   "outputs": [],
   "source": [
    "asg = esg.iloc[1] + ' ' + esg.iloc[0]\n",
    "esg = esg.append(asg, ignore_index=True)\n",
    "esg.loc[10,'Date'] = 'date'\n",
    "nnn = esg.loc[10]\n",
    "esg.rename(columns=nnn, inplace=True)\n",
    "esg.drop(index=[0,1,10], inplace=True)\n",
    "esg.reset_index(inplace = True, drop = True)"
   ]
  },
  {
   "cell_type": "code",
   "execution_count": 57,
   "id": "a3a3f208-fc78-4ae3-92d1-202b134da8e6",
   "metadata": {
    "tags": []
   },
   "outputs": [],
   "source": [
    "esg.columns = esg.columns.str.replace(' GY', ' G')\n",
    "esg.columns = esg.columns.str.replace(' SS', ' S')\n",
    "esg.columns = esg.columns.str.replace(' NO', ' N')\n",
    "esg.columns = esg.columns.str.replace(' DC', ' D')\n",
    "esg.columns = esg.columns.str.replace(' Equity', '')\n",
    "esg.columns = esg.columns.str.replace(' ', '_')\n",
    "esg.set_index('date', inplace=True)"
   ]
  },
  {
   "cell_type": "code",
   "execution_count": 58,
   "id": "563cea68-797a-46d1-980e-6b1f1c80486f",
   "metadata": {},
   "outputs": [],
   "source": [
    "esg_esg = esg.loc[:,'ADS_G_ESG':'VWS_D_ESG']\n",
    "esg_esg.columns = esg_esg.columns.str.replace('_ESG', '')"
   ]
  },
  {
   "cell_type": "code",
   "execution_count": 59,
   "id": "7b994974-cb50-4420-ba1b-ee03d36b981b",
   "metadata": {},
   "outputs": [],
   "source": [
    "for i in rt.columns[1:]:\n",
    "    rt.loc[:,i] = rt.loc[:,i].pct_change(1)*100\n",
    "rt.drop(index=[0], inplace=True)"
   ]
  },
  {
   "cell_type": "code",
   "execution_count": 60,
   "id": "cd563ccc-d25e-4493-9b9e-ae5f0dc9892f",
   "metadata": {},
   "outputs": [],
   "source": [
    "nyind = []\n",
    "for i in esg_esg.index:\n",
    "    nyind.append(str(i)+ '_esg')\n",
    "esg_esg.index = nyind"
   ]
  },
  {
   "cell_type": "code",
   "execution_count": 61,
   "id": "1264176c-c73e-44c4-98ff-fbbef6e7b2e5",
   "metadata": {
    "tags": []
   },
   "outputs": [],
   "source": [
    "rtt = pd.concat([rt, esg_esg])"
   ]
  },
  {
   "cell_type": "code",
   "execution_count": 62,
   "id": "0e20ced1-1106-4980-9a21-ab3770502536",
   "metadata": {},
   "outputs": [],
   "source": [
    "#rtt.drop(columns='EVO_S', inplace=True)\n",
    "#rt.drop(columns='EVO_S', inplace=True)\n",
    "#no_ger = rtt.columns[1:35].tolist()\n",
    "#rtt.drop(columns=no_ger, inplace=True)\n",
    "#rt.drop(columns=no_ger, inplace=True)"
   ]
  },
  {
   "cell_type": "code",
   "execution_count": 63,
   "id": "db71f214-3fa8-4967-9da5-dbebc8cda874",
   "metadata": {},
   "outputs": [
    {
     "name": "stdout",
     "output_type": "stream",
     "text": [
      "(203, 103)\n"
     ]
    }
   ],
   "source": [
    "filt = (rtt['date'] >= pd.to_datetime('2013-01-01')) & (rtt['date'] <= pd.to_datetime('2013-12-31')) \n",
    "thirteen = rtt[filt]\n",
    "thirteen = pd.concat([thirteen, esg_esg])\n",
    "thirteen = thirteen.replace(0, np.nan)\n",
    "thirteen.dropna(how='all', axis='columns', thresh=150, inplace=True)\n",
    "thirteen = thirteen.replace(np.nan, 0)\n",
    "print(thirteen.shape)"
   ]
  },
  {
   "cell_type": "code",
   "execution_count": 64,
   "id": "d6318727-8988-4008-932c-30e50a9948da",
   "metadata": {
    "tags": []
   },
   "outputs": [],
   "source": [
    "#  2013\n",
    "q_l = thirteen.loc[thirteen.index[-1], 'ADS_G' : 'VWS_D'].quantile(q=0.33)\n",
    "q_h = thirteen.loc[thirteen.index[-1], 'ADS_G' : 'VWS_D'].quantile(q=0.67)\n",
    "I = (thirteen.loc['2014_esg', 'ADS_G':'VWS_D'] <= q_l)\n",
    "Ii = (thirteen.loc['2014_esg', 'ADS_G':'VWS_D'] > q_l) & (thirteen.loc['2014_esg', 'ADS_G':'VWS_D'] <= q_h)\n",
    "Iii = (thirteen.loc['2014_esg', 'ADS_G':'VWS_D'] > q_h)"
   ]
  },
  {
   "cell_type": "code",
   "execution_count": 65,
   "id": "a6bc22da-9085-4f31-b92a-578cbfffff0f",
   "metadata": {
    "tags": []
   },
   "outputs": [],
   "source": [
    "I_sum = I.sum()\n",
    "Ii_sum = Ii.sum() + I_sum\n",
    "Iii_sum = Iii.sum() + Ii_sum\n",
    "thirteen.sort_values(by = '2014_esg', axis = 1, na_position ='first', inplace=True)"
   ]
  },
  {
   "cell_type": "code",
   "execution_count": 66,
   "id": "a6eb8807-aea6-417d-a41e-fb6621e78717",
   "metadata": {
    "tags": []
   },
   "outputs": [],
   "source": [
    "#2013\n",
    "# low\n",
    "thirteen = thirteen.iloc[:-8]\n",
    "low_p=[]\n",
    "for i in range(len(thirteen)):\n",
    "     low_p.append(thirteen.iloc[i, 1:I_sum].mean())\n",
    "\n",
    "# mid\n",
    "mid_p=[]\n",
    "for i in range(len(thirteen)):\n",
    "     mid_p.append(thirteen.iloc[i, I_sum:Ii_sum].mean())\n",
    "\n",
    "# high\n",
    "high_p=[]\n",
    "for i in range(len(thirteen)):\n",
    "     high_p.append(thirteen.iloc[i, Ii_sum:Iii_sum + 1].mean())"
   ]
  },
  {
   "cell_type": "code",
   "execution_count": 67,
   "id": "cb0ebdb8-90b6-45a2-b198-5da854d96a50",
   "metadata": {},
   "outputs": [],
   "source": [
    "filt = (rtt['date'] >= pd.to_datetime('2014-01-01')) & (rtt['date'] <= pd.to_datetime('2014-12-31')) \n",
    "fourteen = rtt[filt]\n",
    "fourteen = pd.concat([fourteen, esg_esg])\n",
    "fourteen = fourteen.replace(0, np.nan)\n",
    "fourteen.dropna(how='all', axis='columns', thresh=100, inplace=True)\n",
    "fourteen = fourteen.replace(np.nan, 0)\n",
    "fourteen.sort_values(by = '2014_esg', axis = 1, na_position ='first', inplace=True)"
   ]
  },
  {
   "cell_type": "code",
   "execution_count": 68,
   "id": "4aaeb431-3ca4-44cb-9083-1d6048fac486",
   "metadata": {},
   "outputs": [],
   "source": [
    "#2014\n",
    "# low\n",
    "fourteen = fourteen.iloc[:-8]\n",
    "for i in range(len(fourteen)):\n",
    "     low_p.append(fourteen.iloc[i, 1:I_sum].mean())\n",
    "\n",
    "# mid\n",
    "for i in range(len(fourteen)):\n",
    "     mid_p.append(fourteen.iloc[i, I_sum:Ii_sum].mean())\n",
    "\n",
    "# high\n",
    "for i in range(len(fourteen)):\n",
    "     high_p.append(fourteen.iloc[i, Ii_sum:Iii_sum + 1].mean())"
   ]
  },
  {
   "cell_type": "code",
   "execution_count": 69,
   "id": "83b56a19-3c94-4b02-bdf7-9c4b00ba2080",
   "metadata": {
    "tags": []
   },
   "outputs": [],
   "source": [
    "#  2015\n",
    "filt = (rtt['date'] >= pd.to_datetime('2015-01-01')) & (rtt['date'] <= pd.to_datetime('2015-12-31')) \n",
    "fifteen = rtt[filt]\n",
    "fifteen = pd.concat([fifteen, esg_esg])\n",
    "fifteen = fifteen.replace(0, np.nan)\n",
    "fifteen.dropna(how='all', axis='columns', thresh=100, inplace=True)\n",
    "fifteen = fifteen.replace(np.nan, 0)\n",
    "nah = ['2014_esg','2016_esg','2017_esg','2018_esg','2019_esg','2020_esg','2021_esg']\n",
    "fifteen.drop(index=nah, inplace=True)\n",
    "\n",
    "q_l = fifteen.loc[fifteen.index[-1], 'ADS_G' : 'VWS_D'].quantile(q=0.33)\n",
    "q_h = fifteen.loc[fifteen.index[-1], 'ADS_G' : 'VWS_D'].quantile(q=0.67)\n",
    "I = (fifteen.loc['2015_esg', 'ADS_G':'VWS_D'] <= q_l)\n",
    "Ii = (fifteen.loc['2015_esg', 'ADS_G':'VWS_D'] > q_l) & (fifteen.loc['2015_esg', 'ADS_G':'VWS_D'] <= q_h)\n",
    "Iii = (fifteen.loc['2015_esg', 'ADS_G':'VWS_D'] > q_h)\n",
    "I_sum = I.sum()\n",
    "Ii_sum = Ii.sum() + I_sum\n",
    "Iii_sum = Iii.sum() + Ii_sum"
   ]
  },
  {
   "cell_type": "code",
   "execution_count": 70,
   "id": "6b702dce-0d28-4c02-bfd2-bddc155c2148",
   "metadata": {
    "tags": []
   },
   "outputs": [],
   "source": [
    "fifteen.sort_values(by = '2015_esg', axis = 1, na_position ='first', inplace=True)"
   ]
  },
  {
   "cell_type": "code",
   "execution_count": 71,
   "id": "204bfe90-9192-4193-9879-6f42598cd869",
   "metadata": {
    "tags": []
   },
   "outputs": [],
   "source": [
    "#2015\n",
    "# low\n",
    "fifteen = fifteen.iloc[:-1]\n",
    "for i in range(len(fifteen)):\n",
    "     low_p.append(fifteen.iloc[i, 1:I_sum].mean())\n",
    "\n",
    "# mid\n",
    "for i in range(len(fifteen)):\n",
    "     mid_p.append(fifteen.iloc[i, I_sum:Ii_sum].mean())\n",
    "\n",
    "# high\n",
    "for i in range(len(fifteen)):\n",
    "     high_p.append(fifteen.iloc[i, Ii_sum:Iii_sum + 1].mean())"
   ]
  },
  {
   "cell_type": "code",
   "execution_count": 72,
   "id": "c3361f54-183e-4637-bd5f-a386124dee4e",
   "metadata": {},
   "outputs": [],
   "source": [
    "#  2016\n",
    "filt = (rtt['date'] >= pd.to_datetime('2016-01-01')) & (rtt['date'] <= pd.to_datetime('2016-12-31')) \n",
    "sixteen = rtt[filt]\n",
    "sixteen = pd.concat([sixteen, esg_esg])\n",
    "sixteen = sixteen.replace(0, np.nan)\n",
    "sixteen.dropna(how='all', axis='columns', thresh=120, inplace=True)\n",
    "sixteen = sixteen.replace(np.nan, 0)\n",
    "nah = ['2014_esg','2015_esg','2017_esg','2018_esg','2019_esg','2020_esg','2021_esg']\n",
    "sixteen.drop(index=nah, inplace=True)\n",
    "\n",
    "q_l = sixteen.loc[sixteen.index[-1], 'ADS_G' : 'VWS_D'].quantile(q=0.33)\n",
    "q_h = sixteen.loc[sixteen.index[-1], 'ADS_G' : 'VWS_D'].quantile(q=0.67)\n",
    "I = (sixteen.loc['2016_esg', 'ADS_G':'VWS_D'] <= q_l)\n",
    "Ii = (sixteen.loc['2016_esg', 'ADS_G':'VWS_D'] > q_l) & (sixteen.loc['2016_esg', 'ADS_G':'VWS_D'] <= q_h)\n",
    "Iii = (sixteen.loc['2016_esg', 'ADS_G':'VWS_D'] > q_h)\n",
    "I_sum = I.sum()\n",
    "Ii_sum = Ii.sum() + I_sum\n",
    "Iii_sum = Iii.sum() + Ii_sum"
   ]
  },
  {
   "cell_type": "code",
   "execution_count": 73,
   "id": "688ed84f-77bb-42c0-80ae-061641e76299",
   "metadata": {},
   "outputs": [],
   "source": [
    "sixteen.sort_values(by = '2016_esg', axis = 1, na_position ='first', inplace=True)"
   ]
  },
  {
   "cell_type": "code",
   "execution_count": 74,
   "id": "28e394dd-a2bf-45fa-b45a-b821ce5d8262",
   "metadata": {},
   "outputs": [],
   "source": [
    "#  2016\n",
    "# low\n",
    "sixteen = sixteen.iloc[:-1]\n",
    "for i in range(len(sixteen)):\n",
    "     low_p.append(sixteen.iloc[i, 1:I_sum].mean())\n",
    "\n",
    "# mid\n",
    "for i in range(len(sixteen)):\n",
    "     mid_p.append(sixteen.iloc[i, I_sum:Ii_sum].mean())\n",
    "\n",
    "# high\n",
    "for i in range(len(sixteen)):\n",
    "     high_p.append(sixteen.iloc[i, Ii_sum:Iii_sum + 1].mean())"
   ]
  },
  {
   "cell_type": "code",
   "execution_count": 75,
   "id": "0621c60e-4413-40bc-ae21-495a99c9c6d6",
   "metadata": {},
   "outputs": [],
   "source": [
    "#  2017\n",
    "filt = (rtt['date'] >= pd.to_datetime('2017-01-01')) & (rtt['date'] <= pd.to_datetime('2017-12-31')) \n",
    "seventeen = rtt[filt]\n",
    "seventeen = pd.concat([seventeen, esg_esg])\n",
    "seventeen = seventeen.replace(0, np.nan)\n",
    "seventeen.dropna(how='all', axis='columns', thresh=120, inplace=True)\n",
    "seventeen = seventeen.replace(np.nan, 0)\n",
    "nah = ['2014_esg','2015_esg','2016_esg','2018_esg','2019_esg','2020_esg','2021_esg']\n",
    "seventeen.drop(index=nah, inplace=True)\n",
    "\n",
    "q_l = seventeen.loc[seventeen.index[-1], 'ADS_G' : 'VWS_D'].quantile(q=0.33)\n",
    "q_h = seventeen.loc[seventeen.index[-1], 'ADS_G' : 'VWS_D'].quantile(q=0.67)\n",
    "I = (seventeen.loc['2017_esg', 'ADS_G':'VWS_D'] <= q_l)\n",
    "Ii = (seventeen.loc['2017_esg', 'ADS_G':'VWS_D'] > q_l) & (seventeen.loc['2017_esg', 'ADS_G':'VWS_D'] <= q_h)\n",
    "Iii = (seventeen.loc['2017_esg', 'ADS_G':'VWS_D'] > q_h)\n",
    "I_sum = I.sum()\n",
    "Ii_sum = Ii.sum() + I_sum\n",
    "Iii_sum = Iii.sum() + Ii_sum"
   ]
  },
  {
   "cell_type": "code",
   "execution_count": 76,
   "id": "c2fe6a68-981f-4687-8182-27e2f38727d2",
   "metadata": {},
   "outputs": [],
   "source": [
    "seventeen.sort_values(by = '2017_esg', axis = 1, na_position ='first', inplace=True)"
   ]
  },
  {
   "cell_type": "code",
   "execution_count": 77,
   "id": "7d2b55ae-f35e-4a34-ab4c-cd395c329e66",
   "metadata": {},
   "outputs": [],
   "source": [
    "#  2017\n",
    "# low\n",
    "seventeen = seventeen.iloc[:-1]\n",
    "for i in range(len(seventeen)):\n",
    "     low_p.append(seventeen.iloc[i, 1:I_sum].mean())\n",
    "\n",
    "# mid\n",
    "for i in range(len(seventeen)):\n",
    "     mid_p.append(seventeen.iloc[i, I_sum:Ii_sum].mean())\n",
    "\n",
    "# high\n",
    "for i in range(len(seventeen)):\n",
    "     high_p.append(seventeen.iloc[i, Ii_sum:Iii_sum + 1].mean())"
   ]
  },
  {
   "cell_type": "code",
   "execution_count": 78,
   "id": "ff02edd0-a565-4191-8330-9197e180108c",
   "metadata": {},
   "outputs": [],
   "source": [
    "#  2018\n",
    "filt = (rtt['date'] >= pd.to_datetime('2018-01-01')) & (rtt['date'] <= pd.to_datetime('2018-12-31')) \n",
    "eighteen  = rtt[filt]\n",
    "eighteen = pd.concat([eighteen, esg_esg])\n",
    "eighteen = eighteen.replace(0, np.nan)\n",
    "eighteen.dropna(how='all', axis='columns', thresh=120, inplace=True)\n",
    "eighteen = eighteen.replace(np.nan, 0)\n",
    "nah = ['2014_esg','2015_esg','2016_esg','2017_esg','2019_esg','2020_esg','2021_esg']\n",
    "eighteen.drop(index=nah, inplace=True)\n",
    "\n",
    "q_l = eighteen.loc[eighteen.index[-1], 'ADS_G' : 'VWS_D'].quantile(q=0.33)\n",
    "q_h = eighteen.loc[eighteen.index[-1], 'ADS_G' : 'VWS_D'].quantile(q=0.67)\n",
    "I = (eighteen.loc['2018_esg', 'ADS_G':'VWS_D'] <= q_l)\n",
    "Ii = (eighteen.loc['2018_esg', 'ADS_G':'VWS_D'] > q_l) & (eighteen.loc['2018_esg', 'ADS_G':'VWS_D'] <= q_h)\n",
    "Iii = (eighteen.loc['2018_esg', 'ADS_G':'VWS_D'] > q_h)\n",
    "I_sum = I.sum()\n",
    "Ii_sum = Ii.sum() + I_sum\n",
    "Iii_sum = Iii.sum() + Ii_sum"
   ]
  },
  {
   "cell_type": "code",
   "execution_count": 79,
   "id": "bd4f260a-05d7-486c-a889-2b82bb5639a6",
   "metadata": {},
   "outputs": [],
   "source": [
    "eighteen.sort_values(by = '2018_esg', axis = 1, na_position ='first', inplace=True)"
   ]
  },
  {
   "cell_type": "code",
   "execution_count": 80,
   "id": "a0a6564e-4d5e-4457-b1ec-12006211a913",
   "metadata": {},
   "outputs": [],
   "source": [
    "#  2018\n",
    "# low\n",
    "eighteen = eighteen.iloc[:-1]\n",
    "for i in range(len(eighteen)):\n",
    "     low_p.append(eighteen.iloc[i, 1:I_sum].mean())\n",
    "\n",
    "# mid\n",
    "for i in range(len(eighteen)):\n",
    "     mid_p.append(eighteen.iloc[i, I_sum:Ii_sum].mean())\n",
    "\n",
    "# high\n",
    "for i in range(len(eighteen)):\n",
    "     high_p.append(eighteen.iloc[i, Ii_sum:Iii_sum + 1].mean())"
   ]
  },
  {
   "cell_type": "code",
   "execution_count": 81,
   "id": "06a829fe-8cb6-4602-bcf1-5a7bbcf927b1",
   "metadata": {},
   "outputs": [],
   "source": [
    "#  2019\n",
    "filt = (rtt['date'] >= pd.to_datetime('2019-01-01')) & (rtt['date'] <= pd.to_datetime('2019-12-31')) \n",
    "nineteen  = rtt[filt]\n",
    "nineteen = pd.concat([nineteen, esg_esg])\n",
    "nineteen = nineteen.replace(0, np.nan)\n",
    "nineteen = nineteen.replace(np.nan, 0)\n",
    "nah = ['2014_esg','2015_esg','2016_esg','2017_esg','2018_esg','2020_esg','2021_esg']\n",
    "nineteen.drop(index=nah, inplace=True)\n",
    "\n",
    "q_l = nineteen.loc[nineteen.index[-1], 'ADS_G' : 'VWS_D'].quantile(q=0.33)\n",
    "q_h = nineteen.loc[nineteen.index[-1], 'ADS_G' : 'VWS_D'].quantile(q=0.67)\n",
    "I = (nineteen.loc['2019_esg', 'ADS_G':'VWS_D'] <= q_l)\n",
    "Ii = (nineteen.loc['2019_esg', 'ADS_G':'VWS_D'] > q_l) & (nineteen.loc['2019_esg', 'ADS_G':'VWS_D'] <= q_h)\n",
    "Iii = (nineteen.loc['2019_esg', 'ADS_G':'VWS_D'] > q_h)\n",
    "I_sum = I.sum()\n",
    "Ii_sum = Ii.sum() + I_sum\n",
    "Iii_sum = Iii.sum() + Ii_sum"
   ]
  },
  {
   "cell_type": "code",
   "execution_count": 82,
   "id": "86e7bf6d-558d-43c5-af48-2d5cbac77928",
   "metadata": {},
   "outputs": [],
   "source": [
    "nineteen.sort_values(by = '2019_esg', axis = 1, na_position ='first', inplace=True)"
   ]
  },
  {
   "cell_type": "code",
   "execution_count": 83,
   "id": "d3c1278b-4fd4-4daf-bca7-a01ab5f4535e",
   "metadata": {},
   "outputs": [],
   "source": [
    "#  2019\n",
    "# low\n",
    "nineteen = nineteen.iloc[:-1]\n",
    "for i in range(len(nineteen)):\n",
    "     low_p.append(nineteen.iloc[i, 1:I_sum].mean())\n",
    "\n",
    "# mid\n",
    "for i in range(len(nineteen)):\n",
    "     mid_p.append(nineteen.iloc[i, I_sum:Ii_sum].mean())\n",
    "\n",
    "# high\n",
    "for i in range(len(nineteen)):\n",
    "     high_p.append(nineteen.iloc[i, Ii_sum:Iii_sum + 1].mean())"
   ]
  },
  {
   "cell_type": "code",
   "execution_count": 84,
   "id": "61ad3e63-95ff-48ea-bcac-032b9ffa4fa7",
   "metadata": {},
   "outputs": [],
   "source": [
    "#  2020\n",
    "filt = (rtt['date'] >= pd.to_datetime('2020-01-01')) & (rtt['date'] <= pd.to_datetime('2020-12-31')) \n",
    "twenty   = rtt[filt]\n",
    "twenty = pd.concat([twenty, esg_esg])\n",
    "twenty = twenty.replace(0, np.nan)\n",
    "twenty = twenty.replace(np.nan, 0)\n",
    "nah = ['2014_esg','2015_esg','2016_esg','2017_esg','2018_esg','2019_esg','2021_esg']\n",
    "twenty.drop(index=nah, inplace=True)\n",
    "\n",
    "q_l = twenty.loc[twenty.index[-1], 'ADS_G' : 'VWS_D'].quantile(q=0.33)\n",
    "q_h = twenty.loc[twenty.index[-1], 'ADS_G' : 'VWS_D'].quantile(q=0.67)\n",
    "I = (twenty.loc['2020_esg', 'ADS_G':'VWS_D'] <= q_l)\n",
    "Ii = (twenty.loc['2020_esg', 'ADS_G':'VWS_D'] > q_l) & (twenty.loc['2020_esg', 'ADS_G':'VWS_D'] <= q_h)\n",
    "Iii = (twenty.loc['2020_esg', 'ADS_G':'VWS_D'] > q_h)\n",
    "I_sum = I.sum()\n",
    "Ii_sum = Ii.sum() + I_sum\n",
    "Iii_sum = Iii.sum() + Ii_sum"
   ]
  },
  {
   "cell_type": "code",
   "execution_count": 85,
   "id": "9d431332-ea3a-402a-b28c-e1af76e91cce",
   "metadata": {},
   "outputs": [],
   "source": [
    "twenty.sort_values(by = '2020_esg', axis = 1, na_position ='first', inplace=True)"
   ]
  },
  {
   "cell_type": "code",
   "execution_count": 86,
   "id": "d49d0ddc-8491-4188-be14-97829129175c",
   "metadata": {},
   "outputs": [],
   "source": [
    "#  2020\n",
    "# low\n",
    "twenty = twenty.iloc[:-1]\n",
    "for i in range(len(twenty)):\n",
    "     low_p.append(twenty.iloc[i, 1:I_sum].mean())\n",
    "\n",
    "# mid\n",
    "for i in range(len(twenty)):\n",
    "     mid_p.append(twenty.iloc[i, I_sum:Ii_sum].mean())\n",
    "\n",
    "# high\n",
    "for i in range(len(twenty)):\n",
    "     high_p.append(twenty.iloc[i, Ii_sum:Iii_sum + 1].mean())"
   ]
  },
  {
   "cell_type": "code",
   "execution_count": 87,
   "id": "591a3c70-a27e-4947-92fa-cb7cdac1efe7",
   "metadata": {},
   "outputs": [],
   "source": [
    "#  2021\n",
    "filt = (rtt['date'] >= pd.to_datetime('2021-01-01')) & (rtt['date'] <= pd.to_datetime('2021-12-31')) \n",
    "twentyone = rtt[filt]\n",
    "twentyone = pd.concat([twentyone, esg_esg])\n",
    "twentyone = twentyone.replace(0, np.nan)\n",
    "twentyone = twentyone.replace(np.nan, 0)\n",
    "nah = ['2014_esg','2015_esg','2016_esg','2017_esg','2018_esg','2019_esg','2020_esg']\n",
    "twentyone.drop(index=nah, inplace=True)\n",
    "\n",
    "q_l = twentyone.loc[twentyone.index[-1], 'ADS_G' : 'VWS_D'].quantile(q=0.33)\n",
    "q_h = twentyone.loc[twentyone.index[-1], 'ADS_G' : 'VWS_D'].quantile(q=0.67)\n",
    "I = (twentyone.loc['2021_esg', 'ADS_G':'VWS_D'] <= q_l)\n",
    "Ii = (twentyone.loc['2021_esg', 'ADS_G':'VWS_D'] > q_l) & (twentyone.loc['2021_esg', 'ADS_G':'VWS_D'] <= q_h)\n",
    "Iii = (twentyone.loc['2021_esg', 'ADS_G':'VWS_D'] > q_h)\n",
    "I_sum = I.sum()\n",
    "Ii_sum = Ii.sum() + I_sum\n",
    "Iii_sum = Iii.sum() + Ii_sum"
   ]
  },
  {
   "cell_type": "code",
   "execution_count": 88,
   "id": "3dfa580d-1765-458a-a4de-923fe2647787",
   "metadata": {},
   "outputs": [],
   "source": [
    "twentyone.sort_values(by = '2021_esg', axis = 1, na_position ='first', inplace=True)"
   ]
  },
  {
   "cell_type": "code",
   "execution_count": 89,
   "id": "f9bd284d-e91e-4353-a5b4-4e28b165c295",
   "metadata": {},
   "outputs": [],
   "source": [
    "#  2021\n",
    "# low\n",
    "twentyone = twentyone.iloc[:-1]\n",
    "for i in range(len(twentyone)):\n",
    "     low_p.append(twentyone.iloc[i, 1:I_sum].mean())\n",
    "\n",
    "# mid\n",
    "for i in range(len(twentyone)):\n",
    "     mid_p.append(twentyone.iloc[i, I_sum:Ii_sum].mean())\n",
    "\n",
    "# high\n",
    "for i in range(len(twentyone)):\n",
    "     high_p.append(twentyone.iloc[i, Ii_sum:Iii_sum + 1].mean())"
   ]
  },
  {
   "cell_type": "code",
   "execution_count": 90,
   "id": "a4b893a1-dc3f-4762-8479-5e7046453a89",
   "metadata": {},
   "outputs": [],
   "source": [
    "#  2022\n",
    "filt = (rtt['date'] >= pd.to_datetime('2022-01-01')) & (rtt['date'] <= pd.to_datetime('2022-04-02')) \n",
    "twentytwo = rtt[filt]\n",
    "twentytwo = pd.concat([twentytwo, esg_esg])\n",
    "twentytwo = twentytwo.replace(0, np.nan)\n",
    "twentytwo = twentytwo.replace(np.nan, 0)\n",
    "nah = ['2014_esg','2015_esg','2016_esg','2017_esg','2018_esg','2019_esg','2020_esg']\n",
    "twentytwo.drop(index=nah, inplace=True)\n",
    "\n",
    "q_l = twentytwo.loc[twentytwo.index[-1], 'ADS_G' : 'VWS_D'].quantile(q=0.33)\n",
    "q_h = twentytwo.loc[twentytwo.index[-1], 'ADS_G' : 'VWS_D'].quantile(q=0.67)\n",
    "I = (twentytwo.loc['2021_esg', 'ADS_G':'VWS_D'] <= q_l)\n",
    "Ii = (twentytwo.loc['2021_esg', 'ADS_G':'VWS_D'] > q_l) & (twentytwo.loc['2021_esg', 'ADS_G':'VWS_D'] <= q_h)\n",
    "Iii = (twentytwo.loc['2021_esg', 'ADS_G':'VWS_D'] > q_h)\n",
    "I_sum = I.sum()\n",
    "Ii_sum = Ii.sum() + I_sum\n",
    "Iii_sum = Iii.sum() + Ii_sum"
   ]
  },
  {
   "cell_type": "code",
   "execution_count": 91,
   "id": "eb95063f-c7f4-445b-a8ec-45e933aab74b",
   "metadata": {},
   "outputs": [],
   "source": [
    "twentytwo.sort_values(by = '2021_esg', axis = 1, na_position ='first', inplace=True)"
   ]
  },
  {
   "cell_type": "code",
   "execution_count": 92,
   "id": "2be4c6bc-221e-428d-a8cd-223648db13db",
   "metadata": {},
   "outputs": [],
   "source": [
    "#  2022\n",
    "# low\n",
    "twentytwo = twentytwo.iloc[:-1]\n",
    "for i in range(len(twentytwo)):\n",
    "     low_p.append(twentytwo.iloc[i, 1:I_sum].mean())\n",
    "\n",
    "# mid\n",
    "for i in range(len(twentytwo)):\n",
    "     mid_p.append(twentytwo.iloc[i, I_sum:Ii_sum].mean())\n",
    "\n",
    "# high\n",
    "for i in range(len(twentytwo)):\n",
    "     high_p.append(twentytwo.iloc[i, Ii_sum:Iii_sum + 1].mean())"
   ]
  },
  {
   "cell_type": "code",
   "execution_count": 93,
   "id": "cc0240cc-8b6e-4340-b5a6-82fc45245134",
   "metadata": {},
   "outputs": [
    {
     "data": {
      "image/png": "[encoded data removed]",
      "text/plain": [
       "<Figure size 432x288 with 1 Axes>"
      ]
     },
     "metadata": {},
     "output_type": "display_data"
    }
   ],
   "source": [
    "plt.plot(low_p, label = 'low')\n",
    "plt.plot(mid_p, label = 'mid')\n",
    "plt.plot(high_p, label = 'high')\n",
    "plt.legend();"
   ]
  },
  {
   "cell_type": "code",
   "execution_count": 94,
   "id": "26411d26-f382-4cba-a14f-7f4fa1ce82fa",
   "metadata": {},
   "outputs": [],
   "source": [
    "rt['port_low'] = low_p\n",
    "rt['port_mid'] = mid_p\n",
    "rt['port_high'] = high_p"
   ]
  },
  {
   "cell_type": "code",
   "execution_count": 95,
   "id": "ae7ca04c-f033-4cc1-b04d-b3a10644c7c0",
   "metadata": {},
   "outputs": [],
   "source": [
    "rt.to_excel('rt.xlsx')\n",
    "ff.to_excel('ff.xlsx')\n",
    "esg_esg.to_excel('esg_esg.xlsx')"
   ]
  },
  {
   "cell_type": "code",
   "execution_count": 96,
   "id": "e121f050-6b5c-4b25-a02b-ec9db75f2c3d",
   "metadata": {},
   "outputs": [],
   "source": [
    "test = rt.copy()\n",
    "test = test.replace(0, np.nan)\n",
    "test.dropna(how='all', axis='index', thresh=4, inplace=True)\n",
    "test = test.replace(np.nan, 0)\n",
    "tab = test.describe()"
   ]
  },
  {
   "cell_type": "code",
   "execution_count": 97,
   "id": "6adad8a7-9849-4524-82ce-be78a7ec9f48",
   "metadata": {},
   "outputs": [
    {
     "data": {
      "image/png": "[encoded data removed]",
      "text/plain": [
       "<Figure size 432x288 with 1 Axes>"
      ]
     },
     "metadata": {},
     "output_type": "display_data"
    }
   ],
   "source": [
    "plt.plot(tab.loc['mean',:]);"
   ]
  },
  {
   "cell_type": "code",
   "execution_count": 98,
   "id": "54f44169-a70e-4d7d-ad2f-ed95e9a979aa",
   "metadata": {},
   "outputs": [
    {
     "data": {
      "text/plain": [
       "EVO_S      0.21323\n",
       "VWS_D      0.17069\n",
       "SRT3_G     0.15236\n",
       "GMAB_D     0.15066\n",
       "AMBUB_D    0.14433\n",
       "Name: mean, dtype: float64"
      ]
     },
     "execution_count": 98,
     "metadata": {},
     "output_type": "execute_result"
    }
   ],
   "source": [
    "high_r = tab.loc['mean',:].sort_values(ascending=False).tolist()\n",
    "tab.loc['mean',:].sort_values(ascending=False).head()"
   ]
  },
  {
   "cell_type": "code",
   "execution_count": 99,
   "id": "0de7a8f8-a76f-41c5-ad8f-099a30a5f7ed",
   "metadata": {
    "tags": []
   },
   "outputs": [],
   "source": [
    "esg_high_r = esg_esg.loc[:,['EVO_S','VWS_D','SRT3_G','GMAB_D','AMBUB_D','SALM_N','BAKKA_N','DSV_D','TOM_N','BAVA_D' ]].mean().tolist()"
   ]
  },
  {
   "cell_type": "code",
   "execution_count": 100,
   "id": "dd35ad7a-36d5-48ff-9c23-147cae617eed",
   "metadata": {},
   "outputs": [
    {
     "data": {
      "image/png": "[encoded data removed]",
      "text/plain": [
       "<Figure size 432x288 with 1 Axes>"
      ]
     },
     "metadata": {},
     "output_type": "display_data"
    }
   ],
   "source": [
    "plt.scatter(esg_high_r,high_r[:10]);"
   ]
  },
  {
   "cell_type": "code",
   "execution_count": 101,
   "id": "44075a65-3bd1-41c5-ac70-1992ad4d9bed",
   "metadata": {},
   "outputs": [
    {
     "data": {
      "text/plain": [
       "[-0.007577846288507962,\n",
       " -0.0064064096904672555,\n",
       " -0.005931230426752646,\n",
       " -0.0010747911778650062,\n",
       " -0.0003733766893817676,\n",
       " 0.0010157417762705102,\n",
       " 0.0017071686303182874,\n",
       " 0.004610171886979687,\n",
       " 0.004888015296645593,\n",
       " 0.006963521387807491]"
      ]
     },
     "execution_count": 101,
     "metadata": {},
     "output_type": "execute_result"
    }
   ],
   "source": [
    "high_l = tab.loc['mean',:].sort_values(ascending=True).tolist()\n",
    "high_l=high_l[:10]\n",
    "high_l"
   ]
  },
  {
   "cell_type": "code",
   "execution_count": 102,
   "id": "f27512ea-140c-4e6f-93c6-ba4774d0f2f4",
   "metadata": {},
   "outputs": [
    {
     "data": {
      "text/plain": [
       "[43.33820000000001,\n",
       " 45.759975000000004,\n",
       " 45.59904999999999,\n",
       " 47.585762499999994,\n",
       " 51.610749999999996,\n",
       " 62.9300375,\n",
       " 60.69344999999999,\n",
       " 67.94212499999999,\n",
       " 49.638912499999996,\n",
       " 60.41645]"
      ]
     },
     "execution_count": 102,
     "metadata": {},
     "output_type": "execute_result"
    }
   ],
   "source": [
    "esg_high_l = esg_esg.loc[:,['HMB_S','FLS_D','DBK_G','TELIA_S','HEN3_G','BAS_G','ESSITYB_S','BAYN_G','ISS_D','EOAN_G' ]].mean().tolist()\n",
    "esg_high_l"
   ]
  },
  {
   "cell_type": "code",
   "execution_count": 103,
   "id": "a4262326-01ce-4573-afbf-21bf0984beec",
   "metadata": {},
   "outputs": [
    {
     "data": {
      "image/png": "[encoded data removed]",
      "text/plain": [
       "<Figure size 432x288 with 1 Axes>"
      ]
     },
     "metadata": {},
     "output_type": "display_data"
    }
   ],
   "source": [
    "plt.scatter(esg_high_l,high_l);"
   ]
  },
  {
   "cell_type": "code",
   "execution_count": null,
   "id": "294cc990-1ff5-4a61-9510-cc7ed99e681e",
   "metadata": {},
   "outputs": [],
   "source": [
    "esg"
   ]
  },
  {
   "cell_type": "code",
   "execution_count": null,
   "id": "211ff94c-3c66-4d94-8edb-5aa0229f5995",
   "metadata": {},
   "outputs": [],
   "source": [
    "esg.loc[:,['DBK_G_ESG','DBK_G_E','DBK_G_S','DBK_G_G']]"
   ]
  },
  {
   "cell_type": "code",
   "execution_count": null,
   "id": "1fa498df-5bb7-416b-a15d-875fcb90fa57",
   "metadata": {},
   "outputs": [],
   "source": [
    "DANSKE_D"
   ]
  },
  {
   "cell_type": "code",
   "execution_count": null,
   "id": "c45a615b-958f-40ee-8d0a-9ada8d36b24c",
   "metadata": {},
   "outputs": [],
   "source": [
    "esg.loc[:,['DANSKE_D_ESG','DANSKE_D_E','DANSKE_D_S','DANSKE_D_G']]"
   ]
  },
  {
   "cell_type": "code",
   "execution_count": null,
   "id": "946967c3-32fd-46ed-a79f-e79b0150ea03",
   "metadata": {},
   "outputs": [],
   "source": []
  }
 ],
 "metadata": {
  "kernelspec": {
   "display_name": "Python 3 (ipykernel)",
   "language": "python",
   "name": "python3"
  },
  "language_info": {
   "codemirror_mode": {
    "name": "ipython",
    "version": 3
   },
   "file_extension": ".py",
   "mimetype": "text/x-python",
   "name": "python",
   "nbconvert_exporter": "python",
   "pygments_lexer": "ipython3",
   "version": "3.9.7"
  }
 },
 "nbformat": 4,
 "nbformat_minor": 5
}
