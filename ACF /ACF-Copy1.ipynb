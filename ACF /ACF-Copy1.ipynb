{
 "cells": [
  {
   "cell_type": "code",
   "execution_count": 1,
   "id": "d6211b65-44aa-43b5-a4ca-8d8982f88d70",
   "metadata": {},
   "outputs": [],
   "source": [
    "import pandas as pd\n",
    "import numpy as np\n",
    "from IPython.display import display\n",
    "import matplotlib.pyplot as plt\n",
    "import matplotlib.patches as mpatches\n",
    "plt.style.use('seaborn-whitegrid')\n",
    "pd.set_option(\"display.precision\", 5)"
   ]
  },
  {
   "cell_type": "code",
   "execution_count": 2,
   "id": "b845f547-511b-43a2-8695-97e545aa51ab",
   "metadata": {},
   "outputs": [],
   "source": [
    "# magic to reload modules automatically\n",
    "%load_ext autoreload\n",
    "%autoreload 2"
   ]
  },
  {
   "cell_type": "code",
   "execution_count": 3,
   "id": "c5cba90f-ad2a-4a91-80e1-9dc3bed9df8e",
   "metadata": {},
   "outputs": [
    {
     "name": "stdout",
     "output_type": "stream",
     "text": [
      "(2352, 124)\n",
      "(12, 739)\n",
      "(8261, 7)\n"
     ]
    }
   ],
   "source": [
    "ff = pd.read_excel('data/5factors.xlsx')\n",
    "rt = pd.read_excel('data/north.xlsx' , skiprows=3)\n",
    "esg = pd.read_excel('data/north31.xlsx', skiprows=3)\n",
    "print(rt.shape)\n",
    "print(esg.shape)\n",
    "print(ff.shape)"
   ]
  },
  {
   "cell_type": "code",
   "execution_count": 4,
   "id": "089bfb7e-1133-40be-a43c-bd4cc5493b26",
   "metadata": {},
   "outputs": [],
   "source": [
    "pd.set_option('display.max_columns',735) # I want to see all the columns\n",
    "pd.set_option('display.max_rows',735) "
   ]
  },
  {
   "cell_type": "code",
   "execution_count": 5,
   "id": "4a317633-52f7-4648-aca7-114a7a7cfab7",
   "metadata": {},
   "outputs": [],
   "source": [
    "ff.rename(columns = {'Unnamed: 0' : 'date'}, inplace=True)\n",
    "ff['date'] = pd.to_datetime(ff['date'], format='%Y%m%d')\n",
    "filt = (ff['date'] >= pd.to_datetime('2013-04-03')) & (ff['date'] <= pd.to_datetime('2022-02-28'))\n",
    "ff = ff[filt]\n",
    "ff.reset_index(inplace = True, drop = True)"
   ]
  },
  {
   "cell_type": "code",
   "execution_count": 6,
   "id": "ae92cd22-63d3-41c9-9961-495fd7c0830e",
   "metadata": {},
   "outputs": [],
   "source": [
    "rt.drop(index=[0,1,2], inplace=True)\n",
    "rt.reset_index(inplace = True, drop = True) # Drop old index too"
   ]
  },
  {
   "cell_type": "code",
   "execution_count": 7,
   "id": "9db529d7-d553-4cf2-a14f-ba5dbf6612f9",
   "metadata": {},
   "outputs": [],
   "source": [
    "it = rt.copy()\n",
    "it.to_excel('it.xlsx')"
   ]
  },
  {
   "cell_type": "code",
   "execution_count": 8,
   "id": "5c96a395-a5b0-4795-9f2b-3023faed1762",
   "metadata": {},
   "outputs": [],
   "source": [
    "rt.rename(columns={'Unnamed: 0':'date'},inplace = True) \n",
    "xx = ['1COV GY Equity','DTG GY Equity','SINCH SS Equity',\n",
    "                 'SHL GY Equity','NEL NO Equity','DHER GY Equity',\n",
    "                 'HFG GY Equity','LIN GY Equity','NETS DC Equity',\n",
    "                 'DAX Index','OMXS30B Index','OMXC25 Index','OMX Index']\n",
    "drop_these = []\n",
    "for i in xx:\n",
    "    for j in range(1,6):\n",
    "        drop_these.append(i + '.' + str(j))\n",
    "drop_these = xx + drop_these\n",
    "rt.drop(columns=xx, inplace = True)"
   ]
  },
  {
   "cell_type": "code",
   "execution_count": 9,
   "id": "91d7d4bf-daea-497a-8474-082d3f186c99",
   "metadata": {},
   "outputs": [],
   "source": [
    "rt.columns = rt.columns.str.replace(' GY', ' G')\n",
    "rt.columns = rt.columns.str.replace(' SS', ' S')\n",
    "rt.columns = rt.columns.str.replace(' NO', ' N')\n",
    "rt.columns = rt.columns.str.replace(' DC', ' D')\n",
    "rt.columns = rt.columns.str.replace(' Equity', '')\n",
    "rt.columns = rt.columns.str.replace(' ', '_')"
   ]
  },
  {
   "cell_type": "code",
   "execution_count": 10,
   "id": "f9132fcc-4d81-4b8a-ba72-8c73121eb046",
   "metadata": {},
   "outputs": [],
   "source": [
    "rt['date'] = pd.to_datetime(rt['date'])\n",
    "#rt.set_index('date',inplace = True) "
   ]
  },
  {
   "cell_type": "code",
   "execution_count": 11,
   "id": "26727a31-ef6c-4d3d-844e-28a14c4f587f",
   "metadata": {},
   "outputs": [],
   "source": [
    "esg.drop(columns=drop_these,inplace = True) \n",
    "esg.drop(index=[0,2], inplace=True)\n",
    "esg.rename(columns={'Unnamed: 0':'Date'},inplace = True) \n",
    "esg.reset_index(inplace = True, drop = True) "
   ]
  },
  {
   "cell_type": "code",
   "execution_count": 12,
   "id": "771d76cc-211b-46f7-a627-179aabd80490",
   "metadata": {},
   "outputs": [],
   "source": [
    "esg.replace({'ESG_DISCLOSURE_SCORE': 'ESG', 'ENVIRON_DISCLOSURE_SCORE': 'E',\n",
    "             'SOCIAL_DISCLOSURE_SCORE': 'S','GOVNCE_DISCLOSURE_SCORE': 'G',\n",
    "             'HISTORICAL_MARKET_CAP' : 'HMCAP', 'CUR_MKT_CAP': 'MCAP'}, inplace=True)"
   ]
  },
  {
   "cell_type": "code",
   "execution_count": 13,
   "id": "3129ed4f-3a56-4b8a-aaa9-2620c7b0cfac",
   "metadata": {},
   "outputs": [],
   "source": [
    "asg = esg.iloc[1] + ' ' + esg.iloc[0]\n",
    "esg = esg.append(asg, ignore_index=True)\n",
    "esg.loc[10,'Date'] = 'date'\n",
    "nnn = esg.loc[10]\n",
    "esg.rename(columns=nnn, inplace=True)\n",
    "esg.drop(index=[0,1,10], inplace=True)\n",
    "esg.reset_index(inplace = True, drop = True)"
   ]
  },
  {
   "cell_type": "code",
   "execution_count": 14,
   "id": "a3a3f208-fc78-4ae3-92d1-202b134da8e6",
   "metadata": {
    "tags": []
   },
   "outputs": [],
   "source": [
    "esg.columns = esg.columns.str.replace(' GY', ' G')\n",
    "esg.columns = esg.columns.str.replace(' SS', ' S')\n",
    "esg.columns = esg.columns.str.replace(' NO', ' N')\n",
    "esg.columns = esg.columns.str.replace(' DC', ' D')\n",
    "esg.columns = esg.columns.str.replace(' Equity', '')\n",
    "esg.columns = esg.columns.str.replace(' ', '_')\n",
    "esg.set_index('date', inplace=True)"
   ]
  },
  {
   "cell_type": "code",
   "execution_count": 15,
   "id": "563cea68-797a-46d1-980e-6b1f1c80486f",
   "metadata": {},
   "outputs": [],
   "source": [
    "esg_esg = esg.loc[:,'ADS_G_ESG':'VWS_D_ESG']\n",
    "esg_esg.columns = esg_esg.columns.str.replace('_ESG', '')"
   ]
  },
  {
   "cell_type": "code",
   "execution_count": 16,
   "id": "7b994974-cb50-4420-ba1b-ee03d36b981b",
   "metadata": {},
   "outputs": [],
   "source": [
    "for i in rt.columns[1:]:\n",
    "    rt.loc[:,i] = rt.loc[:,i].pct_change(1)*100\n",
    "rt.drop(index=[0], inplace=True)"
   ]
  },
  {
   "cell_type": "code",
   "execution_count": 17,
   "id": "cd563ccc-d25e-4493-9b9e-ae5f0dc9892f",
   "metadata": {},
   "outputs": [],
   "source": [
    "nyind = []\n",
    "for i in esg_esg.index:\n",
    "    nyind.append(str(i)+ '_esg')\n",
    "esg_esg.index = nyind"
   ]
  },
  {
   "cell_type": "code",
   "execution_count": 24,
   "id": "2a38bd0d-d305-435f-963d-3dacd4a70f09",
   "metadata": {},
   "outputs": [
    {
     "data": {
      "text/plain": [
       "Index(['2014_esg', '2015_esg', '2016_esg', '2017_esg', '2018_esg', '2019_esg',\n",
       "       '2020_esg', '2021_esg'],\n",
       "      dtype='object')"
      ]
     },
     "execution_count": 24,
     "metadata": {},
     "output_type": "execute_result"
    }
   ],
   "source": [
    "esg_esg.index"
   ]
  },
  {
   "cell_type": "code",
   "execution_count": 280,
   "id": "1264176c-c73e-44c4-98ff-fbbef6e7b2e5",
   "metadata": {},
   "outputs": [],
   "source": [
    "for i in esg_esg.index:\n",
    "    for year in range(2013, 2023):\n",
    "        \n",
    "        rtt = pd.concat([rt, esg_esg.iloc[i,:]])\n"
   ]
  },
  {
   "cell_type": "code",
   "execution_count": null,
   "id": "584494bd-afb1-431d-b78c-e43b5fc856ff",
   "metadata": {},
   "outputs": [],
   "source": [
    "\n",
    "I_sum = I.sum()\n",
    "Ii_sum = Ii.sum() + I_sum\n",
    "Iii_sum = Iii.sum() + Ii_sum\n",
    "\n",
    "print(Ii_sum)\n",
    "#thirteen.iloc[:, 1:I.sum()]\n",
    "#thirteen.iloc[:, I_sum:Ii_sum]"
   ]
  },
  {
   "cell_type": "code",
   "execution_count": null,
   "id": "3eedac4b-85e2-4d36-8cd8-f1eccfa4d02d",
   "metadata": {},
   "outputs": [],
   "source": [
    "year_dfs = {}\n",
    "\n",
    "for year in range(2013, 2023):\n",
    "    filt = (rtt['date'] >= pd.to_datetime('2014-01-01')) & (rtt['date'] <= pd.to_datetime('2014-12-31')) \n",
    "    fourteen = rtt[filt]\n",
    "    fourteen = pd.concat([fourteen, esg_esg])\n",
    "    fourteen = fourteen.replace(0, np.nan)\n",
    "    fourteen.dropna(how='all', axis='columns', thresh=100, inplace=True)\n",
    "    fourteen = fourteen.replace(np.nan, 0)\n",
    "    fourteen.sort_values(by = '2014_esg', axis = 1, na_position ='first', inplace=True)\n",
    "\n",
    "    #  2014\n",
    "    #. low\n",
    "    fourteen_l = fourteen.loc[196:456,'date':'PUM_G']\n",
    "    for i in fourteen_l.index:\n",
    "         tl_m.append(fourteen_l.loc[i,'AMBUB_D':'PUM_G'].mean())\n",
    "\n",
    "    # mid\n",
    "    fourteen_m = fourteen.loc[196:456,'date':'SKFB_S']\n",
    "    fourteen_m = fourteen_m.loc[:,'DEMANT_D':'SKFB_S']\n",
    "    for i in fourteen_m.index:\n",
    "         tl_mm.append(fourteen_m.loc[i,'DEMANT_D':'SKFB_S'].mean())\n",
    "\n",
    "    # high\n",
    "    fourteen_h = fourteen.loc[196:456,'date':'NHY_N']\n",
    "    fourteen_h = fourteen_h.loc[:,'ORK_N':'NHY_N']\n",
    "    for i in fourteen_h.index:\n",
    "         tl_mmm.append(fourteen_h.loc[i,'ORK_N':'NHY_N'].mean())\n",
    "            \n",
    "    year_dfs[year] = "
   ]
  }
 ],
 "metadata": {
  "kernelspec": {
   "display_name": "Python 3 (ipykernel)",
   "language": "python",
   "name": "python3"
  },
  "language_info": {
   "codemirror_mode": {
    "name": "ipython",
    "version": 3
   },
   "file_extension": ".py",
   "mimetype": "text/x-python",
   "name": "python",
   "nbconvert_exporter": "python",
   "pygments_lexer": "ipython3",
   "version": "3.9.7"
  }
 },
 "nbformat": 4,
 "nbformat_minor": 5
}
