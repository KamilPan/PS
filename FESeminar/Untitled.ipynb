{
 "cells": [
  {
   "cell_type": "code",
   "execution_count": 6,
   "id": "f18547a9-d43a-427d-9fe2-798d3883c1b9",
   "metadata": {},
   "outputs": [
    {
     "name": "stdout",
     "output_type": "stream",
     "text": [
      "Requirement already satisfied: pdfplumber in /Users/kamil/opt/anaconda3/lib/python3.9/site-packages (0.6.2)\n",
      "Requirement already satisfied: pdfminer.six==20220319 in /Users/kamil/opt/anaconda3/lib/python3.9/site-packages (from pdfplumber) (20220319)\n",
      "Requirement already satisfied: Wand>=0.6.7 in /Users/kamil/opt/anaconda3/lib/python3.9/site-packages (from pdfplumber) (0.6.7)\n",
      "Requirement already satisfied: Pillow>=9.1 in /Users/kamil/opt/anaconda3/lib/python3.9/site-packages (from pdfplumber) (9.1.0)\n",
      "Requirement already satisfied: chardet in /Users/kamil/opt/anaconda3/lib/python3.9/site-packages (from pdfminer.six==20220319->pdfplumber) (4.0.0)\n",
      "Requirement already satisfied: cryptography in /Users/kamil/opt/anaconda3/lib/python3.9/site-packages (from pdfminer.six==20220319->pdfplumber) (3.4.8)\n",
      "Requirement already satisfied: cffi>=1.12 in /Users/kamil/opt/anaconda3/lib/python3.9/site-packages (from cryptography->pdfminer.six==20220319->pdfplumber) (1.15.0)\n",
      "Requirement already satisfied: pycparser in /Users/kamil/opt/anaconda3/lib/python3.9/site-packages (from cffi>=1.12->cryptography->pdfminer.six==20220319->pdfplumber) (2.21)\n"
     ]
    }
   ],
   "source": [
    "#!pip install PyPDF2\n",
    "#!pip install pdfplumber"
   ]
  },
  {
   "cell_type": "code",
   "execution_count": 13,
   "id": "5c6072c4-978d-4a13-9073-afc0fb965ec3",
   "metadata": {},
   "outputs": [
    {
     "name": "stdout",
     "output_type": "stream",
     "text": [
      "{'fontname': 'EAAAAA+Roboto-Regular', 'adv': 4.92, 'upright': True, 'x0': 46.256, 'y0': 765.84, 'x1': 51.176, 'y1': 773.84, 'width': 4.920000000000002, 'height': 8.0, 'size': 8.0, 'object_type': 'char', 'page_number': 3, 'text': 'R', 'stroking_color': None, 'non_stroking_color': (0.0039, 0.1059, 0.1686), 'top': 18.159999999999968, 'bottom': 26.159999999999968, 'doctop': 1602.1599999999999}\n"
     ]
    }
   ],
   "source": [
    "import pdfplumber\n",
    "\n",
    "with pdfplumber.open(\"data/world.pdf\") as pdf:\n",
    "    first_page = pdf.pages[2]\n",
    "    print(first_page.chars[2])"
   ]
  },
  {
   "cell_type": "code",
   "execution_count": null,
   "id": "470aa833-f00d-4ce2-bf0e-e1a7109384f2",
   "metadata": {},
   "outputs": [],
   "source": []
  }
 ],
 "metadata": {
  "kernelspec": {
   "display_name": "Python 3 (ipykernel)",
   "language": "python",
   "name": "python3"
  },
  "language_info": {
   "codemirror_mode": {
    "name": "ipython",
    "version": 3
   },
   "file_extension": ".py",
   "mimetype": "text/x-python",
   "name": "python",
   "nbconvert_exporter": "python",
   "pygments_lexer": "ipython3",
   "version": "3.9.7"
  }
 },
 "nbformat": 4,
 "nbformat_minor": 5
}
