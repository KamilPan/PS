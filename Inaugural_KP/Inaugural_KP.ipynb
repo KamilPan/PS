{
 "cells": [
  {
   "cell_type": "markdown",
   "id": "e3d3e33f-1455-4a1d-b687-4829e64bf0c7",
   "metadata": {},
   "source": [
    "We will here work with a benchmark model of insurance policies, Mossin's model.\n",
    "\n",
    "We are dealing with an agent wanting to get an insurance. \n",
    "\n",
    "The agent holds assets **y** and may suffer a monetary loss **x**.\n",
    "For now we assume that the loss is incurred with probability **p**.\n",
    "\n",
    "Utility of assets is given by $u(\\cdot)$.\n",
    "If the agent is not insured, expected value is \n",
    "$$\n",
    "\\begin{aligned}\n",
    "V_{0}=pu(y-x)+(1-p)(y)\n",
    "\\end{aligned}\n",
    "$$\n",
    "\n",
    "The agent may however obtain an insurance contract to mitigate a loss.\n",
    "\n",
    "The contract consists of a coverage amount **q** and a premium $\\pi$.\n",
    "\n",
    "The coverage cannot exceed the loss so $q\\in[0,x]$ and $\\pi$\n",
    "must be paid irrespective of whether a loss was incurred.\n",
    "\n",
    "To not go broke, the insurance company must require higher premium for\n",
    "better coverage.\n",
    "It therefore implements a premium policy \n",
    "$$\n",
    "\\begin{aligned}\n",
    "\\pi(p,q)=pq\n",
    "\\end{aligned}\n",
    "$$\n",
    "An insured agent will thus have expected utility \n",
    "$$\n",
    "\\begin{aligned}\n",
    "V(q;\\pi)=pu(y-x+q-\\pi(p,q))+(1-p)u(y-\\pi(p,q))$\n",
    "\\end{aligned}\n",
    "$$\n",
    "To solve the model numerically, we let $u$ be given by the function \n",
    "$$\n",
    "\\begin{aligned}\n",
    "u(z)=\\frac{z^{1+\\vartheta}}{1+\\vartheta}\n",
    "\\end{aligned}\n",
    "$$\n",
    "And use the following parameterization:\n",
    "\n",
    "$$\n",
    "\\begin{aligned}\n",
    "y=1,\\thinspace\\thinspace p=0.2,\\thinspace\\thinspace\\vartheta=-2\n",
    "\\end{aligned}\n",
    "$$"
   ]
  },
  {
   "cell_type": "code",
   "execution_count": 36,
   "id": "44562529-c049-44ac-a73d-d3290842fc0e",
   "metadata": {},
   "outputs": [],
   "source": [
    "# standard imports\n",
    "import numpy as np\n",
    "from scipy import optimize\n",
    "from scipy.optimize import minimize\n",
    "import matplotlib.pyplot as plt\n",
    "plt.style.use('seaborn-whitegrid')\n",
    "\n",
    "#from inau import * #import everything from py file"
   ]
  },
  {
   "cell_type": "code",
   "execution_count": 37,
   "id": "361128a6-6bd7-4e53-84e1-8f1142e70aac",
   "metadata": {},
   "outputs": [
    {
     "name": "stdout",
     "output_type": "stream",
     "text": [
      "The autoreload extension is already loaded. To reload it, use:\n",
      "  %reload_ext autoreload\n"
     ]
    }
   ],
   "source": [
    "# magic to reload modules automatically\n",
    "%load_ext autoreload\n",
    "%autoreload 2"
   ]
  },
  {
   "cell_type": "markdown",
   "id": "77fadae6-b4ed-438a-be1c-395ac00a851d",
   "metadata": {},
   "source": [
    "**Question 1**\n",
    "\n",
    " Construct a function that takes $(x,y,p)$ as arguments and returns the agents' optimal insurance coverage: \n",
    "\\begin{align}\n",
    "q^{\\star}=\\textrm{argmax}_{q\\in[0,x]}V(q;\\pi)\n",
    "\\end{align}\n",
    "\n",
    "Calculate and plot $q^{\\star}$ for **x** in the range $[0.01,0.9]$.\n",
    "\n",
    "What does the graph suggest about the general solution to the agent's problem?"
   ]
  },
  {
   "cell_type": "code",
   "execution_count": 38,
   "id": "da299361-cf18-4640-9bb1-0b808370a74a",
   "metadata": {},
   "outputs": [],
   "source": [
    "N = 100\n",
    "y = 1\n",
    "p = 0.2\n",
    "vartheta = -2"
   ]
  },
  {
   "cell_type": "code",
   "execution_count": 39,
   "id": "fb735d85-08dd-43e9-b84b-35ababe50b70",
   "metadata": {},
   "outputs": [],
   "source": [
    "def u(z,vartheta=-2):\n",
    "    ''' '''\n",
    "    return (z)**(1+vartheta)/(1+vartheta)"
   ]
  },
  {
   "cell_type": "code",
   "execution_count": 40,
   "id": "c35cd8b0-0ef8-499f-9f4f-c3d1b1ab199f",
   "metadata": {},
   "outputs": [],
   "source": [
    "def prem(p,q):\n",
    "    ''' '''\n",
    "    return p*q"
   ]
  },
  {
   "cell_type": "code",
   "execution_count": 41,
   "id": "8d1e7d69-08ab-4b59-bbeb-2dca41ec7662",
   "metadata": {},
   "outputs": [],
   "source": [
    "def V(x,q,p=0.2,y=1):\n",
    "    ''' '''\n",
    "    return p*u(y-x+q-prem(p,q),vartheta) + (1-p)*u(y-prem(p,q),vartheta)"
   ]
  },
  {
   "cell_type": "code",
   "execution_count": 42,
   "id": "96aa42fd-199e-4f25-8b90-ce0c10a9a246",
   "metadata": {},
   "outputs": [],
   "source": [
    "result = np.zeros(N)\n",
    "xs = np.linspace(0.01,0.9,N)\n",
    "\n",
    "def q_star(x,y,p=0.2):\n",
    "    \n",
    "    '''\n",
    "    function that takes (x, y, p) as arguments and returns the agents’ optimal\n",
    "    insurance coverage\n",
    "    '''\n",
    "    \n",
    "    objective = lambda q: -V(x,q,p,y)\n",
    "    res = optimize.minimize_scalar(objective,bounds=(0,x)\\\n",
    "                                   ,method='bounded')\n",
    "    return res.x\n",
    "\n",
    "# loop\n",
    "result = [q_star(xs[i],y,p) for i in range(N)]"
   ]
  },
  {
   "cell_type": "code",
   "execution_count": 43,
   "id": "ea6c5427-6e48-437b-9f13-302f58ef48d7",
   "metadata": {},
   "outputs": [
    {
     "data": {
      "image/png": "[encoded data removed]",
      "text/plain": [
       "<Figure size 540x360 with 1 Axes>"
      ]
     },
     "metadata": {},
     "output_type": "display_data"
    }
   ],
   "source": [
    "fig = plt.figure(dpi=90) # dpi = dots-per-inch (resolution)\n",
    "ax = fig.add_subplot(1,1,1)\n",
    "ax.plot(result,xs,color='red')\n",
    "ax.set_xlabel('$q$')\n",
    "ax.set_ylabel('$x$')\n",
    "ax.set_title('Solution to the agent’s problem')\n",
    "ax.grid(True)"
   ]
  },
  {
   "cell_type": "markdown",
   "id": "fcaaaaa7-2f07-463f-9373-7a9fc396ae22",
   "metadata": {},
   "source": [
    "Q2"
   ]
  },
  {
   "cell_type": "code",
   "execution_count": 44,
   "id": "6304ba37-5ae1-4a92-92ff-d721ed56dc5d",
   "metadata": {},
   "outputs": [],
   "source": [
    "x = 0.6\n",
    "pi_guess = 0.1\n",
    "\n",
    "# empty grid for q's\n",
    "qs = np.linspace(0.01, 0.6, N)\n",
    "\n",
    "# grid to put the pi's in\n",
    "pi_s = np.zeros(N) "
   ]
  },
  {
   "cell_type": "code",
   "execution_count": 45,
   "id": "f6776a86-1708-4451-b283-0e382c5767da",
   "metadata": {},
   "outputs": [],
   "source": [
    "def v_0(x,q,p,y):\n",
    "    return p*u(y-x,vartheta) + (1-p)*u(y,vartheta)"
   ]
  },
  {
   "cell_type": "code",
   "execution_count": 46,
   "id": "50d5ddc6-5a78-438d-bc0d-9029a70dd678",
   "metadata": {},
   "outputs": [],
   "source": [
    "def V_opt(x,q,p,y,pi):\n",
    "    return (p*u(y-x+q-pi,vartheta) + (1-p)*u(y-pi,vartheta)) - v_0(x,q,p,y)"
   ]
  },
  {
   "cell_type": "code",
   "execution_count": 47,
   "id": "c18eef69-cc70-416d-bbcd-86f2cf67740d",
   "metadata": {},
   "outputs": [],
   "source": [
    "def opt_pi(x,q,p,y):\n",
    "    objective_pi = lambda pi: -V_opt(x,q,p,y,pi)\n",
    "    res_pi = optimize.root(objective_pi,pi_guess,method='hybr')\n",
    "    return res_pi.x\n",
    "\n",
    "# loop\n",
    "pi_s = [opt_pi(x,qs[i],p,y) for i in range(N)]"
   ]
  },
  {
   "cell_type": "code",
   "execution_count": 48,
   "id": "de7cfff9-e41a-4d84-9124-a1fb421bca88",
   "metadata": {},
   "outputs": [],
   "source": [
    "pi_1 = p*qs # pi from Q1"
   ]
  },
  {
   "cell_type": "code",
   "execution_count": 49,
   "id": "7d2d6933-efbd-4545-aa6e-a77a745607ed",
   "metadata": {},
   "outputs": [
    {
     "data": {
      "text/plain": [
       "<matplotlib.legend.Legend at 0x7f9cb976ec10>"
      ]
     },
     "execution_count": 49,
     "metadata": {},
     "output_type": "execute_result"
    },
    {
     "data": {
      "image/png": "[encoded data removed]",
      "text/plain": [
       "<Figure size 540x360 with 1 Axes>"
      ]
     },
     "metadata": {},
     "output_type": "display_data"
    }
   ],
   "source": [
    "fig = plt.figure(dpi=90) # dpi = dots-per-inch (resolution)\n",
    "ax = fig.add_subplot(1,1,1)\n",
    "ax.plot(qs,pi_s,color='red',label='Solved $\\pi$')\n",
    "ax.plot(qs,pi_1,color='blue',label='$\\pi$ from Q1')\n",
    "ax.set_xlabel('$q$')\n",
    "ax.set_ylabel('$\\pi$')\n",
    "ax.set_title('Plot of the acceptable premiums')\n",
    "#ax.fill_between(qs,pi_1,pi_s,color=\"red\", alpha=0.03,label='Feasible premiums')\n",
    "ax.grid(True)\n",
    "ax.legend()"
   ]
  },
  {
   "cell_type": "markdown",
   "id": "4db681da-5293-473b-9017-e20153e3642d",
   "metadata": {},
   "source": [
    "Q3\n",
    "\n",
    "We now consider a modification to the setup where the loss x is drawn from a beta distribution and the coverage q is a fraction of x."
   ]
  },
  {
   "cell_type": "code",
   "execution_count": 50,
   "id": "3c08f3e0-ce02-4deb-8db3-8fe3c786add0",
   "metadata": {},
   "outputs": [],
   "source": [
    "np.random.seed(2022)\n",
    "\n",
    "def MC(gamma,pi,y=1):\n",
    "    X = np.random.beta(a=2,b=7,size=10**4)  #draws 10.000 number of x from a beta distribution \n",
    "    V_3 = u(y - (1-gamma)*X - pi, vartheta)\n",
    "    IP = np.mean(V_3)\n",
    "    return IP"
   ]
  },
  {
   "cell_type": "markdown",
   "id": "150225db-17cd-4e78-a4ff-3e1d46a55189",
   "metadata": {},
   "source": [
    "We consider the two following insurance policies:"
   ]
  },
  {
   "cell_type": "code",
   "execution_count": 51,
   "id": "bc07acd2-0357-4388-abe5-d432b6a6ed8c",
   "metadata": {
    "tags": []
   },
   "outputs": [],
   "source": [
    "IP_1 = MC(gamma=0.9,pi=0.2)\n",
    "IP_2 = MC(gamma=0.45,pi=0.1)"
   ]
  },
  {
   "cell_type": "code",
   "execution_count": 52,
   "id": "2772bcae-d6c1-4d07-8212-dfb117a2cc25",
   "metadata": {},
   "outputs": [
    {
     "name": "stdout",
     "output_type": "stream",
     "text": [
      "gamma = 0.90, pi = 0.2 => V = -1.286645\n",
      "gamma = 0.45, pi = 0.1 => V = -1.301348\n"
     ]
    }
   ],
   "source": [
    "print('gamma = 0.90, pi = 0.2' + ' => ' + f'V = {IP_1:.6f}')\n",
    "print('gamma = 0.45, pi = 0.1' + ' => ' + f'V = {IP_2:.6f}')"
   ]
  },
  {
   "cell_type": "markdown",
   "id": "a4c7fde2-c512-45d1-9252-45c28536c1af",
   "metadata": {},
   "source": [
    "Q4\n",
    "\n",
    "We now consider the situation from the insurance company’s viewpoint. They know the parameters of the loss distribution. Their policy is to let customers set a coverage ratio γ and then return an offer on the premium π to maximize profits."
   ]
  },
  {
   "cell_type": "code",
   "execution_count": 56,
   "id": "1dcfe1e8-18c3-46af-9468-c95bc79aa0ac",
   "metadata": {},
   "outputs": [
    {
     "ename": "IndentationError",
     "evalue": "unexpected indent (3245036264.py, line 4)",
     "output_type": "error",
     "traceback": [
      "\u001b[0;36m  File \u001b[0;32m\"/var/folders/8s/8l_9fhd15sb8_z7736d5fhb00000gn/T/ipykernel_7325/3245036264.py\"\u001b[0;36m, line \u001b[0;32m4\u001b[0m\n\u001b[0;31m    V_4 = u(y - (1-gamma)*X - pi, vartheta) - u(y-X)\u001b[0m\n\u001b[0m    ^\u001b[0m\n\u001b[0;31mIndentationError\u001b[0m\u001b[0;31m:\u001b[0m unexpected indent\n"
     ]
    }
   ],
   "source": [
    "def MC_4(pi,gamma,y=1):\n",
    "   ''' '''\n",
    "    #X = np.random.beta(a=2,b=7,size=10**4)\n",
    "    V_4 = u(y - (1-gamma)*X - pi, vartheta) - u(y-X)\n",
    "    IP_4 = np.mean(V_4)\n",
    "    return IP_4"
   ]
  },
  {
   "cell_type": "code",
   "execution_count": null,
   "id": "5b2a77c5-23bf-44df-9e9f-f20b0109d4a7",
   "metadata": {},
   "outputs": [],
   "source": []
  },
  {
   "cell_type": "code",
   "execution_count": null,
   "id": "694770b0-9b14-42b0-8b4c-a49574850881",
   "metadata": {},
   "outputs": [],
   "source": []
  }
 ],
 "metadata": {
  "kernelspec": {
   "display_name": "Python 3 (ipykernel)",
   "language": "python",
   "name": "python3"
  },
  "language_info": {
   "codemirror_mode": {
    "name": "ipython",
    "version": 3
   },
   "file_extension": ".py",
   "mimetype": "text/x-python",
   "name": "python",
   "nbconvert_exporter": "python",
   "pygments_lexer": "ipython3",
   "version": "3.9.7"
  }
 },
 "nbformat": 4,
 "nbformat_minor": 5
}
