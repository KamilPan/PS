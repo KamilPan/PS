{
 "cells": [
  {
   "cell_type": "markdown",
   "id": "e3d3e33f-1455-4a1d-b687-4829e64bf0c7",
   "metadata": {},
   "source": [
    "We will here work with a benchmark model of insurance policies, Mossin's model.\n",
    "\n",
    "We are dealing with an agent wanting to get an insurance. \n",
    "\n",
    "The agent holds assets **y** and may suffer a monetary loss **x**.\n",
    "For now we assume that the loss is incurred with probability **p**.\n",
    "\n",
    "Utility of assets is given by $u(\\cdot)$.\n",
    "If the agent is not insured, expected value is \n",
    "$$\n",
    "\\begin{aligned}\n",
    "V_{0}=pu(y-x)+(1-p)(y)\n",
    "\\end{aligned}\n",
    "$$\n",
    "\n",
    "The agent may however obtain an insurance contract to mitigate a loss.\n",
    "\n",
    "The contract consists of a coverage amount **q** and a premium $\\pi$.\n",
    "\n",
    "The coverage cannot exceed the loss so $q\\in[0,x]$ and $\\pi$\n",
    "must be paid irrespective of whether a loss was incurred.\n",
    "\n",
    "To not go broke, the insurance company must require higher premium for\n",
    "better coverage.\n",
    "It therefore implements a premium policy \n",
    "$$\n",
    "\\begin{aligned}\n",
    "\\pi(p,q)=pq\n",
    "\\end{aligned}\n",
    "$$\n",
    "An insured agent will thus have expected utility \n",
    "$$\n",
    "\\begin{aligned}\n",
    "V(q;\\pi)=pu(y-x+q-\\pi(p,q))+(1-p)u(y-\\pi(p,q))$\n",
    "\\end{aligned}\n",
    "$$\n",
    "To solve the model numerically, we let $u$ be given by the function \n",
    "$$\n",
    "\\begin{aligned}\n",
    "u(z)=\\frac{z^{1+\\vartheta}}{1+\\vartheta}\n",
    "\\end{aligned}\n",
    "$$\n",
    "And use the following parameterization:\n",
    "\n",
    "$$\n",
    "\\begin{aligned}\n",
    "y=1,\\thinspace\\thinspace p=0.2,\\thinspace\\thinspace\\vartheta=-2\n",
    "\\end{aligned}\n",
    "$$"
   ]
  },
  {
   "cell_type": "code",
   "execution_count": 1,
   "id": "44562529-c049-44ac-a73d-d3290842fc0e",
   "metadata": {},
   "outputs": [],
   "source": [
    "# standard imports\n",
    "import numpy as np\n",
    "from scipy import optimize\n",
    "from scipy.optimize import minimize\n",
    "import matplotlib.pyplot as plt\n",
    "plt.style.use('seaborn-whitegrid')\n",
    "\n",
    "#from inau import * #import everything from py file"
   ]
  },
  {
   "cell_type": "code",
   "execution_count": 2,
   "id": "361128a6-6bd7-4e53-84e1-8f1142e70aac",
   "metadata": {},
   "outputs": [],
   "source": [
    "# magic to reload modules automatically\n",
    "%load_ext autoreload\n",
    "%autoreload 2"
   ]
  },
  {
   "cell_type": "markdown",
   "id": "77fadae6-b4ed-438a-be1c-395ac00a851d",
   "metadata": {},
   "source": [
    "**Question 1**\n",
    "\n",
    " Construct a function that takes $(x,y,p)$ as arguments and returns the agents' optimal insurance coverage: \n",
    "\\begin{align}\n",
    "q^{\\star}=\\textrm{argmax}_{q\\in[0,x]}V(q;\\pi)\n",
    "\\end{align}\n",
    "\n",
    "Calculate and plot $q^{\\star}$ for **x** in the range $[0.01,0.9]$.\n",
    "\n",
    "What does the graph suggest about the general solution to the agent's problem?"
   ]
  },
  {
   "cell_type": "code",
   "execution_count": 3,
   "id": "da299361-cf18-4640-9bb1-0b808370a74a",
   "metadata": {},
   "outputs": [],
   "source": [
    "N = 100\n",
    "y = 1\n",
    "p = 0.2\n",
    "vartheta = -2"
   ]
  },
  {
   "cell_type": "code",
   "execution_count": 4,
   "id": "fb735d85-08dd-43e9-b84b-35ababe50b70",
   "metadata": {},
   "outputs": [],
   "source": [
    "def u(z,vartheta=-2):\n",
    "    ''' '''\n",
    "    return (z)**(1+vartheta)/(1+vartheta)"
   ]
  },
  {
   "cell_type": "code",
   "execution_count": 5,
   "id": "c35cd8b0-0ef8-499f-9f4f-c3d1b1ab199f",
   "metadata": {},
   "outputs": [],
   "source": [
    "def prem(p,q):\n",
    "    ''' '''\n",
    "    return p*q"
   ]
  },
  {
   "cell_type": "code",
   "execution_count": 6,
   "id": "8d1e7d69-08ab-4b59-bbeb-2dca41ec7662",
   "metadata": {},
   "outputs": [],
   "source": [
    "def V(x,q,p=0.2,y=1):\n",
    "    ''' '''\n",
    "    return p*u(y-x+q-prem(p,q),vartheta) + (1-p)*u(y-prem(p,q),vartheta)"
   ]
  },
  {
   "cell_type": "code",
   "execution_count": 7,
   "id": "96aa42fd-199e-4f25-8b90-ce0c10a9a246",
   "metadata": {},
   "outputs": [],
   "source": [
    "result = np.zeros(N)\n",
    "xs = np.linspace(0.01,0.9,N)\n",
    "\n",
    "def q_star(x,y,p=0.2):\n",
    "    \n",
    "    '''\n",
    "    function that takes (x, y, p) as arguments and returns the agents’ optimal\n",
    "    insurance coverage\n",
    "    '''\n",
    "    \n",
    "    objective = lambda q: -V(x,q,p,y)\n",
    "    res = optimize.minimize_scalar(objective,bounds=(0,x)\\\n",
    "                                   ,method='bounded')\n",
    "    return res.x\n",
    "\n",
    "# loop\n",
    "result = [q_star(xs[i],y,p) for i in range(N)]"
   ]
  },
  {
   "cell_type": "code",
   "execution_count": 8,
   "id": "ea6c5427-6e48-437b-9f13-302f58ef48d7",
   "metadata": {},
   "outputs": [
    {
     "data": {
      "image/png": "[encoded data removed]",
      "text/plain": [
       "<Figure size 540x360 with 1 Axes>"
      ]
     },
     "metadata": {},
     "output_type": "display_data"
    }
   ],
   "source": [
    "fig = plt.figure(dpi=90) # dpi = dots-per-inch (resolution)\n",
    "ax = fig.add_subplot(1,1,1)\n",
    "ax.plot(result,xs,color='red')\n",
    "ax.set_xlabel('$q$')\n",
    "ax.set_ylabel('$x$')\n",
    "ax.set_title('Solution to the agent’s problem')\n",
    "ax.grid(True)"
   ]
  },
  {
   "cell_type": "markdown",
   "id": "fcaaaaa7-2f07-463f-9373-7a9fc396ae22",
   "metadata": {},
   "source": [
    "Q2"
   ]
  },
  {
   "cell_type": "code",
   "execution_count": 9,
   "id": "6304ba37-5ae1-4a92-92ff-d721ed56dc5d",
   "metadata": {},
   "outputs": [],
   "source": [
    "x = 0.6\n",
    "pi_guess = 0.1\n",
    "\n",
    "# empty grid for q's\n",
    "qs = np.linspace(0.01, 0.6, N)\n",
    "\n",
    "# grid to put the pi's in\n",
    "pi_s = np.zeros(N) "
   ]
  },
  {
   "cell_type": "code",
   "execution_count": 10,
   "id": "f6776a86-1708-4451-b283-0e382c5767da",
   "metadata": {},
   "outputs": [],
   "source": [
    "def v_0(x,q,p,y):\n",
    "    return p*u(y-x,vartheta) + (1-p)*u(y,vartheta)"
   ]
  },
  {
   "cell_type": "code",
   "execution_count": 11,
   "id": "50d5ddc6-5a78-438d-bc0d-9029a70dd678",
   "metadata": {},
   "outputs": [],
   "source": [
    "def V_opt(x,q,p,y,pi):\n",
    "    return (p*u(y-x+q-pi,vartheta) + (1-p)*u(y-pi,vartheta)) - v_0(x,q,p,y)"
   ]
  },
  {
   "cell_type": "code",
   "execution_count": 12,
   "id": "c18eef69-cc70-416d-bbcd-86f2cf67740d",
   "metadata": {},
   "outputs": [],
   "source": [
    "def opt_pi(x,q,p,y):\n",
    "    objective_pi = lambda pi: -V_opt(x,q,p,y,pi)\n",
    "    res_pi = optimize.root(objective_pi,pi_guess,method='hybr')\n",
    "    return res_pi.x\n",
    "\n",
    "# loop\n",
    "pi_s = [opt_pi(x,qs[i],p,y) for i in range(N)]"
   ]
  },
  {
   "cell_type": "code",
   "execution_count": 13,
   "id": "de7cfff9-e41a-4d84-9124-a1fb421bca88",
   "metadata": {},
   "outputs": [],
   "source": [
    "pi_1 = p*qs # pi from Q1"
   ]
  },
  {
   "cell_type": "code",
   "execution_count": 39,
   "id": "7d2d6933-efbd-4545-aa6e-a77a745607ed",
   "metadata": {},
   "outputs": [
    {
     "ename": "ValueError",
     "evalue": "'y2' is not 1-dimensional",
     "output_type": "error",
     "traceback": [
      "\u001b[0;31m---------------------------------------------------------------------------\u001b[0m",
      "\u001b[0;31mValueError\u001b[0m                                Traceback (most recent call last)",
      "\u001b[0;32m/var/folders/9t/t33bfxsj7vdf3w2lcnszpmg00000gn/T/ipykernel_6077/3854254831.py\u001b[0m in \u001b[0;36m<module>\u001b[0;34m\u001b[0m\n\u001b[1;32m      2\u001b[0m \u001b[0max\u001b[0m \u001b[0;34m=\u001b[0m \u001b[0mfig\u001b[0m\u001b[0;34m.\u001b[0m\u001b[0madd_subplot\u001b[0m\u001b[0;34m(\u001b[0m\u001b[0;36m1\u001b[0m\u001b[0;34m,\u001b[0m\u001b[0;36m1\u001b[0m\u001b[0;34m,\u001b[0m\u001b[0;36m1\u001b[0m\u001b[0;34m)\u001b[0m\u001b[0;34m\u001b[0m\u001b[0;34m\u001b[0m\u001b[0m\n\u001b[1;32m      3\u001b[0m \u001b[0max\u001b[0m\u001b[0;34m.\u001b[0m\u001b[0mplot\u001b[0m\u001b[0;34m(\u001b[0m\u001b[0mqs\u001b[0m\u001b[0;34m,\u001b[0m\u001b[0mpi_s\u001b[0m\u001b[0;34m,\u001b[0m\u001b[0mcolor\u001b[0m\u001b[0;34m=\u001b[0m\u001b[0;34m'red'\u001b[0m\u001b[0;34m,\u001b[0m\u001b[0mlabel\u001b[0m\u001b[0;34m=\u001b[0m\u001b[0;34m'Solved $\\pi$'\u001b[0m\u001b[0;34m)\u001b[0m\u001b[0;34m\u001b[0m\u001b[0;34m\u001b[0m\u001b[0m\n\u001b[0;32m----> 4\u001b[0;31m \u001b[0max\u001b[0m\u001b[0;34m.\u001b[0m\u001b[0mfill_between\u001b[0m\u001b[0;34m(\u001b[0m\u001b[0mqs\u001b[0m\u001b[0;34m,\u001b[0m\u001b[0mpi_1\u001b[0m\u001b[0;34m,\u001b[0m\u001b[0mpi_s\u001b[0m\u001b[0;34m,\u001b[0m\u001b[0mcolor\u001b[0m\u001b[0;34m=\u001b[0m\u001b[0;34m\"red\"\u001b[0m\u001b[0;34m,\u001b[0m \u001b[0malpha\u001b[0m\u001b[0;34m=\u001b[0m\u001b[0;36m0.03\u001b[0m\u001b[0;34m,\u001b[0m\u001b[0mlabel\u001b[0m\u001b[0;34m=\u001b[0m\u001b[0;34m'Feasible premiums'\u001b[0m\u001b[0;34m)\u001b[0m\u001b[0;34m\u001b[0m\u001b[0;34m\u001b[0m\u001b[0m\n\u001b[0m\u001b[1;32m      5\u001b[0m \u001b[0max\u001b[0m\u001b[0;34m.\u001b[0m\u001b[0mplot\u001b[0m\u001b[0;34m(\u001b[0m\u001b[0mqs\u001b[0m\u001b[0;34m,\u001b[0m\u001b[0mpi_1\u001b[0m\u001b[0;34m,\u001b[0m\u001b[0mcolor\u001b[0m\u001b[0;34m=\u001b[0m\u001b[0;34m'blue'\u001b[0m\u001b[0;34m,\u001b[0m\u001b[0mlabel\u001b[0m\u001b[0;34m=\u001b[0m\u001b[0;34m'$\\pi$ from Q1'\u001b[0m\u001b[0;34m)\u001b[0m\u001b[0;34m\u001b[0m\u001b[0;34m\u001b[0m\u001b[0m\n\u001b[1;32m      6\u001b[0m \u001b[0max\u001b[0m\u001b[0;34m.\u001b[0m\u001b[0mset_xlabel\u001b[0m\u001b[0;34m(\u001b[0m\u001b[0;34m'$q$'\u001b[0m\u001b[0;34m)\u001b[0m\u001b[0;34m\u001b[0m\u001b[0;34m\u001b[0m\u001b[0m\n",
      "\u001b[0;32m~/opt/anaconda3/lib/python3.9/site-packages/matplotlib/__init__.py\u001b[0m in \u001b[0;36minner\u001b[0;34m(ax, data, *args, **kwargs)\u001b[0m\n\u001b[1;32m   1359\u001b[0m     \u001b[0;32mdef\u001b[0m \u001b[0minner\u001b[0m\u001b[0;34m(\u001b[0m\u001b[0max\u001b[0m\u001b[0;34m,\u001b[0m \u001b[0;34m*\u001b[0m\u001b[0margs\u001b[0m\u001b[0;34m,\u001b[0m \u001b[0mdata\u001b[0m\u001b[0;34m=\u001b[0m\u001b[0;32mNone\u001b[0m\u001b[0;34m,\u001b[0m \u001b[0;34m**\u001b[0m\u001b[0mkwargs\u001b[0m\u001b[0;34m)\u001b[0m\u001b[0;34m:\u001b[0m\u001b[0;34m\u001b[0m\u001b[0;34m\u001b[0m\u001b[0m\n\u001b[1;32m   1360\u001b[0m         \u001b[0;32mif\u001b[0m \u001b[0mdata\u001b[0m \u001b[0;32mis\u001b[0m \u001b[0;32mNone\u001b[0m\u001b[0;34m:\u001b[0m\u001b[0;34m\u001b[0m\u001b[0;34m\u001b[0m\u001b[0m\n\u001b[0;32m-> 1361\u001b[0;31m             \u001b[0;32mreturn\u001b[0m \u001b[0mfunc\u001b[0m\u001b[0;34m(\u001b[0m\u001b[0max\u001b[0m\u001b[0;34m,\u001b[0m \u001b[0;34m*\u001b[0m\u001b[0mmap\u001b[0m\u001b[0;34m(\u001b[0m\u001b[0msanitize_sequence\u001b[0m\u001b[0;34m,\u001b[0m \u001b[0margs\u001b[0m\u001b[0;34m)\u001b[0m\u001b[0;34m,\u001b[0m \u001b[0;34m**\u001b[0m\u001b[0mkwargs\u001b[0m\u001b[0;34m)\u001b[0m\u001b[0;34m\u001b[0m\u001b[0;34m\u001b[0m\u001b[0m\n\u001b[0m\u001b[1;32m   1362\u001b[0m \u001b[0;34m\u001b[0m\u001b[0m\n\u001b[1;32m   1363\u001b[0m         \u001b[0mbound\u001b[0m \u001b[0;34m=\u001b[0m \u001b[0mnew_sig\u001b[0m\u001b[0;34m.\u001b[0m\u001b[0mbind\u001b[0m\u001b[0;34m(\u001b[0m\u001b[0max\u001b[0m\u001b[0;34m,\u001b[0m \u001b[0;34m*\u001b[0m\u001b[0margs\u001b[0m\u001b[0;34m,\u001b[0m \u001b[0;34m**\u001b[0m\u001b[0mkwargs\u001b[0m\u001b[0;34m)\u001b[0m\u001b[0;34m\u001b[0m\u001b[0;34m\u001b[0m\u001b[0m\n",
      "\u001b[0;32m~/opt/anaconda3/lib/python3.9/site-packages/matplotlib/axes/_axes.py\u001b[0m in \u001b[0;36mfill_between\u001b[0;34m(self, x, y1, y2, where, interpolate, step, **kwargs)\u001b[0m\n\u001b[1;32m   5384\u001b[0m     def fill_between(self, x, y1, y2=0, where=None, interpolate=False,\n\u001b[1;32m   5385\u001b[0m                      step=None, **kwargs):\n\u001b[0;32m-> 5386\u001b[0;31m         return self._fill_between_x_or_y(\n\u001b[0m\u001b[1;32m   5387\u001b[0m             \u001b[0;34m\"x\"\u001b[0m\u001b[0;34m,\u001b[0m \u001b[0mx\u001b[0m\u001b[0;34m,\u001b[0m \u001b[0my1\u001b[0m\u001b[0;34m,\u001b[0m \u001b[0my2\u001b[0m\u001b[0;34m,\u001b[0m\u001b[0;34m\u001b[0m\u001b[0;34m\u001b[0m\u001b[0m\n\u001b[1;32m   5388\u001b[0m             where=where, interpolate=interpolate, step=step, **kwargs)\n",
      "\u001b[0;32m~/opt/anaconda3/lib/python3.9/site-packages/matplotlib/axes/_axes.py\u001b[0m in \u001b[0;36m_fill_between_x_or_y\u001b[0;34m(self, ind_dir, ind, dep1, dep2, where, interpolate, step, **kwargs)\u001b[0m\n\u001b[1;32m   5297\u001b[0m                 (ind_dir, ind), (f\"{dep_dir}1\", dep1), (f\"{dep_dir}2\", dep2)]:\n\u001b[1;32m   5298\u001b[0m             \u001b[0;32mif\u001b[0m \u001b[0marray\u001b[0m\u001b[0;34m.\u001b[0m\u001b[0mndim\u001b[0m \u001b[0;34m>\u001b[0m \u001b[0;36m1\u001b[0m\u001b[0;34m:\u001b[0m\u001b[0;34m\u001b[0m\u001b[0;34m\u001b[0m\u001b[0m\n\u001b[0;32m-> 5299\u001b[0;31m                 \u001b[0;32mraise\u001b[0m \u001b[0mValueError\u001b[0m\u001b[0;34m(\u001b[0m\u001b[0;34mf\"{name!r} is not 1-dimensional\"\u001b[0m\u001b[0;34m)\u001b[0m\u001b[0;34m\u001b[0m\u001b[0;34m\u001b[0m\u001b[0m\n\u001b[0m\u001b[1;32m   5300\u001b[0m \u001b[0;34m\u001b[0m\u001b[0m\n\u001b[1;32m   5301\u001b[0m         \u001b[0;32mif\u001b[0m \u001b[0mwhere\u001b[0m \u001b[0;32mis\u001b[0m \u001b[0;32mNone\u001b[0m\u001b[0;34m:\u001b[0m\u001b[0;34m\u001b[0m\u001b[0;34m\u001b[0m\u001b[0m\n",
      "\u001b[0;31mValueError\u001b[0m: 'y2' is not 1-dimensional"
     ]
    },
    {
     "data": {
      "image/png": "[encoded data removed]",
      "text/plain": [
       "<Figure size 540x360 with 1 Axes>"
      ]
     },
     "metadata": {},
     "output_type": "display_data"
    }
   ],
   "source": [
    "fig = plt.figure(dpi=90) # dpi = dots-per-inch (resolution)\n",
    "ax = fig.add_subplot(1,1,1)\n",
    "ax.plot(qs,pi_s,color='red',label='Solved $\\pi$')\n",
    "#ax.fill_between(qs,pi_1,pi_s,color=\"red\", alpha=0.03,label='Feasible premiums')\n",
    "ax.plot(qs,pi_1,color='blue',label='$\\pi$ from Q1')\n",
    "ax.set_xlabel('$q$')\n",
    "ax.set_ylabel('$\\pi$')\n",
    "ax.set_title('Plot of the acceptable premiums')\n",
    "ax.grid(True)\n",
    "ax.legend()"
   ]
  },
  {
   "cell_type": "markdown",
   "id": "4db681da-5293-473b-9017-e20153e3642d",
   "metadata": {},
   "source": [
    "Q3\n",
    "\n",
    "We now consider a modification to the setup where the loss x is drawn from a beta distribution and the coverage q is a fraction of x."
   ]
  },
  {
   "cell_type": "code",
   "execution_count": 28,
   "id": "3c08f3e0-ce02-4deb-8db3-8fe3c786add0",
   "metadata": {},
   "outputs": [],
   "source": [
    "np.random.seed(2022)\n",
    "\n",
    "def MC(gamma,pi,y=1):\n",
    "    X = np.random.beta(a=2,b=7,size=10**4)  #draws 10.000 number of x from a beta distribution \n",
    "    V_3 = u(y - (1-gamma)*X - pi, vartheta)\n",
    "    IP = np.mean(V_3)\n",
    "    return IP"
   ]
  },
  {
   "cell_type": "markdown",
   "id": "150225db-17cd-4e78-a4ff-3e1d46a55189",
   "metadata": {},
   "source": [
    "We consider the two following insurance policies:"
   ]
  },
  {
   "cell_type": "code",
   "execution_count": 29,
   "id": "bc07acd2-0357-4388-abe5-d432b6a6ed8c",
   "metadata": {
    "tags": []
   },
   "outputs": [],
   "source": [
    "IP_1 = MC(gamma=0.9,pi=0.2)\n",
    "IP_2 = MC(gamma=0.45,pi=0.1)"
   ]
  },
  {
   "cell_type": "code",
   "execution_count": 30,
   "id": "2772bcae-d6c1-4d07-8212-dfb117a2cc25",
   "metadata": {},
   "outputs": [
    {
     "name": "stdout",
     "output_type": "stream",
     "text": [
      "gamma = 0.90, pi = 0.2 => V = -1.286645\n",
      "gamma = 0.45, pi = 0.1 => V = -1.301348\n"
     ]
    }
   ],
   "source": [
    "print('gamma = 0.90, pi = 0.2' + ' => ' + f'V = {IP_1:.6f}')\n",
    "print('gamma = 0.45, pi = 0.1' + ' => ' + f'V = {IP_2:.6f}')"
   ]
  },
  {
   "cell_type": "markdown",
   "id": "a4c7fde2-c512-45d1-9252-45c28536c1af",
   "metadata": {},
   "source": [
    "Q4\n",
    "\n",
    "We now consider the situation from the insurance company’s viewpoint. They know the parameters of the loss distribution. Their policy is to let customers set a coverage ratio γ and then return an offer on the premium π to maximize profits."
   ]
  },
  {
   "cell_type": "code",
   "execution_count": 36,
   "id": "1dcfe1e8-18c3-46af-9468-c95bc79aa0ac",
   "metadata": {},
   "outputs": [],
   "source": [
    "def MC_4(pi,gamma,y=1):\n",
    "    #X = np.random.beta(a=2,b=7,size=10**4)\n",
    "    V_4 = u(y - (1-gamma)*X - pi, vartheta) - u(y-X, vartheta)\n",
    "    IP_4 = np.mean(V_4)\n",
    "    return IP_4"
   ]
  },
  {
   "cell_type": "code",
   "execution_count": 37,
   "id": "5b2a77c5-23bf-44df-9e9f-f20b0109d4a7",
   "metadata": {},
   "outputs": [],
   "source": [
    "def opt_pi4(pi,gamma=0.95,y=1):\n",
    "    obj4 = lambda pi: -MC_4(pi,gamma=0.95,y=1)\n",
    "    res4 = optimize.root(obj4,0.2,method='broyden1')\n",
    "    pi_4 = res4.x\n",
    "    return pi_4"
   ]
  },
  {
   "cell_type": "code",
   "execution_count": null,
   "id": "a52591b7-b790-4a51-afb7-6c71424fd237",
   "metadata": {},
   "outputs": [],
   "source": []
  },
  {
   "cell_type": "code",
   "execution_count": null,
   "id": "5a6b98ef-1919-49ba-829e-52d2351adb11",
   "metadata": {},
   "outputs": [],
   "source": []
  }
 ],
 "metadata": {
  "kernelspec": {
   "display_name": "Python 3 (ipykernel)",
   "language": "python",
   "name": "python3"
  },
  "language_info": {
   "codemirror_mode": {
    "name": "ipython",
    "version": 3
   },
   "file_extension": ".py",
   "mimetype": "text/x-python",
   "name": "python",
   "nbconvert_exporter": "python",
   "pygments_lexer": "ipython3",
   "version": "3.9.7"
  }
 },
 "nbformat": 4,
 "nbformat_minor": 5
}
