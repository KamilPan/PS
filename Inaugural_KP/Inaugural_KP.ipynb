{
 "cells": [
  {
   "cell_type": "markdown",
   "id": "e3d3e33f-1455-4a1d-b687-4829e64bf0c7",
   "metadata": {},
   "source": [
    "bnds = (,(0,x))\n",
    "\n",
    "We will here work with a benchmark model of insurance policies, Mossin's model.\n",
    "\n",
    "We are dealing with an agent wanting to get an insurance. \n",
    "\n",
    "The agent holds assets **y** and may suffer a monetary loss **x**.\n",
    "For now we assume that the loss is incurred with probability **p**.\n",
    "\n",
    "Utility of assets is given by $u(\\cdot)$.\n",
    "If the agent is not insured, expected value is \n",
    "$$\n",
    "\\begin{aligned}\n",
    "V_{0}=pu(y-x)+(1-p)(y)\n",
    "\\end{aligned}\n",
    "$$\n",
    "\n",
    "The agent may however obtain an insurance contract to mitigate a loss.\n",
    "\n",
    "The contract consists of a coverage amount **q** and a premium $\\pi$.\n",
    "\n",
    "The coverage cannot exceed the loss so $q\\in[0,x]$ and $\\pi$\n",
    "must be paid irrespective of whether a loss was incurred.\n",
    "\n",
    "To not go broke, the insurance company must require higher premium for\n",
    "better coverage.\n",
    "It therefore implements a premium policy \n",
    "$$\n",
    "\\begin{aligned}\n",
    "\\pi(p,q)=pq\n",
    "\\end{aligned}\n",
    "$$\n",
    "An insured agent will thus have expected utility \n",
    "$$\n",
    "\\begin{aligned}\n",
    "V(q;\\pi)=pu(y-x+q-\\pi(p,q))+(1-p)u(y-\\pi(p,q))$\n",
    "\\end{aligned}\n",
    "$$\n",
    "To solve the model numerically, we let $u$ be given by the function \n",
    "$$\n",
    "\\begin{aligned}\n",
    "u(z)=\\frac{z^{1+\\vartheta}}{1+\\vartheta}\n",
    "\\end{aligned}\n",
    "$$\n",
    "And use the following parameterization:\n",
    "\n",
    "$$\n",
    "\\begin{aligned}\n",
    "y=1,\\thinspace\\thinspace p=0.2,\\thinspace\\thinspace\\vartheta=-2\n",
    "\\end{aligned}\n",
    "$$"
   ]
  },
  {
   "cell_type": "code",
   "execution_count": 145,
   "id": "44562529-c049-44ac-a73d-d3290842fc0e",
   "metadata": {},
   "outputs": [
    {
     "name": "stdout",
     "output_type": "stream",
     "text": [
      "The autoreload extension is already loaded. To reload it, use:\n",
      "  %reload_ext autoreload\n"
     ]
    }
   ],
   "source": [
    "# magic to reload modules automatically\n",
    "%load_ext autoreload\n",
    "%autoreload 2\n",
    "\n",
    "# standard imports\n",
    "import numpy as np\n",
    "from scipy import optimize\n",
    "from scipy.optimize import minimize\n",
    "import matplotlib.pyplot as plt\n",
    "plt.style.use('seaborn-whitegrid')"
   ]
  },
  {
   "cell_type": "code",
   "execution_count": 146,
   "id": "515424aa-8f66-4bb7-a4b9-93b654157fe5",
   "metadata": {},
   "outputs": [],
   "source": [
    "def u(z,vartheta):\n",
    "    return (z)**(1+vartheta)/(1+vartheta)"
   ]
  },
  {
   "cell_type": "code",
   "execution_count": 147,
   "id": "debb1e87-5723-4387-b559-ed4906b4f1f9",
   "metadata": {},
   "outputs": [],
   "source": [
    "def prem(p,q):\n",
    "    return p*q"
   ]
  },
  {
   "cell_type": "code",
   "execution_count": 148,
   "id": "8bce7e78-6b1a-4871-bfab-937e2171b6e2",
   "metadata": {},
   "outputs": [],
   "source": [
    "def V(x,q,p,y):\n",
    "    return p*u(y-x+q-prem(p,q),vartheta) + (1-p)*u(y-prem(p,q),vartheta)"
   ]
  },
  {
   "cell_type": "code",
   "execution_count": 149,
   "id": "06f278fa-5b2b-4278-95b8-c339c3688e49",
   "metadata": {},
   "outputs": [],
   "source": [
    "#Parameters\n",
    "y = 1\n",
    "p = 0.2\n",
    "vartheta = -2\n",
    "N = 100"
   ]
  },
  {
   "cell_type": "markdown",
   "id": "77fadae6-b4ed-438a-be1c-395ac00a851d",
   "metadata": {},
   "source": [
    "**Question 1**\n",
    "\n",
    " Construct a function that takes $(x,y,p)$ as arguments and returns the agents' optimal insurance coverage: \n",
    "\\begin{align}\n",
    "q^{\\star}=\\textrm{argmax}_{q\\in[0,x]}V(q;\\pi)\n",
    "\\end{align}\n",
    "\n",
    "Calculate and plot $q^{\\star}$ for **x** in the range $[0.01,0.9]$.\n",
    "\n",
    "What does the graph suggest about the general solution to the agent's problem?"
   ]
  },
  {
   "cell_type": "code",
   "execution_count": 150,
   "id": "96aa42fd-199e-4f25-8b90-ce0c10a9a246",
   "metadata": {},
   "outputs": [],
   "source": [
    "result = np.zeros(N)\n",
    "xs = np.linspace(0.01,0.9,N)\n",
    "\n",
    "def q_star(x,y,p):\n",
    "    objective = lambda q: -V(x,q,p,y)\n",
    "    res = optimize.minimize_scalar(objective,bounds=(0,x)\\\n",
    "                                   ,method='bounded')\n",
    "    return res.x\n",
    "\n",
    "# loop\n",
    "result = [q_star(xs[i],y,p) for i in range(N)]\n",
    "pi_1 = xs*result #needed for graph in Q2"
   ]
  },
  {
   "cell_type": "code",
   "execution_count": 151,
   "id": "ea6c5427-6e48-437b-9f13-302f58ef48d7",
   "metadata": {},
   "outputs": [
    {
     "data": {
      "image/png": "[encoded data removed]",
      "text/plain": [
       "<Figure size 540x360 with 1 Axes>"
      ]
     },
     "metadata": {},
     "output_type": "display_data"
    }
   ],
   "source": [
    "fig = plt.figure(dpi=90) # dpi = dots-per-inch (resolution)\n",
    "ax = fig.add_subplot(1,1,1)\n",
    "ax.plot(result,xs,color='red')\n",
    "ax.set_xlabel('$q$')\n",
    "ax.set_ylabel('$x$')\n",
    "ax.set_title('Solution to the agent’s problem')\n",
    "ax.grid(True)"
   ]
  },
  {
   "cell_type": "markdown",
   "id": "fcaaaaa7-2f07-463f-9373-7a9fc396ae22",
   "metadata": {},
   "source": [
    "Q2"
   ]
  },
  {
   "cell_type": "code",
   "execution_count": 152,
   "id": "6304ba37-5ae1-4a92-92ff-d721ed56dc5d",
   "metadata": {},
   "outputs": [],
   "source": [
    "x = 0.6\n",
    "pi_guess = 0.1\n",
    "\n",
    "# empty grid for q's\n",
    "qs = np.linspace(0.01, 0.6, N)\n",
    "\n",
    "# grid to put the pi's in\n",
    "pi_s = np.zeros(N) "
   ]
  },
  {
   "cell_type": "code",
   "execution_count": 153,
   "id": "f6776a86-1708-4451-b283-0e382c5767da",
   "metadata": {},
   "outputs": [],
   "source": [
    "def v_0(x,q,p,y):\n",
    "    return p*u(y-x,vartheta) + (1-p)*u(y,vartheta)"
   ]
  },
  {
   "cell_type": "code",
   "execution_count": 154,
   "id": "50d5ddc6-5a78-438d-bc0d-9029a70dd678",
   "metadata": {},
   "outputs": [],
   "source": [
    "def V_opt(x,q,p,y,pi):\n",
    "    return (p*u(y-x+q-pi,vartheta) + (1-p)*u(y-pi,vartheta)) - v_0(x,q,p,y)"
   ]
  },
  {
   "cell_type": "code",
   "execution_count": 155,
   "id": "c18eef69-cc70-416d-bbcd-86f2cf67740d",
   "metadata": {},
   "outputs": [],
   "source": [
    "def opt_pi(x,q,p,y):\n",
    "    objective_pi = lambda pi: -V_opt(x,q,p,y,pi)\n",
    "    res_pi = optimize.root(objective_pi,pi_guess,method='hybr')\n",
    "    return res_pi.x\n",
    "\n",
    "# loop\n",
    "pi_s = [opt_pi(x,qs[i],p,y) for i in range(N)]"
   ]
  },
  {
   "cell_type": "code",
   "execution_count": 156,
   "id": "7d2d6933-efbd-4545-aa6e-a77a745607ed",
   "metadata": {},
   "outputs": [
    {
     "data": {
      "image/png": "[encoded data removed]",
      "text/plain": [
       "<Figure size 540x360 with 1 Axes>"
      ]
     },
     "metadata": {},
     "output_type": "display_data"
    }
   ],
   "source": [
    "fig = plt.figure(dpi=90) # dpi = dots-per-inch (resolution)\n",
    "ax = fig.add_subplot(1,1,1)\n",
    "ax.plot(qs,pi_s,color='red',label='Solved $\\pi$')\n",
    "ax.plot(qs,pi_1,color='blue',label='$\\pi$ from Q1')\n",
    "ax.set_xlabel('$q$')\n",
    "ax.set_ylabel('$\\pi$')\n",
    "ax.set_title('Plot of the acceptable premiums')\n",
    "ax.grid(True)\n",
    "ax.legend();"
   ]
  },
  {
   "cell_type": "markdown",
   "id": "4db681da-5293-473b-9017-e20153e3642d",
   "metadata": {},
   "source": [
    "Q3\n",
    "\n",
    "We now consider a modification to the setup where the loss x is drawn from a beta distribution and the coverage q is a fraction of x."
   ]
  },
  {
   "cell_type": "code",
   "execution_count": 199,
   "id": "44f597f7-8724-420d-9766-68f86262f2da",
   "metadata": {},
   "outputs": [],
   "source": [
    "def u(z,vartheta):\n",
    "    return (z)**(1+vartheta)/(1+vartheta)"
   ]
  },
  {
   "cell_type": "code",
   "execution_count": 200,
   "id": "7450a32b-0f04-42ec-81be-df1e9dd82d3f",
   "metadata": {},
   "outputs": [],
   "source": [
    "def V_3(gamma,pi):\n",
    "    return u(y-(1-gamma)*x-pi,vartheta)*f_x"
   ]
  },
  {
   "cell_type": "code",
   "execution_count": 216,
   "id": "3c08f3e0-ce02-4deb-8db3-8fe3c786add0",
   "metadata": {},
   "outputs": [],
   "source": [
    "N = 10000\n",
    "y = 1\n",
    "p = 0.2\n",
    "vartheta = -2\n",
    "np.random.seed(2022)\n",
    "def MC(gamma,pi,y,p,N):\n",
    "    x = np.random.beta(2,7,size=10000)  #draws 10.000 number of x from a beta distribution\n",
    "    f_x = beta.pdf(x,2,7)\n",
    "    #x = xs.rvs(size=N)\n",
    "    return np.mean(V_3(gamma,pi)) # apply g to X"
   ]
  },
  {
   "cell_type": "code",
   "execution_count": 198,
   "id": "b0abff5c-442c-4f11-9a9a-d585728a8095",
   "metadata": {},
   "outputs": [
    {
     "ename": "SyntaxError",
     "evalue": "positional argument follows keyword argument (4243690423.py, line 1)",
     "output_type": "error",
     "traceback": [
      "\u001b[0;36m  File \u001b[0;32m\"/var/folders/8s/8l_9fhd15sb8_z7736d5fhb00000gn/T/ipykernel_3969/4243690423.py\"\u001b[0;36m, line \u001b[0;32m1\u001b[0m\n\u001b[0;31m    MC(gamma=0.9,pi=0.2,y,p,N))\u001b[0m\n\u001b[0m                             ^\u001b[0m\n\u001b[0;31mSyntaxError\u001b[0m\u001b[0;31m:\u001b[0m positional argument follows keyword argument\n"
     ]
    }
   ],
   "source": [
    "MC(gamma=0.9,pi=0.2,y,p,N))"
   ]
  },
  {
   "cell_type": "code",
   "execution_count": null,
   "id": "5665cd49-6aea-4767-aed3-4a528b43a54a",
   "metadata": {},
   "outputs": [],
   "source": []
  }
 ],
 "metadata": {
  "kernelspec": {
   "display_name": "Python 3 (ipykernel)",
   "language": "python",
   "name": "python3"
  },
  "language_info": {
   "codemirror_mode": {
    "name": "ipython",
    "version": 3
   },
   "file_extension": ".py",
   "mimetype": "text/x-python",
   "name": "python",
   "nbconvert_exporter": "python",
   "pygments_lexer": "ipython3",
   "version": "3.9.7"
  }
 },
 "nbformat": 4,
 "nbformat_minor": 5
}
