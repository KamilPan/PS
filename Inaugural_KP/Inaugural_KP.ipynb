{
 "cells": [
  {
   "cell_type": "markdown",
   "id": "e3d3e33f-1455-4a1d-b687-4829e64bf0c7",
   "metadata": {},
   "source": [
    "bnds = (,(0,x))\n",
    "\n",
    "We will here work with a benchmark model of insurance policies, Mossin's model.\n",
    "\n",
    "We are dealing with an agent wanting to get an insurance. \n",
    "\n",
    "The agent holds assets **y** and may suffer a monetary loss **x**.\n",
    "For now we assume that the loss is incurred with probability **p**.\n",
    "\n",
    "Utility of assets is given by $u(\\cdot)$.\n",
    "If the agent is not insured, expected value is \n",
    "$$\n",
    "\\begin{aligned}\n",
    "V_{0}=pu(y-x)+(1-p)(y)\n",
    "\\end{aligned}\n",
    "$$\n",
    "\n",
    "The agent may however obtain an insurance contract to mitigate a loss.\n",
    "\n",
    "The contract consists of a coverage amount **q** and a premium $\\pi$.\n",
    "\n",
    "The coverage cannot exceed the loss so $q\\in[0,x]$ and $\\pi$\n",
    "must be paid irrespective of whether a loss was incurred.\n",
    "\n",
    "To not go broke, the insurance company must require higher premium for\n",
    "better coverage.\n",
    "It therefore implements a premium policy \n",
    "$$\n",
    "\\begin{aligned}\n",
    "\\pi(p,q)=pq\n",
    "\\end{aligned}\n",
    "$$\n",
    "An insured agent will thus have expected utility \n",
    "$$\n",
    "\\begin{aligned}\n",
    "V(q;\\pi)=pu(y-x+q-\\pi(p,q))+(1-p)u(y-\\pi(p,q))$\n",
    "\\end{aligned}\n",
    "$$\n",
    "To solve the model numerically, we let $u$ be given by the function \n",
    "$$\n",
    "\\begin{aligned}\n",
    "u(z)=\\frac{z^{1+\\vartheta}}{1+\\vartheta}\n",
    "\\end{aligned}\n",
    "$$\n",
    "And use the following parameterization:\n",
    "\n",
    "$$\n",
    "\\begin{aligned}\n",
    "y=1,\\thinspace\\thinspace p=0.2,\\thinspace\\thinspace\\vartheta=-2\n",
    "\\end{aligned}\n",
    "$$"
   ]
  },
  {
   "cell_type": "code",
   "execution_count": 89,
   "id": "44562529-c049-44ac-a73d-d3290842fc0e",
   "metadata": {},
   "outputs": [
    {
     "name": "stdout",
     "output_type": "stream",
     "text": [
      "The autoreload extension is already loaded. To reload it, use:\n",
      "  %reload_ext autoreload\n"
     ]
    }
   ],
   "source": [
    "# magic to reload modules automatically\n",
    "%load_ext autoreload\n",
    "%autoreload 2\n",
    "\n",
    "# standard imports\n",
    "import numpy as np\n",
    "from scipy import optimize\n",
    "from scipy.optimize import minimize\n",
    "import matplotlib.pyplot as plt\n",
    "plt.style.use('seaborn-whitegrid')"
   ]
  },
  {
   "cell_type": "code",
   "execution_count": 90,
   "id": "515424aa-8f66-4bb7-a4b9-93b654157fe5",
   "metadata": {},
   "outputs": [],
   "source": [
    "def u(z,vartheta):\n",
    "        return (z)**(1+vartheta)/(1+vartheta)"
   ]
  },
  {
   "cell_type": "code",
   "execution_count": 102,
   "id": "8bce7e78-6b1a-4871-bfab-937e2171b6e2",
   "metadata": {},
   "outputs": [],
   "source": [
    "def v_0(p,u,y,x):\n",
    "    return p*u(y-x) + (1-p)*y\n",
    "\n",
    "def v(p,u,y,x,q):\n",
    "    pi =p*q\n",
    "    return p*u(y-x+q-pi) + (1-p)*u(y-pi)\n"
   ]
  },
  {
   "cell_type": "markdown",
   "id": "77fadae6-b4ed-438a-be1c-395ac00a851d",
   "metadata": {},
   "source": [
    "**Question 1**\n",
    "\n",
    " Construct a function that takes $(x,y,p)$ as arguments and returns the agents' optimal insurance coverage: \n",
    "\\begin{align}\n",
    "q^{\\star}=\\textrm{argmax}_{q\\in[0,x]}V(q;\\pi)\n",
    "\\end{align}\n",
    "\n",
    "Calculate and plot $q^{\\star}$ for **x** in the range $[0.01,0.9]$.\n",
    "\n",
    "What does the graph suggest about the general solution to the agent's problem?"
   ]
  },
  {
   "cell_type": "code",
   "execution_count": 93,
   "id": "c8328005-7b6e-457e-b198-e3fc7344e63a",
   "metadata": {},
   "outputs": [],
   "source": [
    "y = 1\n",
    "p = 0.2\n",
    "vartheta = -2"
   ]
  },
  {
   "cell_type": "code",
   "execution_count": 98,
   "id": "ff074c00-7ef6-4b92-8327-c99000c0c0eb",
   "metadata": {},
   "outputs": [],
   "source": [
    "#def objective(v):\n",
    "    #x = v[0]\n",
    "    #q = v[1]\n",
    "    #pi = p*q\n",
    "    #return -(p*u(y-x+q-pi) + (1-p)*u(y-pi))  \n",
    "\n",
    "#b1 = (0,None)\n",
    "#b2 = (0,x)\n",
    "#bounds = (b1,b2)\n",
    "#constrain = {'type': 'ineq', 'fun': const1(v)}\n",
    "#x0 = [0.2,0.2]\n",
    "#sol = minimize(objective,x0,method='SLSQ',bounds=bnds)"
   ]
  },
  {
   "cell_type": "code",
   "execution_count": 112,
   "id": "96aa42fd-199e-4f25-8b90-ce0c10a9a246",
   "metadata": {},
   "outputs": [
    {
     "ename": "TypeError",
     "evalue": "'function' object is not subscriptable",
     "output_type": "error",
     "traceback": [
      "\u001b[0;31m---------------------------------------------------------------------------\u001b[0m",
      "\u001b[0;31mTypeError\u001b[0m                                 Traceback (most recent call last)",
      "\u001b[0;32m/var/folders/8s/8l_9fhd15sb8_z7736d5fhb00000gn/T/ipykernel_31849/1754950709.py\u001b[0m in \u001b[0;36m<module>\u001b[0;34m\u001b[0m\n\u001b[1;32m      2\u001b[0m \u001b[0;32mdef\u001b[0m \u001b[0mu\u001b[0m\u001b[0;34m(\u001b[0m\u001b[0mz\u001b[0m\u001b[0;34m,\u001b[0m\u001b[0mvartheta\u001b[0m\u001b[0;34m)\u001b[0m\u001b[0;34m:\u001b[0m\u001b[0;34m\u001b[0m\u001b[0;34m\u001b[0m\u001b[0m\n\u001b[1;32m      3\u001b[0m     \u001b[0;32mreturn\u001b[0m \u001b[0;34m(\u001b[0m\u001b[0mz\u001b[0m\u001b[0;34m)\u001b[0m\u001b[0;34m**\u001b[0m\u001b[0;34m(\u001b[0m\u001b[0;36m1\u001b[0m\u001b[0;34m+\u001b[0m\u001b[0mvartheta\u001b[0m\u001b[0;34m)\u001b[0m\u001b[0;34m/\u001b[0m\u001b[0;34m(\u001b[0m\u001b[0;36m1\u001b[0m\u001b[0;34m+\u001b[0m\u001b[0mvartheta\u001b[0m\u001b[0;34m)\u001b[0m\u001b[0;34m\u001b[0m\u001b[0;34m\u001b[0m\u001b[0m\n\u001b[0;32m----> 4\u001b[0;31m \u001b[0mx\u001b[0m \u001b[0;34m=\u001b[0m \u001b[0mv\u001b[0m\u001b[0;34m[\u001b[0m\u001b[0;36m0\u001b[0m\u001b[0;34m]\u001b[0m\u001b[0;34m\u001b[0m\u001b[0;34m\u001b[0m\u001b[0m\n\u001b[0m\u001b[1;32m      5\u001b[0m \u001b[0mq\u001b[0m \u001b[0;34m=\u001b[0m \u001b[0mv\u001b[0m\u001b[0;34m[\u001b[0m\u001b[0;36m1\u001b[0m\u001b[0;34m]\u001b[0m\u001b[0;34m\u001b[0m\u001b[0;34m\u001b[0m\u001b[0m\n\u001b[1;32m      6\u001b[0m \u001b[0mpi\u001b[0m \u001b[0;34m=\u001b[0m \u001b[0mp\u001b[0m\u001b[0;34m*\u001b[0m\u001b[0mq\u001b[0m\u001b[0;34m\u001b[0m\u001b[0;34m\u001b[0m\u001b[0m\n",
      "\u001b[0;31mTypeError\u001b[0m: 'function' object is not subscriptable"
     ]
    }
   ],
   "source": [
    "objective = lambda v: -(p*u(y-v[0]+v[1]-pi) + (1-p)*u(y-pi))\n",
    "x = v[0]\n",
    "q = v[1]\n",
    "pi = p*q\n",
    "cons = {'type': 'ineq', 'fun': lambda x: v[0]-v[1]}\n",
    "b1 = (0,None)\n",
    "b2 = (0,v[0])\n",
    "bnds = (b1,b2)\n",
    "res = minimize(objective,(0.2,0.2),bounds=bnds,constrains=cons)\n",
    "    "
   ]
  },
  {
   "cell_type": "code",
   "execution_count": null,
   "id": "79e81308-1520-4afe-86c8-f002046d5070",
   "metadata": {},
   "outputs": [],
   "source": []
  }
 ],
 "metadata": {
  "kernelspec": {
   "display_name": "Python 3 (ipykernel)",
   "language": "python",
   "name": "python3"
  },
  "language_info": {
   "codemirror_mode": {
    "name": "ipython",
    "version": 3
   },
   "file_extension": ".py",
   "mimetype": "text/x-python",
   "name": "python",
   "nbconvert_exporter": "python",
   "pygments_lexer": "ipython3",
   "version": "3.9.7"
  }
 },
 "nbformat": 4,
 "nbformat_minor": 5
}
