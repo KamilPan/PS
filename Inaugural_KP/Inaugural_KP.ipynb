{
 "cells": [
  {
   "cell_type": "markdown",
   "id": "e3d3e33f-1455-4a1d-b687-4829e64bf0c7",
   "metadata": {},
   "source": [
    "We will here work with a benchmark model of insurance policies, Mossin's model.\n",
    "\n",
    "We are dealing with an agent wanting to get an insurance. \n",
    "\n",
    "The agent holds assets **y** and may suffer a monetary loss **x**.\n",
    "For now we assume that the loss is incurred with probability **p**.\n",
    "\n",
    "Utility of assets is given by $u(\\cdot)$.\n",
    "If the agent is not insured, expected value is \n",
    "$$\n",
    "\\begin{aligned}\n",
    "V_{0}=pu(y-x)+(1-p)(y)\n",
    "\\end{aligned}\n",
    "$$\n",
    "\n",
    "The agent may however obtain an insurance contract to mitigate a loss.\n",
    "\n",
    "The contract consists of a coverage amount **q** and a premium $\\pi$.\n",
    "\n",
    "The coverage cannot exceed the loss so $q\\in[0,x]$ and $\\pi$\n",
    "must be paid irrespective of whether a loss was incurred.\n",
    "\n",
    "To not go broke, the insurance company must require higher premium for\n",
    "better coverage.\n",
    "It therefore implements a premium policy \n",
    "$$\n",
    "\\begin{aligned}\n",
    "\\pi(p,q)=pq\n",
    "\\end{aligned}\n",
    "$$\n",
    "An insured agent will thus have expected utility \n",
    "$$\n",
    "\\begin{aligned}\n",
    "V(q;\\pi)=pu(y-x+q-\\pi(p,q))+(1-p)u(y-\\pi(p,q))$\n",
    "\\end{aligned}\n",
    "$$\n",
    "To solve the model numerically, we let $u$ be given by the function \n",
    "$$\n",
    "\\begin{aligned}\n",
    "u(z)=\\frac{z^{1+\\vartheta}}{1+\\vartheta}\n",
    "\\end{aligned}\n",
    "$$\n",
    "And use the following parameterization:\n",
    "\n",
    "$$\n",
    "\\begin{aligned}\n",
    "y=1,\\thinspace\\thinspace p=0.2,\\thinspace\\thinspace\\vartheta=-2\n",
    "\\end{aligned}\n",
    "$$"
   ]
  },
  {
   "cell_type": "code",
   "execution_count": 1,
   "id": "515424aa-8f66-4bb7-a4b9-93b654157fe5",
   "metadata": {},
   "outputs": [],
   "source": [
    "def utility(z):\n",
    "    return(z**(1+vartheta)/(1+vartheta))"
   ]
  },
  {
   "cell_type": "code",
   "execution_count": 2,
   "id": "8bce7e78-6b1a-4871-bfab-937e2171b6e2",
   "metadata": {},
   "outputs": [],
   "source": [
    "def v_0(p,u,y,x):\n",
    "    return(p*u(y-x) + (1-p)*y)"
   ]
  },
  {
   "cell_type": "markdown",
   "id": "77fadae6-b4ed-438a-be1c-395ac00a851d",
   "metadata": {},
   "source": [
    "**Question 1**\n",
    "\n",
    " Construct a function that takes $(x,y,p)$ as arguments and returns the agents' optimal insurance coverage: \n",
    "\\begin{align}\n",
    "q^{\\star}=\\textrm{argmax}_{q\\in[0,x]}V(q;\\pi)\n",
    "\\end{align}\n",
    "\n",
    "Calculate and plot $q^{\\star}$ for **x** in the range $[0.01,0.9]$.\n",
    "\n",
    "What does the graph suggest about the general solution to the agent's problem?"
   ]
  },
  {
   "cell_type": "code",
   "execution_count": null,
   "id": "c8328005-7b6e-457e-b198-e3fc7344e63a",
   "metadata": {},
   "outputs": [],
   "source": [
    "def coverage(x,y,p):\n",
    "    V_0 = p*u(y-x) + (1-p)*y\n",
    "    np.argmax"
   ]
  }
 ],
 "metadata": {
  "kernelspec": {
   "display_name": "Python 3 (ipykernel)",
   "language": "python",
   "name": "python3"
  },
  "language_info": {
   "codemirror_mode": {
    "name": "ipython",
    "version": 3
   },
   "file_extension": ".py",
   "mimetype": "text/x-python",
   "name": "python",
   "nbconvert_exporter": "python",
   "pygments_lexer": "ipython3",
   "version": "3.9.7"
  }
 },
 "nbformat": 4,
 "nbformat_minor": 5
}
